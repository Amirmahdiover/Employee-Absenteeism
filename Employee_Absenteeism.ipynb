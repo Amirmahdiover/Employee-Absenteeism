{
 "cells": [
  {
   "cell_type": "markdown",
   "source": [
    " # Employee Absenteeism\n",
    "This project develops a predictive model for employee absenteeism using data cleaning, visualization, and machine learning techniques, aiming to provide actionable insights for reducing workplace absenteeism."
   ],
   "metadata": {
    "collapsed": false
   },
   "id": "11f4b364218cba84"
  },
  {
   "cell_type": "markdown",
   "source": [
    "## Importing Libraries"
   ],
   "metadata": {
    "collapsed": false
   },
   "id": "fcd8d17a55f08a30"
  },
  {
   "cell_type": "code",
   "execution_count": 107,
   "id": "initial_id",
   "metadata": {
    "collapsed": true,
    "ExecuteTime": {
     "end_time": "2024-09-12T10:28:22.967554Z",
     "start_time": "2024-09-12T10:28:22.963894Z"
    }
   },
   "outputs": [],
   "source": [
    "import numpy as np\n",
    "import pandas as pd\n",
    "import matplotlib.pyplot as plt\n",
    "import seaborn as sns\n",
    "\n",
    "sns.set()"
   ]
  },
  {
   "cell_type": "markdown",
   "source": [],
   "metadata": {
    "collapsed": false
   },
   "id": "bab7bee41f13d59c"
  },
  {
   "cell_type": "markdown",
   "source": [
    "## Loading the Dataset"
   ],
   "metadata": {
    "collapsed": false
   },
   "id": "61e84d23fe0c4e6"
  },
  {
   "cell_type": "code",
   "outputs": [
    {
     "data": {
      "text/plain": "     ID  Reason for Absence        Date  Transportation Expense  \\\n0    11                  26  07/07/2015                     289   \n1    36                   0  14/07/2015                     118   \n2     3                  23  15/07/2015                     179   \n3     7                   7  16/07/2015                     279   \n4    11                  23  23/07/2015                     289   \n..   ..                 ...         ...                     ...   \n695  17                  10  23/05/2018                     179   \n696  28                   6  23/05/2018                     225   \n697  18                  10  24/05/2018                     330   \n698  25                  23  24/05/2018                     235   \n699  15                  28  31/05/2018                     291   \n\n     Distance to Work  Age  Daily Work Load Average  Body Mass Index  \\\n0                  36   33                  239.554               30   \n1                  13   50                  239.554               31   \n2                  51   38                  239.554               31   \n3                   5   39                  239.554               24   \n4                  36   33                  239.554               30   \n..                ...  ...                      ...              ...   \n695                22   40                  237.656               22   \n696                26   28                  237.656               24   \n697                16   28                  237.656               25   \n698                16   32                  237.656               25   \n699                31   40                  237.656               25   \n\n     Education  Children  Pets  Absenteeism Time in Hours  \n0            1         2     1                          4  \n1            1         1     0                          0  \n2            1         0     0                          2  \n3            1         2     0                          4  \n4            1         2     1                          2  \n..         ...       ...   ...                        ...  \n695          2         2     0                          8  \n696          1         1     2                          3  \n697          2         0     0                          8  \n698          3         0     0                          2  \n699          1         1     1                          2  \n\n[700 rows x 12 columns]",
      "text/html": "<div>\n<style scoped>\n    .dataframe tbody tr th:only-of-type {\n        vertical-align: middle;\n    }\n\n    .dataframe tbody tr th {\n        vertical-align: top;\n    }\n\n    .dataframe thead th {\n        text-align: right;\n    }\n</style>\n<table border=\"1\" class=\"dataframe\">\n  <thead>\n    <tr style=\"text-align: right;\">\n      <th></th>\n      <th>ID</th>\n      <th>Reason for Absence</th>\n      <th>Date</th>\n      <th>Transportation Expense</th>\n      <th>Distance to Work</th>\n      <th>Age</th>\n      <th>Daily Work Load Average</th>\n      <th>Body Mass Index</th>\n      <th>Education</th>\n      <th>Children</th>\n      <th>Pets</th>\n      <th>Absenteeism Time in Hours</th>\n    </tr>\n  </thead>\n  <tbody>\n    <tr>\n      <th>0</th>\n      <td>11</td>\n      <td>26</td>\n      <td>07/07/2015</td>\n      <td>289</td>\n      <td>36</td>\n      <td>33</td>\n      <td>239.554</td>\n      <td>30</td>\n      <td>1</td>\n      <td>2</td>\n      <td>1</td>\n      <td>4</td>\n    </tr>\n    <tr>\n      <th>1</th>\n      <td>36</td>\n      <td>0</td>\n      <td>14/07/2015</td>\n      <td>118</td>\n      <td>13</td>\n      <td>50</td>\n      <td>239.554</td>\n      <td>31</td>\n      <td>1</td>\n      <td>1</td>\n      <td>0</td>\n      <td>0</td>\n    </tr>\n    <tr>\n      <th>2</th>\n      <td>3</td>\n      <td>23</td>\n      <td>15/07/2015</td>\n      <td>179</td>\n      <td>51</td>\n      <td>38</td>\n      <td>239.554</td>\n      <td>31</td>\n      <td>1</td>\n      <td>0</td>\n      <td>0</td>\n      <td>2</td>\n    </tr>\n    <tr>\n      <th>3</th>\n      <td>7</td>\n      <td>7</td>\n      <td>16/07/2015</td>\n      <td>279</td>\n      <td>5</td>\n      <td>39</td>\n      <td>239.554</td>\n      <td>24</td>\n      <td>1</td>\n      <td>2</td>\n      <td>0</td>\n      <td>4</td>\n    </tr>\n    <tr>\n      <th>4</th>\n      <td>11</td>\n      <td>23</td>\n      <td>23/07/2015</td>\n      <td>289</td>\n      <td>36</td>\n      <td>33</td>\n      <td>239.554</td>\n      <td>30</td>\n      <td>1</td>\n      <td>2</td>\n      <td>1</td>\n      <td>2</td>\n    </tr>\n    <tr>\n      <th>...</th>\n      <td>...</td>\n      <td>...</td>\n      <td>...</td>\n      <td>...</td>\n      <td>...</td>\n      <td>...</td>\n      <td>...</td>\n      <td>...</td>\n      <td>...</td>\n      <td>...</td>\n      <td>...</td>\n      <td>...</td>\n    </tr>\n    <tr>\n      <th>695</th>\n      <td>17</td>\n      <td>10</td>\n      <td>23/05/2018</td>\n      <td>179</td>\n      <td>22</td>\n      <td>40</td>\n      <td>237.656</td>\n      <td>22</td>\n      <td>2</td>\n      <td>2</td>\n      <td>0</td>\n      <td>8</td>\n    </tr>\n    <tr>\n      <th>696</th>\n      <td>28</td>\n      <td>6</td>\n      <td>23/05/2018</td>\n      <td>225</td>\n      <td>26</td>\n      <td>28</td>\n      <td>237.656</td>\n      <td>24</td>\n      <td>1</td>\n      <td>1</td>\n      <td>2</td>\n      <td>3</td>\n    </tr>\n    <tr>\n      <th>697</th>\n      <td>18</td>\n      <td>10</td>\n      <td>24/05/2018</td>\n      <td>330</td>\n      <td>16</td>\n      <td>28</td>\n      <td>237.656</td>\n      <td>25</td>\n      <td>2</td>\n      <td>0</td>\n      <td>0</td>\n      <td>8</td>\n    </tr>\n    <tr>\n      <th>698</th>\n      <td>25</td>\n      <td>23</td>\n      <td>24/05/2018</td>\n      <td>235</td>\n      <td>16</td>\n      <td>32</td>\n      <td>237.656</td>\n      <td>25</td>\n      <td>3</td>\n      <td>0</td>\n      <td>0</td>\n      <td>2</td>\n    </tr>\n    <tr>\n      <th>699</th>\n      <td>15</td>\n      <td>28</td>\n      <td>31/05/2018</td>\n      <td>291</td>\n      <td>31</td>\n      <td>40</td>\n      <td>237.656</td>\n      <td>25</td>\n      <td>1</td>\n      <td>1</td>\n      <td>1</td>\n      <td>2</td>\n    </tr>\n  </tbody>\n</table>\n<p>700 rows × 12 columns</p>\n</div>"
     },
     "execution_count": 108,
     "metadata": {},
     "output_type": "execute_result"
    }
   ],
   "source": [
    "with open('Absenteeism-data.csv') as r:\n",
    "    raw_csv_file = pd.read_csv(r, delimiter=',')\n",
    "raw_csv_file"
   ],
   "metadata": {
    "collapsed": false,
    "ExecuteTime": {
     "end_time": "2024-09-12T10:28:24.532512Z",
     "start_time": "2024-09-12T10:28:24.521411Z"
    }
   },
   "id": "e9509f3890ad036f",
   "execution_count": 108
  },
  {
   "cell_type": "code",
   "outputs": [],
   "source": [
    "fData = raw_csv_file.copy()"
   ],
   "metadata": {
    "collapsed": false,
    "ExecuteTime": {
     "end_time": "2024-09-12T10:28:24.573284Z",
     "start_time": "2024-09-12T10:28:24.570858Z"
    }
   },
   "id": "706350508dd5f9d6",
   "execution_count": 109
  },
  {
   "cell_type": "markdown",
   "source": [],
   "metadata": {
    "collapsed": false
   },
   "id": "e3be0b4b32289ace"
  },
  {
   "cell_type": "markdown",
   "source": [
    "## Initial Inspection"
   ],
   "metadata": {
    "collapsed": false
   },
   "id": "7a1b0bbd74cbee70"
  },
  {
   "cell_type": "code",
   "outputs": [
    {
     "data": {
      "text/plain": "pandas.core.frame.DataFrame"
     },
     "execution_count": 110,
     "metadata": {},
     "output_type": "execute_result"
    }
   ],
   "source": [
    "type(fData)"
   ],
   "metadata": {
    "collapsed": false,
    "ExecuteTime": {
     "end_time": "2024-09-12T10:28:24.638144Z",
     "start_time": "2024-09-12T10:28:24.635211Z"
    }
   },
   "id": "385b5cf827393a81",
   "execution_count": 110
  },
  {
   "cell_type": "code",
   "outputs": [
    {
     "data": {
      "text/plain": "Index(['ID', 'Reason for Absence', 'Date', 'Transportation Expense',\n       'Distance to Work', 'Age', 'Daily Work Load Average', 'Body Mass Index',\n       'Education', 'Children', 'Pets', 'Absenteeism Time in Hours'],\n      dtype='object')"
     },
     "execution_count": 111,
     "metadata": {},
     "output_type": "execute_result"
    }
   ],
   "source": [
    "fData.columns"
   ],
   "metadata": {
    "collapsed": false,
    "ExecuteTime": {
     "end_time": "2024-09-12T10:28:24.738165Z",
     "start_time": "2024-09-12T10:28:24.734917Z"
    }
   },
   "id": "d7c19d05a89e3d27",
   "execution_count": 111
  },
  {
   "cell_type": "code",
   "outputs": [
    {
     "data": {
      "text/plain": "               ID  Reason for Absence  Transportation Expense  \\\ncount  700.000000          700.000000              700.000000   \nmean    17.951429           19.411429              222.347143   \nstd     11.028144            8.356292               66.312960   \nmin      1.000000            0.000000              118.000000   \n25%      9.000000           13.000000              179.000000   \n50%     18.000000           23.000000              225.000000   \n75%     28.000000           27.000000              260.000000   \nmax     36.000000           28.000000              388.000000   \n\n       Distance to Work         Age  Daily Work Load Average  Body Mass Index  \\\ncount        700.000000  700.000000               700.000000       700.000000   \nmean          29.892857   36.417143               271.801774        26.737143   \nstd           14.804446    6.379083                40.021804         4.254701   \nmin            5.000000   27.000000               205.917000        19.000000   \n25%           16.000000   31.000000               241.476000        24.000000   \n50%           26.000000   37.000000               264.249000        25.000000   \n75%           50.000000   40.000000               294.217000        31.000000   \nmax           52.000000   58.000000               378.884000        38.000000   \n\n        Education    Children        Pets  Absenteeism Time in Hours  \ncount  700.000000  700.000000  700.000000                 700.000000  \nmean     1.282857    1.021429    0.687143                   6.761429  \nstd      0.668090    1.112215    1.166095                  12.670082  \nmin      1.000000    0.000000    0.000000                   0.000000  \n25%      1.000000    0.000000    0.000000                   2.000000  \n50%      1.000000    1.000000    0.000000                   3.000000  \n75%      1.000000    2.000000    1.000000                   8.000000  \nmax      4.000000    4.000000    8.000000                 120.000000  ",
      "text/html": "<div>\n<style scoped>\n    .dataframe tbody tr th:only-of-type {\n        vertical-align: middle;\n    }\n\n    .dataframe tbody tr th {\n        vertical-align: top;\n    }\n\n    .dataframe thead th {\n        text-align: right;\n    }\n</style>\n<table border=\"1\" class=\"dataframe\">\n  <thead>\n    <tr style=\"text-align: right;\">\n      <th></th>\n      <th>ID</th>\n      <th>Reason for Absence</th>\n      <th>Transportation Expense</th>\n      <th>Distance to Work</th>\n      <th>Age</th>\n      <th>Daily Work Load Average</th>\n      <th>Body Mass Index</th>\n      <th>Education</th>\n      <th>Children</th>\n      <th>Pets</th>\n      <th>Absenteeism Time in Hours</th>\n    </tr>\n  </thead>\n  <tbody>\n    <tr>\n      <th>count</th>\n      <td>700.000000</td>\n      <td>700.000000</td>\n      <td>700.000000</td>\n      <td>700.000000</td>\n      <td>700.000000</td>\n      <td>700.000000</td>\n      <td>700.000000</td>\n      <td>700.000000</td>\n      <td>700.000000</td>\n      <td>700.000000</td>\n      <td>700.000000</td>\n    </tr>\n    <tr>\n      <th>mean</th>\n      <td>17.951429</td>\n      <td>19.411429</td>\n      <td>222.347143</td>\n      <td>29.892857</td>\n      <td>36.417143</td>\n      <td>271.801774</td>\n      <td>26.737143</td>\n      <td>1.282857</td>\n      <td>1.021429</td>\n      <td>0.687143</td>\n      <td>6.761429</td>\n    </tr>\n    <tr>\n      <th>std</th>\n      <td>11.028144</td>\n      <td>8.356292</td>\n      <td>66.312960</td>\n      <td>14.804446</td>\n      <td>6.379083</td>\n      <td>40.021804</td>\n      <td>4.254701</td>\n      <td>0.668090</td>\n      <td>1.112215</td>\n      <td>1.166095</td>\n      <td>12.670082</td>\n    </tr>\n    <tr>\n      <th>min</th>\n      <td>1.000000</td>\n      <td>0.000000</td>\n      <td>118.000000</td>\n      <td>5.000000</td>\n      <td>27.000000</td>\n      <td>205.917000</td>\n      <td>19.000000</td>\n      <td>1.000000</td>\n      <td>0.000000</td>\n      <td>0.000000</td>\n      <td>0.000000</td>\n    </tr>\n    <tr>\n      <th>25%</th>\n      <td>9.000000</td>\n      <td>13.000000</td>\n      <td>179.000000</td>\n      <td>16.000000</td>\n      <td>31.000000</td>\n      <td>241.476000</td>\n      <td>24.000000</td>\n      <td>1.000000</td>\n      <td>0.000000</td>\n      <td>0.000000</td>\n      <td>2.000000</td>\n    </tr>\n    <tr>\n      <th>50%</th>\n      <td>18.000000</td>\n      <td>23.000000</td>\n      <td>225.000000</td>\n      <td>26.000000</td>\n      <td>37.000000</td>\n      <td>264.249000</td>\n      <td>25.000000</td>\n      <td>1.000000</td>\n      <td>1.000000</td>\n      <td>0.000000</td>\n      <td>3.000000</td>\n    </tr>\n    <tr>\n      <th>75%</th>\n      <td>28.000000</td>\n      <td>27.000000</td>\n      <td>260.000000</td>\n      <td>50.000000</td>\n      <td>40.000000</td>\n      <td>294.217000</td>\n      <td>31.000000</td>\n      <td>1.000000</td>\n      <td>2.000000</td>\n      <td>1.000000</td>\n      <td>8.000000</td>\n    </tr>\n    <tr>\n      <th>max</th>\n      <td>36.000000</td>\n      <td>28.000000</td>\n      <td>388.000000</td>\n      <td>52.000000</td>\n      <td>58.000000</td>\n      <td>378.884000</td>\n      <td>38.000000</td>\n      <td>4.000000</td>\n      <td>4.000000</td>\n      <td>8.000000</td>\n      <td>120.000000</td>\n    </tr>\n  </tbody>\n</table>\n</div>"
     },
     "execution_count": 112,
     "metadata": {},
     "output_type": "execute_result"
    }
   ],
   "source": [
    "fData.describe()"
   ],
   "metadata": {
    "collapsed": false,
    "ExecuteTime": {
     "end_time": "2024-09-12T10:28:24.938773Z",
     "start_time": "2024-09-12T10:28:24.919683Z"
    }
   },
   "id": "475480552adc0dc",
   "execution_count": 112
  },
  {
   "cell_type": "markdown",
   "source": [],
   "metadata": {
    "collapsed": false
   },
   "id": "f0c387bbf96e1d81"
  },
  {
   "cell_type": "markdown",
   "source": [
    "## Drop the ID column because it isn't needed for predicting  Absenteeism time in hours"
   ],
   "metadata": {
    "collapsed": false
   },
   "id": "bce85773bd23690c"
  },
  {
   "cell_type": "code",
   "outputs": [],
   "source": [
    "fData.drop(['ID'], axis=1, inplace=True)"
   ],
   "metadata": {
    "collapsed": false,
    "ExecuteTime": {
     "end_time": "2024-09-12T10:28:24.971881Z",
     "start_time": "2024-09-12T10:28:24.968696Z"
    }
   },
   "id": "a061d1959a92c374",
   "execution_count": 113
  },
  {
   "cell_type": "markdown",
   "source": [],
   "metadata": {
    "collapsed": false
   },
   "id": "f3040fd10530c53"
  },
  {
   "cell_type": "markdown",
   "source": [],
   "metadata": {
    "collapsed": false
   },
   "id": "eb20c27e4805309d"
  },
  {
   "cell_type": "code",
   "outputs": [
    {
     "data": {
      "text/plain": "array([ 0,  1,  2,  3,  4,  5,  6,  7,  8,  9, 10, 11, 12, 13, 14, 15, 16,\n       17, 18, 19, 21, 22, 23, 24, 25, 26, 27, 28], dtype=int64)"
     },
     "execution_count": 114,
     "metadata": {},
     "output_type": "execute_result"
    }
   ],
   "source": [
    "u_reason_for_absence = fData['Reason for Absence'].unique()\n",
    "# type(u_reason_for_absence)\n",
    "u_reason_for_absence.sort()\n",
    "u_reason_for_absence"
   ],
   "metadata": {
    "collapsed": false,
    "ExecuteTime": {
     "end_time": "2024-09-12T10:28:25.072663Z",
     "start_time": "2024-09-12T10:28:25.068652Z"
    }
   },
   "id": "7f597786345cd770",
   "execution_count": 114
  },
  {
   "cell_type": "markdown",
   "source": [
    "## Metadata for Reason for absence\n",
    "0\tCertain infectious and parasitic diseases\n",
    "1\tNeoplasms\n",
    "2\tDiseases of the blood and blood-forming organs and certain disorders involving the immune mechanism\n",
    "3\tEndocrine, nutritional and metabolic diseases\n",
    "4\tMental and behavioural disorders\n",
    "5\tDiseases of the nervous system\n",
    "6\tDiseases of the eye and adnexa\n",
    "7\tDiseases of the ear and mastoid process\n",
    "8\tDiseases of the circulatory system\n",
    "9\tDiseases of the respiratory system\n",
    "10\tDiseases of the digestive system\n",
    "11\tDiseases of the skin and subcutaneous tissue\n",
    "12\tDiseases of the musculoskeletal system and connective tissue\n",
    "13\tDiseases of the genitourinary system\n",
    "14\tPregnancy, childbirth and the puerperium\n",
    "15\tCertain conditions originating in the perinatal period\n",
    "16\tCongenital malformations, deformations and chromosomal abnormalities\n",
    "17\tSymptoms, signs and abnormal clinical and laboratory findings, not elsewhere classified\n",
    "18\tInjury, poisoning and certain other consequences of external causes\n",
    "19\tExternal causes of morbidity and mortality\n",
    "21\tFactors influencing health status and contact with health services\n",
    "22\tPatient follow-up\n",
    "23\tMedical consultation\n",
    "24\tBlood donation\n",
    "25\tLaboratory examination\n",
    "26\tUnjustified absence\n",
    "27\tPhysiotherapy\n",
    "28\tDental consultation\n"
   ],
   "metadata": {
    "collapsed": false
   },
   "id": "cb17027f306e7758"
  },
  {
   "cell_type": "code",
   "outputs": [
    {
     "name": "stdout",
     "output_type": "stream",
     "text": [
      "<class 'pandas.core.frame.DataFrame'>\n",
      "RangeIndex: 700 entries, 0 to 699\n",
      "Data columns (total 11 columns):\n",
      " #   Column                     Non-Null Count  Dtype  \n",
      "---  ------                     --------------  -----  \n",
      " 0   Reason for Absence         700 non-null    int64  \n",
      " 1   Date                       700 non-null    object \n",
      " 2   Transportation Expense     700 non-null    int64  \n",
      " 3   Distance to Work           700 non-null    int64  \n",
      " 4   Age                        700 non-null    int64  \n",
      " 5   Daily Work Load Average    700 non-null    float64\n",
      " 6   Body Mass Index            700 non-null    int64  \n",
      " 7   Education                  700 non-null    int64  \n",
      " 8   Children                   700 non-null    int64  \n",
      " 9   Pets                       700 non-null    int64  \n",
      " 10  Absenteeism Time in Hours  700 non-null    int64  \n",
      "dtypes: float64(1), int64(9), object(1)\n",
      "memory usage: 60.3+ KB\n"
     ]
    }
   ],
   "source": [
    "fData.info()"
   ],
   "metadata": {
    "collapsed": false,
    "ExecuteTime": {
     "end_time": "2024-09-12T10:28:25.191289Z",
     "start_time": "2024-09-12T10:28:25.185364Z"
    }
   },
   "id": "809ecaa0690660c",
   "execution_count": 115
  },
  {
   "cell_type": "markdown",
   "source": [],
   "metadata": {
    "collapsed": false
   },
   "id": "132e8a7866a41af"
  },
  {
   "cell_type": "markdown",
   "source": [
    "### Visualizing \"Reason for Absence\"\n",
    "\n",
    "We visualize the \"Reason for Absence\" column using a bar plot to identify the most common causes of employee absenteeism. This will help us determine which reasons are most frequent, aiding in targeted efforts to reduce absenteeism.\n"
   ],
   "metadata": {
    "collapsed": false
   },
   "id": "692ceae0047e67a4"
  },
  {
   "cell_type": "code",
   "outputs": [
    {
     "data": {
      "text/plain": "Reason for Absence\n0      38\n1      16\n2       1\n3       1\n4       2\n5       3\n6       6\n7      13\n8       5\n9       4\n10     22\n11     24\n12      8\n13     52\n14     18\n15      2\n16      3\n17      1\n18     21\n19     36\n21      6\n22     32\n23    147\n24      3\n25     29\n26     31\n27     66\n28    110\nName: count, dtype: int64"
     },
     "execution_count": 116,
     "metadata": {},
     "output_type": "execute_result"
    }
   ],
   "source": [
    "fData['Reason for Absence'].value_counts().sort_index()"
   ],
   "metadata": {
    "collapsed": false,
    "ExecuteTime": {
     "end_time": "2024-09-12T10:28:25.260804Z",
     "start_time": "2024-09-12T10:28:25.256145Z"
    }
   },
   "id": "92b06e647e0215b8",
   "execution_count": 116
  },
  {
   "cell_type": "code",
   "outputs": [
    {
     "data": {
      "text/plain": "array([ 0,  1,  2,  3,  4,  5,  6,  7,  8,  9, 10, 11, 12, 13, 14, 15, 16,\n       17, 18, 19, 21, 22, 23, 24, 25, 26, 27, 28], dtype=int64)"
     },
     "execution_count": 117,
     "metadata": {},
     "output_type": "execute_result"
    }
   ],
   "source": [
    "u_reason_for_absence"
   ],
   "metadata": {
    "collapsed": false,
    "ExecuteTime": {
     "end_time": "2024-09-12T10:28:25.490522Z",
     "start_time": "2024-09-12T10:28:25.486843Z"
    }
   },
   "id": "96d18c9e14ce6aab",
   "execution_count": 117
  },
  {
   "cell_type": "code",
   "outputs": [
    {
     "data": {
      "text/plain": "<Figure size 1500x600 with 1 Axes>",
      "image/png": "[encoded data removed]"
     },
     "metadata": {},
     "output_type": "display_data"
    }
   ],
   "source": [
    "\n",
    "plt.figure(figsize=(15, 6))\n",
    "plt.bar(u_reason_for_absence, fData['Reason for Absence'].value_counts().sort_index(), color='yellow')\n",
    "title_font = {'family': 'serif',\n",
    "              'weight': 'bold',\n",
    "              'size': 17}\n",
    "plt.title('Distribution in reason for absence column', fontdict=title_font)\n",
    "plt.xticks(u_reason_for_absence)\n",
    "plt.ylabel('Number of absences', fontdict={'size': 14})\n",
    "plt.xlabel('Reasons', fontdict={'size': 14})\n",
    "sns.despine()\n",
    "plt.show()"
   ],
   "metadata": {
    "collapsed": false,
    "ExecuteTime": {
     "end_time": "2024-09-12T10:28:25.770066Z",
     "start_time": "2024-09-12T10:28:25.542413Z"
    }
   },
   "id": "88b7fb9892cbffd9",
   "execution_count": 118
  },
  {
   "cell_type": "markdown",
   "source": [
    "As you can see it's clear from chart that reason 23(Medical consultation) and reason 28(Dental consultation) are the most reasons why employees will absence"
   ],
   "metadata": {
    "collapsed": false
   },
   "id": "5f0e21a8436c7128"
  },
  {
   "cell_type": "markdown",
   "source": [
    "## Data Cleaning"
   ],
   "metadata": {
    "collapsed": false
   },
   "id": "5a5de87b09bf0fd6"
  },
  {
   "cell_type": "code",
   "outputs": [
    {
     "data": {
      "text/plain": "Reason for Absence           0\nDate                         0\nTransportation Expense       0\nDistance to Work             0\nAge                          0\nDaily Work Load Average      0\nBody Mass Index              0\nEducation                    0\nChildren                     0\nPets                         0\nAbsenteeism Time in Hours    0\ndtype: int64"
     },
     "execution_count": 119,
     "metadata": {},
     "output_type": "execute_result"
    }
   ],
   "source": [
    "pd.isna(fData).sum()"
   ],
   "metadata": {
    "collapsed": false,
    "ExecuteTime": {
     "end_time": "2024-09-12T10:28:25.776051Z",
     "start_time": "2024-09-12T10:28:25.771065Z"
    }
   },
   "id": "3fcd533874d94d3a",
   "execution_count": 119
  },
  {
   "cell_type": "code",
   "outputs": [
    {
     "data": {
      "text/plain": "     Reason for Absence        Date  Transportation Expense  Distance to Work  \\\n121                  27  11/01/2016                     118                10   \n123                  27  12/01/2016                     118                10   \n124                  27  13/01/2016                     118                10   \n127                  27  11/01/2016                     118                10   \n128                  27  12/01/2016                     118                10   \n131                  27  13/01/2016                     118                10   \n304                  23  19/10/2016                     235                20   \n305                  23  19/10/2016                     235                20   \n385                  27  22/02/2017                     179                51   \n386                  27  24/02/2017                     179                51   \n388                  27  22/02/2017                     179                51   \n389                  27  24/02/2017                     179                51   \n470                  28  25/07/2017                     246                25   \n477                  28  25/07/2017                     246                25   \n495                  28  05/09/2017                     246                25   \n496                  28  05/09/2017                     246                25   \n\n     Age  Daily Work Load Average  Body Mass Index  Education  Children  Pets  \\\n121   37                  308.593               28          1         0     0   \n123   37                  308.593               28          1         0     0   \n124   37                  308.593               28          1         0     0   \n127   37                  308.593               28          1         0     0   \n128   37                  308.593               28          1         0     0   \n131   37                  308.593               28          1         0     0   \n304   43                  265.017               38          1         1     0   \n305   43                  265.017               38          1         1     0   \n385   38                  251.818               31          1         0     0   \n386   38                  251.818               31          1         0     0   \n388   38                  251.818               31          1         0     0   \n389   38                  251.818               31          1         0     0   \n470   41                  230.290               23          1         0     0   \n477   41                  230.290               23          1         0     0   \n495   41                  261.756               23          1         0     0   \n496   41                  261.756               23          1         0     0   \n\n     Absenteeism Time in Hours  \n121                          2  \n123                          2  \n124                          2  \n127                          2  \n128                          2  \n131                          2  \n304                          2  \n305                          2  \n385                          3  \n386                          3  \n388                          3  \n389                          3  \n470                          2  \n477                          2  \n495                          1  \n496                          1  ",
      "text/html": "<div>\n<style scoped>\n    .dataframe tbody tr th:only-of-type {\n        vertical-align: middle;\n    }\n\n    .dataframe tbody tr th {\n        vertical-align: top;\n    }\n\n    .dataframe thead th {\n        text-align: right;\n    }\n</style>\n<table border=\"1\" class=\"dataframe\">\n  <thead>\n    <tr style=\"text-align: right;\">\n      <th></th>\n      <th>Reason for Absence</th>\n      <th>Date</th>\n      <th>Transportation Expense</th>\n      <th>Distance to Work</th>\n      <th>Age</th>\n      <th>Daily Work Load Average</th>\n      <th>Body Mass Index</th>\n      <th>Education</th>\n      <th>Children</th>\n      <th>Pets</th>\n      <th>Absenteeism Time in Hours</th>\n    </tr>\n  </thead>\n  <tbody>\n    <tr>\n      <th>121</th>\n      <td>27</td>\n      <td>11/01/2016</td>\n      <td>118</td>\n      <td>10</td>\n      <td>37</td>\n      <td>308.593</td>\n      <td>28</td>\n      <td>1</td>\n      <td>0</td>\n      <td>0</td>\n      <td>2</td>\n    </tr>\n    <tr>\n      <th>123</th>\n      <td>27</td>\n      <td>12/01/2016</td>\n      <td>118</td>\n      <td>10</td>\n      <td>37</td>\n      <td>308.593</td>\n      <td>28</td>\n      <td>1</td>\n      <td>0</td>\n      <td>0</td>\n      <td>2</td>\n    </tr>\n    <tr>\n      <th>124</th>\n      <td>27</td>\n      <td>13/01/2016</td>\n      <td>118</td>\n      <td>10</td>\n      <td>37</td>\n      <td>308.593</td>\n      <td>28</td>\n      <td>1</td>\n      <td>0</td>\n      <td>0</td>\n      <td>2</td>\n    </tr>\n    <tr>\n      <th>127</th>\n      <td>27</td>\n      <td>11/01/2016</td>\n      <td>118</td>\n      <td>10</td>\n      <td>37</td>\n      <td>308.593</td>\n      <td>28</td>\n      <td>1</td>\n      <td>0</td>\n      <td>0</td>\n      <td>2</td>\n    </tr>\n    <tr>\n      <th>128</th>\n      <td>27</td>\n      <td>12/01/2016</td>\n      <td>118</td>\n      <td>10</td>\n      <td>37</td>\n      <td>308.593</td>\n      <td>28</td>\n      <td>1</td>\n      <td>0</td>\n      <td>0</td>\n      <td>2</td>\n    </tr>\n    <tr>\n      <th>131</th>\n      <td>27</td>\n      <td>13/01/2016</td>\n      <td>118</td>\n      <td>10</td>\n      <td>37</td>\n      <td>308.593</td>\n      <td>28</td>\n      <td>1</td>\n      <td>0</td>\n      <td>0</td>\n      <td>2</td>\n    </tr>\n    <tr>\n      <th>304</th>\n      <td>23</td>\n      <td>19/10/2016</td>\n      <td>235</td>\n      <td>20</td>\n      <td>43</td>\n      <td>265.017</td>\n      <td>38</td>\n      <td>1</td>\n      <td>1</td>\n      <td>0</td>\n      <td>2</td>\n    </tr>\n    <tr>\n      <th>305</th>\n      <td>23</td>\n      <td>19/10/2016</td>\n      <td>235</td>\n      <td>20</td>\n      <td>43</td>\n      <td>265.017</td>\n      <td>38</td>\n      <td>1</td>\n      <td>1</td>\n      <td>0</td>\n      <td>2</td>\n    </tr>\n    <tr>\n      <th>385</th>\n      <td>27</td>\n      <td>22/02/2017</td>\n      <td>179</td>\n      <td>51</td>\n      <td>38</td>\n      <td>251.818</td>\n      <td>31</td>\n      <td>1</td>\n      <td>0</td>\n      <td>0</td>\n      <td>3</td>\n    </tr>\n    <tr>\n      <th>386</th>\n      <td>27</td>\n      <td>24/02/2017</td>\n      <td>179</td>\n      <td>51</td>\n      <td>38</td>\n      <td>251.818</td>\n      <td>31</td>\n      <td>1</td>\n      <td>0</td>\n      <td>0</td>\n      <td>3</td>\n    </tr>\n    <tr>\n      <th>388</th>\n      <td>27</td>\n      <td>22/02/2017</td>\n      <td>179</td>\n      <td>51</td>\n      <td>38</td>\n      <td>251.818</td>\n      <td>31</td>\n      <td>1</td>\n      <td>0</td>\n      <td>0</td>\n      <td>3</td>\n    </tr>\n    <tr>\n      <th>389</th>\n      <td>27</td>\n      <td>24/02/2017</td>\n      <td>179</td>\n      <td>51</td>\n      <td>38</td>\n      <td>251.818</td>\n      <td>31</td>\n      <td>1</td>\n      <td>0</td>\n      <td>0</td>\n      <td>3</td>\n    </tr>\n    <tr>\n      <th>470</th>\n      <td>28</td>\n      <td>25/07/2017</td>\n      <td>246</td>\n      <td>25</td>\n      <td>41</td>\n      <td>230.290</td>\n      <td>23</td>\n      <td>1</td>\n      <td>0</td>\n      <td>0</td>\n      <td>2</td>\n    </tr>\n    <tr>\n      <th>477</th>\n      <td>28</td>\n      <td>25/07/2017</td>\n      <td>246</td>\n      <td>25</td>\n      <td>41</td>\n      <td>230.290</td>\n      <td>23</td>\n      <td>1</td>\n      <td>0</td>\n      <td>0</td>\n      <td>2</td>\n    </tr>\n    <tr>\n      <th>495</th>\n      <td>28</td>\n      <td>05/09/2017</td>\n      <td>246</td>\n      <td>25</td>\n      <td>41</td>\n      <td>261.756</td>\n      <td>23</td>\n      <td>1</td>\n      <td>0</td>\n      <td>0</td>\n      <td>1</td>\n    </tr>\n    <tr>\n      <th>496</th>\n      <td>28</td>\n      <td>05/09/2017</td>\n      <td>246</td>\n      <td>25</td>\n      <td>41</td>\n      <td>261.756</td>\n      <td>23</td>\n      <td>1</td>\n      <td>0</td>\n      <td>0</td>\n      <td>1</td>\n    </tr>\n  </tbody>\n</table>\n</div>"
     },
     "execution_count": 120,
     "metadata": {},
     "output_type": "execute_result"
    }
   ],
   "source": [
    "fData[fData.duplicated(keep=False)]"
   ],
   "metadata": {
    "collapsed": false,
    "ExecuteTime": {
     "end_time": "2024-09-12T10:28:25.787672Z",
     "start_time": "2024-09-12T10:28:25.776051Z"
    }
   },
   "id": "2d860c428b72ef1d",
   "execution_count": 120
  },
  {
   "cell_type": "markdown",
   "source": [],
   "metadata": {
    "collapsed": false
   },
   "id": "37727d763e001c09"
  },
  {
   "cell_type": "code",
   "outputs": [
    {
     "data": {
      "text/plain": "7700"
     },
     "execution_count": 121,
     "metadata": {},
     "output_type": "execute_result"
    }
   ],
   "source": [
    "fData.size"
   ],
   "metadata": {
    "collapsed": false,
    "ExecuteTime": {
     "end_time": "2024-09-12T10:28:25.791656Z",
     "start_time": "2024-09-12T10:28:25.788672Z"
    }
   },
   "id": "64cecf389428e0ef",
   "execution_count": 121
  },
  {
   "cell_type": "markdown",
   "source": [],
   "metadata": {
    "collapsed": false
   },
   "id": "77480dea711d2d1a"
  },
  {
   "cell_type": "markdown",
   "source": [
    "## Data Backup: for drop_duplicates"
   ],
   "metadata": {
    "collapsed": false
   },
   "id": "56ab0a1129230507"
  },
  {
   "cell_type": "code",
   "outputs": [
    {
     "data": {
      "text/plain": "7700"
     },
     "execution_count": 122,
     "metadata": {},
     "output_type": "execute_result"
    }
   ],
   "source": [
    "fData_backup1 = fData.copy()\n",
    "fData_backup1.size"
   ],
   "metadata": {
    "collapsed": false,
    "ExecuteTime": {
     "end_time": "2024-09-12T10:28:25.796508Z",
     "start_time": "2024-09-12T10:28:25.791656Z"
    }
   },
   "id": "a39281e8946f76a2",
   "execution_count": 122
  },
  {
   "cell_type": "code",
   "outputs": [
    {
     "data": {
      "text/plain": "     Reason for Absence        Date  Transportation Expense  Distance to Work  \\\n0                    26  07/07/2015                     289                36   \n1                     0  14/07/2015                     118                13   \n2                    23  15/07/2015                     179                51   \n3                     7  16/07/2015                     279                 5   \n4                    23  23/07/2015                     289                36   \n..                  ...         ...                     ...               ...   \n695                  10  23/05/2018                     179                22   \n696                   6  23/05/2018                     225                26   \n697                  10  24/05/2018                     330                16   \n698                  23  24/05/2018                     235                16   \n699                  28  31/05/2018                     291                31   \n\n     Age  Daily Work Load Average  Body Mass Index  Education  Children  Pets  \\\n0     33                  239.554               30          1         2     1   \n1     50                  239.554               31          1         1     0   \n2     38                  239.554               31          1         0     0   \n3     39                  239.554               24          1         2     0   \n4     33                  239.554               30          1         2     1   \n..   ...                      ...              ...        ...       ...   ...   \n695   40                  237.656               22          2         2     0   \n696   28                  237.656               24          1         1     2   \n697   28                  237.656               25          2         0     0   \n698   32                  237.656               25          3         0     0   \n699   40                  237.656               25          1         1     1   \n\n     Absenteeism Time in Hours  \n0                            4  \n1                            0  \n2                            2  \n3                            4  \n4                            2  \n..                         ...  \n695                          8  \n696                          3  \n697                          8  \n698                          2  \n699                          2  \n\n[700 rows x 11 columns]",
      "text/html": "<div>\n<style scoped>\n    .dataframe tbody tr th:only-of-type {\n        vertical-align: middle;\n    }\n\n    .dataframe tbody tr th {\n        vertical-align: top;\n    }\n\n    .dataframe thead th {\n        text-align: right;\n    }\n</style>\n<table border=\"1\" class=\"dataframe\">\n  <thead>\n    <tr style=\"text-align: right;\">\n      <th></th>\n      <th>Reason for Absence</th>\n      <th>Date</th>\n      <th>Transportation Expense</th>\n      <th>Distance to Work</th>\n      <th>Age</th>\n      <th>Daily Work Load Average</th>\n      <th>Body Mass Index</th>\n      <th>Education</th>\n      <th>Children</th>\n      <th>Pets</th>\n      <th>Absenteeism Time in Hours</th>\n    </tr>\n  </thead>\n  <tbody>\n    <tr>\n      <th>0</th>\n      <td>26</td>\n      <td>07/07/2015</td>\n      <td>289</td>\n      <td>36</td>\n      <td>33</td>\n      <td>239.554</td>\n      <td>30</td>\n      <td>1</td>\n      <td>2</td>\n      <td>1</td>\n      <td>4</td>\n    </tr>\n    <tr>\n      <th>1</th>\n      <td>0</td>\n      <td>14/07/2015</td>\n      <td>118</td>\n      <td>13</td>\n      <td>50</td>\n      <td>239.554</td>\n      <td>31</td>\n      <td>1</td>\n      <td>1</td>\n      <td>0</td>\n      <td>0</td>\n    </tr>\n    <tr>\n      <th>2</th>\n      <td>23</td>\n      <td>15/07/2015</td>\n      <td>179</td>\n      <td>51</td>\n      <td>38</td>\n      <td>239.554</td>\n      <td>31</td>\n      <td>1</td>\n      <td>0</td>\n      <td>0</td>\n      <td>2</td>\n    </tr>\n    <tr>\n      <th>3</th>\n      <td>7</td>\n      <td>16/07/2015</td>\n      <td>279</td>\n      <td>5</td>\n      <td>39</td>\n      <td>239.554</td>\n      <td>24</td>\n      <td>1</td>\n      <td>2</td>\n      <td>0</td>\n      <td>4</td>\n    </tr>\n    <tr>\n      <th>4</th>\n      <td>23</td>\n      <td>23/07/2015</td>\n      <td>289</td>\n      <td>36</td>\n      <td>33</td>\n      <td>239.554</td>\n      <td>30</td>\n      <td>1</td>\n      <td>2</td>\n      <td>1</td>\n      <td>2</td>\n    </tr>\n    <tr>\n      <th>...</th>\n      <td>...</td>\n      <td>...</td>\n      <td>...</td>\n      <td>...</td>\n      <td>...</td>\n      <td>...</td>\n      <td>...</td>\n      <td>...</td>\n      <td>...</td>\n      <td>...</td>\n      <td>...</td>\n    </tr>\n    <tr>\n      <th>695</th>\n      <td>10</td>\n      <td>23/05/2018</td>\n      <td>179</td>\n      <td>22</td>\n      <td>40</td>\n      <td>237.656</td>\n      <td>22</td>\n      <td>2</td>\n      <td>2</td>\n      <td>0</td>\n      <td>8</td>\n    </tr>\n    <tr>\n      <th>696</th>\n      <td>6</td>\n      <td>23/05/2018</td>\n      <td>225</td>\n      <td>26</td>\n      <td>28</td>\n      <td>237.656</td>\n      <td>24</td>\n      <td>1</td>\n      <td>1</td>\n      <td>2</td>\n      <td>3</td>\n    </tr>\n    <tr>\n      <th>697</th>\n      <td>10</td>\n      <td>24/05/2018</td>\n      <td>330</td>\n      <td>16</td>\n      <td>28</td>\n      <td>237.656</td>\n      <td>25</td>\n      <td>2</td>\n      <td>0</td>\n      <td>0</td>\n      <td>8</td>\n    </tr>\n    <tr>\n      <th>698</th>\n      <td>23</td>\n      <td>24/05/2018</td>\n      <td>235</td>\n      <td>16</td>\n      <td>32</td>\n      <td>237.656</td>\n      <td>25</td>\n      <td>3</td>\n      <td>0</td>\n      <td>0</td>\n      <td>2</td>\n    </tr>\n    <tr>\n      <th>699</th>\n      <td>28</td>\n      <td>31/05/2018</td>\n      <td>291</td>\n      <td>31</td>\n      <td>40</td>\n      <td>237.656</td>\n      <td>25</td>\n      <td>1</td>\n      <td>1</td>\n      <td>1</td>\n      <td>2</td>\n    </tr>\n  </tbody>\n</table>\n<p>700 rows × 11 columns</p>\n</div>"
     },
     "execution_count": 123,
     "metadata": {},
     "output_type": "execute_result"
    }
   ],
   "source": [
    "fData_backup1"
   ],
   "metadata": {
    "collapsed": false,
    "ExecuteTime": {
     "end_time": "2024-09-12T10:28:25.939981Z",
     "start_time": "2024-09-12T10:28:25.932163Z"
    }
   },
   "id": "5ef1606a909281fa",
   "execution_count": 123
  },
  {
   "cell_type": "markdown",
   "source": [],
   "metadata": {
    "collapsed": false
   },
   "id": "605040eeec6fec33"
  },
  {
   "cell_type": "markdown",
   "source": [
    "---------------------------------------------------------------------- Continue Data Cleaning"
   ],
   "metadata": {
    "collapsed": false
   },
   "id": "319cb055db17b32f"
  },
  {
   "cell_type": "code",
   "outputs": [],
   "source": [
    "fData.drop_duplicates(keep='first', inplace=True)"
   ],
   "metadata": {
    "collapsed": false,
    "ExecuteTime": {
     "end_time": "2024-09-12T10:28:26.099556Z",
     "start_time": "2024-09-12T10:28:26.095642Z"
    }
   },
   "id": "381627194f01c121",
   "execution_count": 124
  },
  {
   "cell_type": "code",
   "outputs": [
    {
     "data": {
      "text/plain": "7612"
     },
     "execution_count": 125,
     "metadata": {},
     "output_type": "execute_result"
    }
   ],
   "source": [
    "fData.size"
   ],
   "metadata": {
    "collapsed": false,
    "ExecuteTime": {
     "end_time": "2024-09-12T10:28:26.220529Z",
     "start_time": "2024-09-12T10:28:26.217389Z"
    }
   },
   "id": "2e44937b85133d5e",
   "execution_count": 125
  },
  {
   "cell_type": "markdown",
   "source": [],
   "metadata": {
    "collapsed": false
   },
   "id": "83233f084e386e4"
  },
  {
   "cell_type": "markdown",
   "source": [
    "## Categorize \"Reason For Absence\" Column\n",
    "The \"Reason for Absence\" column contains nominal variables, which should be converted to dummy variables for proper categorization. "
   ],
   "metadata": {
    "collapsed": false
   },
   "id": "42f874b0cf402832"
  },
  {
   "cell_type": "code",
   "outputs": [
    {
     "data": {
      "text/plain": "     Reason for Absence        Date  Transportation Expense  Distance to Work  \\\n0                    26  07/07/2015                     289                36   \n1                     0  14/07/2015                     118                13   \n2                    23  15/07/2015                     179                51   \n3                     7  16/07/2015                     279                 5   \n4                    23  23/07/2015                     289                36   \n..                  ...         ...                     ...               ...   \n695                  10  23/05/2018                     179                22   \n696                   6  23/05/2018                     225                26   \n697                  10  24/05/2018                     330                16   \n698                  23  24/05/2018                     235                16   \n699                  28  31/05/2018                     291                31   \n\n     Age  Daily Work Load Average  Body Mass Index  Education  Children  Pets  \\\n0     33                  239.554               30          1         2     1   \n1     50                  239.554               31          1         1     0   \n2     38                  239.554               31          1         0     0   \n3     39                  239.554               24          1         2     0   \n4     33                  239.554               30          1         2     1   \n..   ...                      ...              ...        ...       ...   ...   \n695   40                  237.656               22          2         2     0   \n696   28                  237.656               24          1         1     2   \n697   28                  237.656               25          2         0     0   \n698   32                  237.656               25          3         0     0   \n699   40                  237.656               25          1         1     1   \n\n     Absenteeism Time in Hours  \n0                            4  \n1                            0  \n2                            2  \n3                            4  \n4                            2  \n..                         ...  \n695                          8  \n696                          3  \n697                          8  \n698                          2  \n699                          2  \n\n[692 rows x 11 columns]",
      "text/html": "<div>\n<style scoped>\n    .dataframe tbody tr th:only-of-type {\n        vertical-align: middle;\n    }\n\n    .dataframe tbody tr th {\n        vertical-align: top;\n    }\n\n    .dataframe thead th {\n        text-align: right;\n    }\n</style>\n<table border=\"1\" class=\"dataframe\">\n  <thead>\n    <tr style=\"text-align: right;\">\n      <th></th>\n      <th>Reason for Absence</th>\n      <th>Date</th>\n      <th>Transportation Expense</th>\n      <th>Distance to Work</th>\n      <th>Age</th>\n      <th>Daily Work Load Average</th>\n      <th>Body Mass Index</th>\n      <th>Education</th>\n      <th>Children</th>\n      <th>Pets</th>\n      <th>Absenteeism Time in Hours</th>\n    </tr>\n  </thead>\n  <tbody>\n    <tr>\n      <th>0</th>\n      <td>26</td>\n      <td>07/07/2015</td>\n      <td>289</td>\n      <td>36</td>\n      <td>33</td>\n      <td>239.554</td>\n      <td>30</td>\n      <td>1</td>\n      <td>2</td>\n      <td>1</td>\n      <td>4</td>\n    </tr>\n    <tr>\n      <th>1</th>\n      <td>0</td>\n      <td>14/07/2015</td>\n      <td>118</td>\n      <td>13</td>\n      <td>50</td>\n      <td>239.554</td>\n      <td>31</td>\n      <td>1</td>\n      <td>1</td>\n      <td>0</td>\n      <td>0</td>\n    </tr>\n    <tr>\n      <th>2</th>\n      <td>23</td>\n      <td>15/07/2015</td>\n      <td>179</td>\n      <td>51</td>\n      <td>38</td>\n      <td>239.554</td>\n      <td>31</td>\n      <td>1</td>\n      <td>0</td>\n      <td>0</td>\n      <td>2</td>\n    </tr>\n    <tr>\n      <th>3</th>\n      <td>7</td>\n      <td>16/07/2015</td>\n      <td>279</td>\n      <td>5</td>\n      <td>39</td>\n      <td>239.554</td>\n      <td>24</td>\n      <td>1</td>\n      <td>2</td>\n      <td>0</td>\n      <td>4</td>\n    </tr>\n    <tr>\n      <th>4</th>\n      <td>23</td>\n      <td>23/07/2015</td>\n      <td>289</td>\n      <td>36</td>\n      <td>33</td>\n      <td>239.554</td>\n      <td>30</td>\n      <td>1</td>\n      <td>2</td>\n      <td>1</td>\n      <td>2</td>\n    </tr>\n    <tr>\n      <th>...</th>\n      <td>...</td>\n      <td>...</td>\n      <td>...</td>\n      <td>...</td>\n      <td>...</td>\n      <td>...</td>\n      <td>...</td>\n      <td>...</td>\n      <td>...</td>\n      <td>...</td>\n      <td>...</td>\n    </tr>\n    <tr>\n      <th>695</th>\n      <td>10</td>\n      <td>23/05/2018</td>\n      <td>179</td>\n      <td>22</td>\n      <td>40</td>\n      <td>237.656</td>\n      <td>22</td>\n      <td>2</td>\n      <td>2</td>\n      <td>0</td>\n      <td>8</td>\n    </tr>\n    <tr>\n      <th>696</th>\n      <td>6</td>\n      <td>23/05/2018</td>\n      <td>225</td>\n      <td>26</td>\n      <td>28</td>\n      <td>237.656</td>\n      <td>24</td>\n      <td>1</td>\n      <td>1</td>\n      <td>2</td>\n      <td>3</td>\n    </tr>\n    <tr>\n      <th>697</th>\n      <td>10</td>\n      <td>24/05/2018</td>\n      <td>330</td>\n      <td>16</td>\n      <td>28</td>\n      <td>237.656</td>\n      <td>25</td>\n      <td>2</td>\n      <td>0</td>\n      <td>0</td>\n      <td>8</td>\n    </tr>\n    <tr>\n      <th>698</th>\n      <td>23</td>\n      <td>24/05/2018</td>\n      <td>235</td>\n      <td>16</td>\n      <td>32</td>\n      <td>237.656</td>\n      <td>25</td>\n      <td>3</td>\n      <td>0</td>\n      <td>0</td>\n      <td>2</td>\n    </tr>\n    <tr>\n      <th>699</th>\n      <td>28</td>\n      <td>31/05/2018</td>\n      <td>291</td>\n      <td>31</td>\n      <td>40</td>\n      <td>237.656</td>\n      <td>25</td>\n      <td>1</td>\n      <td>1</td>\n      <td>1</td>\n      <td>2</td>\n    </tr>\n  </tbody>\n</table>\n<p>692 rows × 11 columns</p>\n</div>"
     },
     "execution_count": 126,
     "metadata": {},
     "output_type": "execute_result"
    }
   ],
   "source": [
    "fData"
   ],
   "metadata": {
    "collapsed": false,
    "ExecuteTime": {
     "end_time": "2024-09-12T10:28:26.413276Z",
     "start_time": "2024-09-12T10:28:26.405610Z"
    }
   },
   "id": "f1d6eb1d1ab91812",
   "execution_count": 126
  },
  {
   "cell_type": "code",
   "outputs": [],
   "source": [
    "dummy_reason_for_absence = pd.get_dummies(fData['Reason for Absence'], drop_first=True, dtype=int)"
   ],
   "metadata": {
    "collapsed": false,
    "ExecuteTime": {
     "end_time": "2024-09-12T10:28:26.530695Z",
     "start_time": "2024-09-12T10:28:26.526975Z"
    }
   },
   "id": "5f1e8ade647787b",
   "execution_count": 127
  },
  {
   "cell_type": "code",
   "outputs": [
    {
     "data": {
      "text/plain": "     1   2   3   4   5   6   7   8   9   10  ...  18  19  21  22  23  24  25  \\\n0     0   0   0   0   0   0   0   0   0   0  ...   0   0   0   0   0   0   0   \n1     0   0   0   0   0   0   0   0   0   0  ...   0   0   0   0   0   0   0   \n2     0   0   0   0   0   0   0   0   0   0  ...   0   0   0   0   1   0   0   \n3     0   0   0   0   0   0   1   0   0   0  ...   0   0   0   0   0   0   0   \n4     0   0   0   0   0   0   0   0   0   0  ...   0   0   0   0   1   0   0   \n..   ..  ..  ..  ..  ..  ..  ..  ..  ..  ..  ...  ..  ..  ..  ..  ..  ..  ..   \n695   0   0   0   0   0   0   0   0   0   1  ...   0   0   0   0   0   0   0   \n696   0   0   0   0   0   1   0   0   0   0  ...   0   0   0   0   0   0   0   \n697   0   0   0   0   0   0   0   0   0   1  ...   0   0   0   0   0   0   0   \n698   0   0   0   0   0   0   0   0   0   0  ...   0   0   0   0   1   0   0   \n699   0   0   0   0   0   0   0   0   0   0  ...   0   0   0   0   0   0   0   \n\n     26  27  28  \n0     1   0   0  \n1     0   0   0  \n2     0   0   0  \n3     0   0   0  \n4     0   0   0  \n..   ..  ..  ..  \n695   0   0   0  \n696   0   0   0  \n697   0   0   0  \n698   0   0   0  \n699   0   0   1  \n\n[692 rows x 27 columns]",
      "text/html": "<div>\n<style scoped>\n    .dataframe tbody tr th:only-of-type {\n        vertical-align: middle;\n    }\n\n    .dataframe tbody tr th {\n        vertical-align: top;\n    }\n\n    .dataframe thead th {\n        text-align: right;\n    }\n</style>\n<table border=\"1\" class=\"dataframe\">\n  <thead>\n    <tr style=\"text-align: right;\">\n      <th></th>\n      <th>1</th>\n      <th>2</th>\n      <th>3</th>\n      <th>4</th>\n      <th>5</th>\n      <th>6</th>\n      <th>7</th>\n      <th>8</th>\n      <th>9</th>\n      <th>10</th>\n      <th>...</th>\n      <th>18</th>\n      <th>19</th>\n      <th>21</th>\n      <th>22</th>\n      <th>23</th>\n      <th>24</th>\n      <th>25</th>\n      <th>26</th>\n      <th>27</th>\n      <th>28</th>\n    </tr>\n  </thead>\n  <tbody>\n    <tr>\n      <th>0</th>\n      <td>0</td>\n      <td>0</td>\n      <td>0</td>\n      <td>0</td>\n      <td>0</td>\n      <td>0</td>\n      <td>0</td>\n      <td>0</td>\n      <td>0</td>\n      <td>0</td>\n      <td>...</td>\n      <td>0</td>\n      <td>0</td>\n      <td>0</td>\n      <td>0</td>\n      <td>0</td>\n      <td>0</td>\n      <td>0</td>\n      <td>1</td>\n      <td>0</td>\n      <td>0</td>\n    </tr>\n    <tr>\n      <th>1</th>\n      <td>0</td>\n      <td>0</td>\n      <td>0</td>\n      <td>0</td>\n      <td>0</td>\n      <td>0</td>\n      <td>0</td>\n      <td>0</td>\n      <td>0</td>\n      <td>0</td>\n      <td>...</td>\n      <td>0</td>\n      <td>0</td>\n      <td>0</td>\n      <td>0</td>\n      <td>0</td>\n      <td>0</td>\n      <td>0</td>\n      <td>0</td>\n      <td>0</td>\n      <td>0</td>\n    </tr>\n    <tr>\n      <th>2</th>\n      <td>0</td>\n      <td>0</td>\n      <td>0</td>\n      <td>0</td>\n      <td>0</td>\n      <td>0</td>\n      <td>0</td>\n      <td>0</td>\n      <td>0</td>\n      <td>0</td>\n      <td>...</td>\n      <td>0</td>\n      <td>0</td>\n      <td>0</td>\n      <td>0</td>\n      <td>1</td>\n      <td>0</td>\n      <td>0</td>\n      <td>0</td>\n      <td>0</td>\n      <td>0</td>\n    </tr>\n    <tr>\n      <th>3</th>\n      <td>0</td>\n      <td>0</td>\n      <td>0</td>\n      <td>0</td>\n      <td>0</td>\n      <td>0</td>\n      <td>1</td>\n      <td>0</td>\n      <td>0</td>\n      <td>0</td>\n      <td>...</td>\n      <td>0</td>\n      <td>0</td>\n      <td>0</td>\n      <td>0</td>\n      <td>0</td>\n      <td>0</td>\n      <td>0</td>\n      <td>0</td>\n      <td>0</td>\n      <td>0</td>\n    </tr>\n    <tr>\n      <th>4</th>\n      <td>0</td>\n      <td>0</td>\n      <td>0</td>\n      <td>0</td>\n      <td>0</td>\n      <td>0</td>\n      <td>0</td>\n      <td>0</td>\n      <td>0</td>\n      <td>0</td>\n      <td>...</td>\n      <td>0</td>\n      <td>0</td>\n      <td>0</td>\n      <td>0</td>\n      <td>1</td>\n      <td>0</td>\n      <td>0</td>\n      <td>0</td>\n      <td>0</td>\n      <td>0</td>\n    </tr>\n    <tr>\n      <th>...</th>\n      <td>...</td>\n      <td>...</td>\n      <td>...</td>\n      <td>...</td>\n      <td>...</td>\n      <td>...</td>\n      <td>...</td>\n      <td>...</td>\n      <td>...</td>\n      <td>...</td>\n      <td>...</td>\n      <td>...</td>\n      <td>...</td>\n      <td>...</td>\n      <td>...</td>\n      <td>...</td>\n      <td>...</td>\n      <td>...</td>\n      <td>...</td>\n      <td>...</td>\n      <td>...</td>\n    </tr>\n    <tr>\n      <th>695</th>\n      <td>0</td>\n      <td>0</td>\n      <td>0</td>\n      <td>0</td>\n      <td>0</td>\n      <td>0</td>\n      <td>0</td>\n      <td>0</td>\n      <td>0</td>\n      <td>1</td>\n      <td>...</td>\n      <td>0</td>\n      <td>0</td>\n      <td>0</td>\n      <td>0</td>\n      <td>0</td>\n      <td>0</td>\n      <td>0</td>\n      <td>0</td>\n      <td>0</td>\n      <td>0</td>\n    </tr>\n    <tr>\n      <th>696</th>\n      <td>0</td>\n      <td>0</td>\n      <td>0</td>\n      <td>0</td>\n      <td>0</td>\n      <td>1</td>\n      <td>0</td>\n      <td>0</td>\n      <td>0</td>\n      <td>0</td>\n      <td>...</td>\n      <td>0</td>\n      <td>0</td>\n      <td>0</td>\n      <td>0</td>\n      <td>0</td>\n      <td>0</td>\n      <td>0</td>\n      <td>0</td>\n      <td>0</td>\n      <td>0</td>\n    </tr>\n    <tr>\n      <th>697</th>\n      <td>0</td>\n      <td>0</td>\n      <td>0</td>\n      <td>0</td>\n      <td>0</td>\n      <td>0</td>\n      <td>0</td>\n      <td>0</td>\n      <td>0</td>\n      <td>1</td>\n      <td>...</td>\n      <td>0</td>\n      <td>0</td>\n      <td>0</td>\n      <td>0</td>\n      <td>0</td>\n      <td>0</td>\n      <td>0</td>\n      <td>0</td>\n      <td>0</td>\n      <td>0</td>\n    </tr>\n    <tr>\n      <th>698</th>\n      <td>0</td>\n      <td>0</td>\n      <td>0</td>\n      <td>0</td>\n      <td>0</td>\n      <td>0</td>\n      <td>0</td>\n      <td>0</td>\n      <td>0</td>\n      <td>0</td>\n      <td>...</td>\n      <td>0</td>\n      <td>0</td>\n      <td>0</td>\n      <td>0</td>\n      <td>1</td>\n      <td>0</td>\n      <td>0</td>\n      <td>0</td>\n      <td>0</td>\n      <td>0</td>\n    </tr>\n    <tr>\n      <th>699</th>\n      <td>0</td>\n      <td>0</td>\n      <td>0</td>\n      <td>0</td>\n      <td>0</td>\n      <td>0</td>\n      <td>0</td>\n      <td>0</td>\n      <td>0</td>\n      <td>0</td>\n      <td>...</td>\n      <td>0</td>\n      <td>0</td>\n      <td>0</td>\n      <td>0</td>\n      <td>0</td>\n      <td>0</td>\n      <td>0</td>\n      <td>0</td>\n      <td>0</td>\n      <td>1</td>\n    </tr>\n  </tbody>\n</table>\n<p>692 rows × 27 columns</p>\n</div>"
     },
     "execution_count": 128,
     "metadata": {},
     "output_type": "execute_result"
    }
   ],
   "source": [
    "dummy_reason_for_absence"
   ],
   "metadata": {
    "collapsed": false,
    "ExecuteTime": {
     "end_time": "2024-09-12T10:28:26.700947Z",
     "start_time": "2024-09-12T10:28:26.691268Z"
    }
   },
   "id": "95588196d510427b",
   "execution_count": 128
  },
  {
   "cell_type": "markdown",
   "source": [],
   "metadata": {
    "collapsed": false
   },
   "id": "a72824036c6956ea"
  },
  {
   "cell_type": "markdown",
   "source": [
    "## Categorize reason for absence due to meta data\n",
    "Reason1 = 0-14 \n",
    "Reason2 = 15-17\n",
    "Reason3 = 18-21\n",
    "Reason4 = 22-28\n",
    "\n",
    "i categorize them base on similarity "
   ],
   "metadata": {
    "collapsed": false
   },
   "id": "4c4c8d513c3dba67"
  },
  {
   "cell_type": "code",
   "outputs": [
    {
     "data": {
      "text/plain": "0      0\n1      0\n2      0\n3      0\n4      0\n      ..\n695    0\n696    0\n697    0\n698    0\n699    0\nName: 1, Length: 692, dtype: int32"
     },
     "execution_count": 129,
     "metadata": {},
     "output_type": "execute_result"
    }
   ],
   "source": [
    "dummy_reason_for_absence[1]"
   ],
   "metadata": {
    "collapsed": false,
    "ExecuteTime": {
     "end_time": "2024-09-12T10:28:26.799240Z",
     "start_time": "2024-09-12T10:28:26.794700Z"
    }
   },
   "id": "a548de38e1723618",
   "execution_count": 129
  },
  {
   "cell_type": "code",
   "outputs": [],
   "source": [
    "reason_1 = dummy_reason_for_absence.loc[:, 1:14].max(axis=1)\n",
    "reason_2 = dummy_reason_for_absence.loc[:, 15:17].max(axis=1)\n",
    "reason_3 = dummy_reason_for_absence.loc[:, 18:21].max(axis=1)\n",
    "reason_4 = dummy_reason_for_absence.loc[:, 22:].max(axis=1)"
   ],
   "metadata": {
    "collapsed": false,
    "ExecuteTime": {
     "end_time": "2024-09-12T10:28:26.946663Z",
     "start_time": "2024-09-12T10:28:26.941861Z"
    }
   },
   "id": "86d116d813324251",
   "execution_count": 130
  },
  {
   "cell_type": "code",
   "outputs": [
    {
     "name": "stdout",
     "output_type": "stream",
     "text": [
      "175\n",
      "6\n",
      "63\n",
      "410\n"
     ]
    }
   ],
   "source": [
    "print(reason_1.sum())\n",
    "print(reason_2.sum())\n",
    "print(reason_3.sum())\n",
    "print(reason_4.sum())"
   ],
   "metadata": {
    "collapsed": false,
    "ExecuteTime": {
     "end_time": "2024-09-12T10:28:27.062785Z",
     "start_time": "2024-09-12T10:28:27.059366Z"
    }
   },
   "id": "c65d468e0cf11541",
   "execution_count": 131
  },
  {
   "cell_type": "code",
   "outputs": [],
   "source": [
    "for name, value in [('Reason_1', reason_1),\n",
    "                    ('Reason_2', reason_2),\n",
    "                    ('Reason_3', reason_3),\n",
    "                    ('Reason_4', reason_4)]:\n",
    "    fData.insert(1, name, value)"
   ],
   "metadata": {
    "collapsed": false,
    "ExecuteTime": {
     "end_time": "2024-09-12T10:28:27.210127Z",
     "start_time": "2024-09-12T10:28:27.206454Z"
    }
   },
   "id": "c12f846b40798a19",
   "execution_count": 132
  },
  {
   "cell_type": "code",
   "outputs": [
    {
     "data": {
      "text/plain": "     Reason for Absence  Reason_4  Reason_3  Reason_2  Reason_1        Date  \\\n0                    26         1         0         0         0  07/07/2015   \n1                     0         0         0         0         0  14/07/2015   \n2                    23         1         0         0         0  15/07/2015   \n3                     7         0         0         0         1  16/07/2015   \n4                    23         1         0         0         0  23/07/2015   \n..                  ...       ...       ...       ...       ...         ...   \n695                  10         0         0         0         1  23/05/2018   \n696                   6         0         0         0         1  23/05/2018   \n697                  10         0         0         0         1  24/05/2018   \n698                  23         1         0         0         0  24/05/2018   \n699                  28         1         0         0         0  31/05/2018   \n\n     Transportation Expense  Distance to Work  Age  Daily Work Load Average  \\\n0                       289                36   33                  239.554   \n1                       118                13   50                  239.554   \n2                       179                51   38                  239.554   \n3                       279                 5   39                  239.554   \n4                       289                36   33                  239.554   \n..                      ...               ...  ...                      ...   \n695                     179                22   40                  237.656   \n696                     225                26   28                  237.656   \n697                     330                16   28                  237.656   \n698                     235                16   32                  237.656   \n699                     291                31   40                  237.656   \n\n     Body Mass Index  Education  Children  Pets  Absenteeism Time in Hours  \n0                 30          1         2     1                          4  \n1                 31          1         1     0                          0  \n2                 31          1         0     0                          2  \n3                 24          1         2     0                          4  \n4                 30          1         2     1                          2  \n..               ...        ...       ...   ...                        ...  \n695               22          2         2     0                          8  \n696               24          1         1     2                          3  \n697               25          2         0     0                          8  \n698               25          3         0     0                          2  \n699               25          1         1     1                          2  \n\n[692 rows x 15 columns]",
      "text/html": "<div>\n<style scoped>\n    .dataframe tbody tr th:only-of-type {\n        vertical-align: middle;\n    }\n\n    .dataframe tbody tr th {\n        vertical-align: top;\n    }\n\n    .dataframe thead th {\n        text-align: right;\n    }\n</style>\n<table border=\"1\" class=\"dataframe\">\n  <thead>\n    <tr style=\"text-align: right;\">\n      <th></th>\n      <th>Reason for Absence</th>\n      <th>Reason_4</th>\n      <th>Reason_3</th>\n      <th>Reason_2</th>\n      <th>Reason_1</th>\n      <th>Date</th>\n      <th>Transportation Expense</th>\n      <th>Distance to Work</th>\n      <th>Age</th>\n      <th>Daily Work Load Average</th>\n      <th>Body Mass Index</th>\n      <th>Education</th>\n      <th>Children</th>\n      <th>Pets</th>\n      <th>Absenteeism Time in Hours</th>\n    </tr>\n  </thead>\n  <tbody>\n    <tr>\n      <th>0</th>\n      <td>26</td>\n      <td>1</td>\n      <td>0</td>\n      <td>0</td>\n      <td>0</td>\n      <td>07/07/2015</td>\n      <td>289</td>\n      <td>36</td>\n      <td>33</td>\n      <td>239.554</td>\n      <td>30</td>\n      <td>1</td>\n      <td>2</td>\n      <td>1</td>\n      <td>4</td>\n    </tr>\n    <tr>\n      <th>1</th>\n      <td>0</td>\n      <td>0</td>\n      <td>0</td>\n      <td>0</td>\n      <td>0</td>\n      <td>14/07/2015</td>\n      <td>118</td>\n      <td>13</td>\n      <td>50</td>\n      <td>239.554</td>\n      <td>31</td>\n      <td>1</td>\n      <td>1</td>\n      <td>0</td>\n      <td>0</td>\n    </tr>\n    <tr>\n      <th>2</th>\n      <td>23</td>\n      <td>1</td>\n      <td>0</td>\n      <td>0</td>\n      <td>0</td>\n      <td>15/07/2015</td>\n      <td>179</td>\n      <td>51</td>\n      <td>38</td>\n      <td>239.554</td>\n      <td>31</td>\n      <td>1</td>\n      <td>0</td>\n      <td>0</td>\n      <td>2</td>\n    </tr>\n    <tr>\n      <th>3</th>\n      <td>7</td>\n      <td>0</td>\n      <td>0</td>\n      <td>0</td>\n      <td>1</td>\n      <td>16/07/2015</td>\n      <td>279</td>\n      <td>5</td>\n      <td>39</td>\n      <td>239.554</td>\n      <td>24</td>\n      <td>1</td>\n      <td>2</td>\n      <td>0</td>\n      <td>4</td>\n    </tr>\n    <tr>\n      <th>4</th>\n      <td>23</td>\n      <td>1</td>\n      <td>0</td>\n      <td>0</td>\n      <td>0</td>\n      <td>23/07/2015</td>\n      <td>289</td>\n      <td>36</td>\n      <td>33</td>\n      <td>239.554</td>\n      <td>30</td>\n      <td>1</td>\n      <td>2</td>\n      <td>1</td>\n      <td>2</td>\n    </tr>\n    <tr>\n      <th>...</th>\n      <td>...</td>\n      <td>...</td>\n      <td>...</td>\n      <td>...</td>\n      <td>...</td>\n      <td>...</td>\n      <td>...</td>\n      <td>...</td>\n      <td>...</td>\n      <td>...</td>\n      <td>...</td>\n      <td>...</td>\n      <td>...</td>\n      <td>...</td>\n      <td>...</td>\n    </tr>\n    <tr>\n      <th>695</th>\n      <td>10</td>\n      <td>0</td>\n      <td>0</td>\n      <td>0</td>\n      <td>1</td>\n      <td>23/05/2018</td>\n      <td>179</td>\n      <td>22</td>\n      <td>40</td>\n      <td>237.656</td>\n      <td>22</td>\n      <td>2</td>\n      <td>2</td>\n      <td>0</td>\n      <td>8</td>\n    </tr>\n    <tr>\n      <th>696</th>\n      <td>6</td>\n      <td>0</td>\n      <td>0</td>\n      <td>0</td>\n      <td>1</td>\n      <td>23/05/2018</td>\n      <td>225</td>\n      <td>26</td>\n      <td>28</td>\n      <td>237.656</td>\n      <td>24</td>\n      <td>1</td>\n      <td>1</td>\n      <td>2</td>\n      <td>3</td>\n    </tr>\n    <tr>\n      <th>697</th>\n      <td>10</td>\n      <td>0</td>\n      <td>0</td>\n      <td>0</td>\n      <td>1</td>\n      <td>24/05/2018</td>\n      <td>330</td>\n      <td>16</td>\n      <td>28</td>\n      <td>237.656</td>\n      <td>25</td>\n      <td>2</td>\n      <td>0</td>\n      <td>0</td>\n      <td>8</td>\n    </tr>\n    <tr>\n      <th>698</th>\n      <td>23</td>\n      <td>1</td>\n      <td>0</td>\n      <td>0</td>\n      <td>0</td>\n      <td>24/05/2018</td>\n      <td>235</td>\n      <td>16</td>\n      <td>32</td>\n      <td>237.656</td>\n      <td>25</td>\n      <td>3</td>\n      <td>0</td>\n      <td>0</td>\n      <td>2</td>\n    </tr>\n    <tr>\n      <th>699</th>\n      <td>28</td>\n      <td>1</td>\n      <td>0</td>\n      <td>0</td>\n      <td>0</td>\n      <td>31/05/2018</td>\n      <td>291</td>\n      <td>31</td>\n      <td>40</td>\n      <td>237.656</td>\n      <td>25</td>\n      <td>1</td>\n      <td>1</td>\n      <td>1</td>\n      <td>2</td>\n    </tr>\n  </tbody>\n</table>\n<p>692 rows × 15 columns</p>\n</div>"
     },
     "execution_count": 133,
     "metadata": {},
     "output_type": "execute_result"
    }
   ],
   "source": [
    "fData"
   ],
   "metadata": {
    "collapsed": false,
    "ExecuteTime": {
     "end_time": "2024-09-12T10:28:27.282057Z",
     "start_time": "2024-09-12T10:28:27.272989Z"
    }
   },
   "id": "f933a12fb92363b3",
   "execution_count": 133
  },
  {
   "cell_type": "markdown",
   "source": [],
   "metadata": {
    "collapsed": false
   },
   "id": "7b93ae784cea61ae"
  },
  {
   "cell_type": "raw",
   "source": [
    "bar chart replaced by pie chart\n",
    "# plt.figure(figsize=(9,6))\n",
    "# x=['Reason_1','Reason_2','Reason_3','Reason_4']\n",
    "# y=[reason_1.sum(),reason_2.sum(),reason_3.sum(),reason_4.sum()]\n",
    "# plt.bar(x,y,color='yellow')\n",
    "# title_font={'family':'serif',\n",
    "#             'weight':'bold',\n",
    "#             'size':17}\n",
    "# plt.title('Distribution in reason for absence columns',fontdict=title_font)\n",
    "# plt.ylabel('Number of absences',fontdict={'size':14})\n",
    "# plt.show()"
   ],
   "metadata": {
    "collapsed": false
   },
   "id": "af1b10735f345619"
  },
  {
   "cell_type": "code",
   "outputs": [
    {
     "data": {
      "text/plain": "<Figure size 1500x600 with 1 Axes>",
      "image/png": "[encoded data removed]"
     },
     "metadata": {},
     "output_type": "display_data"
    }
   ],
   "source": [
    "plt.figure(figsize=(15, 6))\n",
    "labels = ['Reason_1', 'Reason_2', 'Reason_3', 'Reason_4']\n",
    "colors = ['#ff9999', '#66b3ff', '#99ff99', '#ffcc99']\n",
    "y = [reason_1.sum(), reason_2.sum(), reason_3.sum(), reason_4.sum()]\n",
    "plt.pie(y, colors=colors)\n",
    "title_font = {'family': 'serif',\n",
    "              'weight': 'bold',\n",
    "              'size': 17}\n",
    "plt.legend(labels, title='Absence type', loc='best')\n",
    "plt.title('Distribution in reason for absence columns', fontdict=title_font)\n",
    "plt.show()"
   ],
   "metadata": {
    "collapsed": false,
    "ExecuteTime": {
     "end_time": "2024-09-12T10:28:27.459215Z",
     "start_time": "2024-09-12T10:28:27.380377Z"
    }
   },
   "id": "56fc9fee31feb85",
   "execution_count": 134
  },
  {
   "cell_type": "markdown",
   "source": [
    "## dropping 'Reason for Absence' column to avoid multicollinearity "
   ],
   "metadata": {
    "collapsed": false
   },
   "id": "cb68e6ef0a78a3d8"
  },
  {
   "cell_type": "code",
   "outputs": [],
   "source": [
    "fData.drop('Reason for Absence', axis=1, inplace=True)"
   ],
   "metadata": {
    "collapsed": false,
    "ExecuteTime": {
     "end_time": "2024-09-12T10:28:27.463607Z",
     "start_time": "2024-09-12T10:28:27.460215Z"
    }
   },
   "id": "297cee0565dd9eb1",
   "execution_count": 135
  },
  {
   "cell_type": "code",
   "outputs": [
    {
     "data": {
      "text/plain": "(692, 14)"
     },
     "execution_count": 136,
     "metadata": {},
     "output_type": "execute_result"
    }
   ],
   "source": [
    "fData.shape"
   ],
   "metadata": {
    "collapsed": false,
    "ExecuteTime": {
     "end_time": "2024-09-12T10:28:27.543715Z",
     "start_time": "2024-09-12T10:28:27.540431Z"
    }
   },
   "id": "a42d151ed158711d",
   "execution_count": 136
  },
  {
   "cell_type": "code",
   "outputs": [
    {
     "data": {
      "text/plain": "     Reason_4  Reason_3  Reason_2  Reason_1        Date  \\\n0           1         0         0         0  07/07/2015   \n1           0         0         0         0  14/07/2015   \n2           1         0         0         0  15/07/2015   \n3           0         0         0         1  16/07/2015   \n4           1         0         0         0  23/07/2015   \n..        ...       ...       ...       ...         ...   \n695         0         0         0         1  23/05/2018   \n696         0         0         0         1  23/05/2018   \n697         0         0         0         1  24/05/2018   \n698         1         0         0         0  24/05/2018   \n699         1         0         0         0  31/05/2018   \n\n     Transportation Expense  Distance to Work  Age  Daily Work Load Average  \\\n0                       289                36   33                  239.554   \n1                       118                13   50                  239.554   \n2                       179                51   38                  239.554   \n3                       279                 5   39                  239.554   \n4                       289                36   33                  239.554   \n..                      ...               ...  ...                      ...   \n695                     179                22   40                  237.656   \n696                     225                26   28                  237.656   \n697                     330                16   28                  237.656   \n698                     235                16   32                  237.656   \n699                     291                31   40                  237.656   \n\n     Body Mass Index  Education  Children  Pets  Absenteeism Time in Hours  \n0                 30          1         2     1                          4  \n1                 31          1         1     0                          0  \n2                 31          1         0     0                          2  \n3                 24          1         2     0                          4  \n4                 30          1         2     1                          2  \n..               ...        ...       ...   ...                        ...  \n695               22          2         2     0                          8  \n696               24          1         1     2                          3  \n697               25          2         0     0                          8  \n698               25          3         0     0                          2  \n699               25          1         1     1                          2  \n\n[692 rows x 14 columns]",
      "text/html": "<div>\n<style scoped>\n    .dataframe tbody tr th:only-of-type {\n        vertical-align: middle;\n    }\n\n    .dataframe tbody tr th {\n        vertical-align: top;\n    }\n\n    .dataframe thead th {\n        text-align: right;\n    }\n</style>\n<table border=\"1\" class=\"dataframe\">\n  <thead>\n    <tr style=\"text-align: right;\">\n      <th></th>\n      <th>Reason_4</th>\n      <th>Reason_3</th>\n      <th>Reason_2</th>\n      <th>Reason_1</th>\n      <th>Date</th>\n      <th>Transportation Expense</th>\n      <th>Distance to Work</th>\n      <th>Age</th>\n      <th>Daily Work Load Average</th>\n      <th>Body Mass Index</th>\n      <th>Education</th>\n      <th>Children</th>\n      <th>Pets</th>\n      <th>Absenteeism Time in Hours</th>\n    </tr>\n  </thead>\n  <tbody>\n    <tr>\n      <th>0</th>\n      <td>1</td>\n      <td>0</td>\n      <td>0</td>\n      <td>0</td>\n      <td>07/07/2015</td>\n      <td>289</td>\n      <td>36</td>\n      <td>33</td>\n      <td>239.554</td>\n      <td>30</td>\n      <td>1</td>\n      <td>2</td>\n      <td>1</td>\n      <td>4</td>\n    </tr>\n    <tr>\n      <th>1</th>\n      <td>0</td>\n      <td>0</td>\n      <td>0</td>\n      <td>0</td>\n      <td>14/07/2015</td>\n      <td>118</td>\n      <td>13</td>\n      <td>50</td>\n      <td>239.554</td>\n      <td>31</td>\n      <td>1</td>\n      <td>1</td>\n      <td>0</td>\n      <td>0</td>\n    </tr>\n    <tr>\n      <th>2</th>\n      <td>1</td>\n      <td>0</td>\n      <td>0</td>\n      <td>0</td>\n      <td>15/07/2015</td>\n      <td>179</td>\n      <td>51</td>\n      <td>38</td>\n      <td>239.554</td>\n      <td>31</td>\n      <td>1</td>\n      <td>0</td>\n      <td>0</td>\n      <td>2</td>\n    </tr>\n    <tr>\n      <th>3</th>\n      <td>0</td>\n      <td>0</td>\n      <td>0</td>\n      <td>1</td>\n      <td>16/07/2015</td>\n      <td>279</td>\n      <td>5</td>\n      <td>39</td>\n      <td>239.554</td>\n      <td>24</td>\n      <td>1</td>\n      <td>2</td>\n      <td>0</td>\n      <td>4</td>\n    </tr>\n    <tr>\n      <th>4</th>\n      <td>1</td>\n      <td>0</td>\n      <td>0</td>\n      <td>0</td>\n      <td>23/07/2015</td>\n      <td>289</td>\n      <td>36</td>\n      <td>33</td>\n      <td>239.554</td>\n      <td>30</td>\n      <td>1</td>\n      <td>2</td>\n      <td>1</td>\n      <td>2</td>\n    </tr>\n    <tr>\n      <th>...</th>\n      <td>...</td>\n      <td>...</td>\n      <td>...</td>\n      <td>...</td>\n      <td>...</td>\n      <td>...</td>\n      <td>...</td>\n      <td>...</td>\n      <td>...</td>\n      <td>...</td>\n      <td>...</td>\n      <td>...</td>\n      <td>...</td>\n      <td>...</td>\n    </tr>\n    <tr>\n      <th>695</th>\n      <td>0</td>\n      <td>0</td>\n      <td>0</td>\n      <td>1</td>\n      <td>23/05/2018</td>\n      <td>179</td>\n      <td>22</td>\n      <td>40</td>\n      <td>237.656</td>\n      <td>22</td>\n      <td>2</td>\n      <td>2</td>\n      <td>0</td>\n      <td>8</td>\n    </tr>\n    <tr>\n      <th>696</th>\n      <td>0</td>\n      <td>0</td>\n      <td>0</td>\n      <td>1</td>\n      <td>23/05/2018</td>\n      <td>225</td>\n      <td>26</td>\n      <td>28</td>\n      <td>237.656</td>\n      <td>24</td>\n      <td>1</td>\n      <td>1</td>\n      <td>2</td>\n      <td>3</td>\n    </tr>\n    <tr>\n      <th>697</th>\n      <td>0</td>\n      <td>0</td>\n      <td>0</td>\n      <td>1</td>\n      <td>24/05/2018</td>\n      <td>330</td>\n      <td>16</td>\n      <td>28</td>\n      <td>237.656</td>\n      <td>25</td>\n      <td>2</td>\n      <td>0</td>\n      <td>0</td>\n      <td>8</td>\n    </tr>\n    <tr>\n      <th>698</th>\n      <td>1</td>\n      <td>0</td>\n      <td>0</td>\n      <td>0</td>\n      <td>24/05/2018</td>\n      <td>235</td>\n      <td>16</td>\n      <td>32</td>\n      <td>237.656</td>\n      <td>25</td>\n      <td>3</td>\n      <td>0</td>\n      <td>0</td>\n      <td>2</td>\n    </tr>\n    <tr>\n      <th>699</th>\n      <td>1</td>\n      <td>0</td>\n      <td>0</td>\n      <td>0</td>\n      <td>31/05/2018</td>\n      <td>291</td>\n      <td>31</td>\n      <td>40</td>\n      <td>237.656</td>\n      <td>25</td>\n      <td>1</td>\n      <td>1</td>\n      <td>1</td>\n      <td>2</td>\n    </tr>\n  </tbody>\n</table>\n<p>692 rows × 14 columns</p>\n</div>"
     },
     "execution_count": 137,
     "metadata": {},
     "output_type": "execute_result"
    }
   ],
   "source": [
    "fData"
   ],
   "metadata": {
    "collapsed": false,
    "ExecuteTime": {
     "end_time": "2024-09-12T10:28:27.619902Z",
     "start_time": "2024-09-12T10:28:27.611569Z"
    }
   },
   "id": "3ffe88fdca4d662c",
   "execution_count": 137
  },
  {
   "cell_type": "markdown",
   "source": [
    "## Meta data for BMI \n",
    "BMI Categories:\n",
    "The World Health Organization (WHO) defines BMI categories as follows:\n",
    "\n",
    "Underweight: BMI < 18.5\n",
    "Normal weight: BMI 18.5–24.9\n",
    "Overweight: BMI 25.0–29.9\n",
    "Obesity (Class 1): BMI 30.0–34.9\n",
    "Obesity (Class 2): BMI 35.0–39.9\n",
    "Extreme Obesity (Class 3): BMI ≥ 40.0"
   ],
   "metadata": {
    "collapsed": false
   },
   "id": "96b16125e3d903d3"
  },
  {
   "cell_type": "markdown",
   "source": [
    "## Checking Education column"
   ],
   "metadata": {
    "collapsed": false
   },
   "id": "80880a9954fc35e1"
  },
  {
   "cell_type": "code",
   "outputs": [
    {
     "data": {
      "text/plain": "array([1, 3, 2, 4], dtype=int64)"
     },
     "execution_count": 138,
     "metadata": {},
     "output_type": "execute_result"
    }
   ],
   "source": [
    "fData['Education'].unique()"
   ],
   "metadata": {
    "collapsed": false,
    "ExecuteTime": {
     "end_time": "2024-09-12T10:28:27.838274Z",
     "start_time": "2024-09-12T10:28:27.834429Z"
    }
   },
   "id": "c32e0e7a6639d3de",
   "execution_count": 138
  },
  {
   "cell_type": "markdown",
   "source": [],
   "metadata": {
    "collapsed": false
   },
   "id": "fc630104f8e97c83"
  },
  {
   "cell_type": "markdown",
   "source": [
    "## Extracting the Day of the Week and month of the year from Dates"
   ],
   "metadata": {
    "collapsed": false
   },
   "id": "b7b445bded0530be"
  },
  {
   "cell_type": "code",
   "outputs": [
    {
     "data": {
      "text/plain": "pandas.core.series.Series"
     },
     "execution_count": 139,
     "metadata": {},
     "output_type": "execute_result"
    }
   ],
   "source": [
    "type(fData['Date'])"
   ],
   "metadata": {
    "collapsed": false,
    "ExecuteTime": {
     "end_time": "2024-09-12T10:28:27.901573Z",
     "start_time": "2024-09-12T10:28:27.898115Z"
    }
   },
   "id": "9704d8d677b3e52f",
   "execution_count": 139
  },
  {
   "cell_type": "code",
   "outputs": [
    {
     "data": {
      "text/plain": "0      07/07/2015\n1      14/07/2015\n2      15/07/2015\n3      16/07/2015\n4      23/07/2015\n          ...    \n695    23/05/2018\n696    23/05/2018\n697    24/05/2018\n698    24/05/2018\n699    31/05/2018\nName: Date, Length: 692, dtype: object"
     },
     "execution_count": 140,
     "metadata": {},
     "output_type": "execute_result"
    }
   ],
   "source": [
    "fData['Date']"
   ],
   "metadata": {
    "collapsed": false,
    "ExecuteTime": {
     "end_time": "2024-09-12T10:28:28.005802Z",
     "start_time": "2024-09-12T10:28:28.001292Z"
    }
   },
   "id": "3e45cbfc36e54399",
   "execution_count": 140
  },
  {
   "cell_type": "markdown",
   "source": [],
   "metadata": {
    "collapsed": false
   },
   "id": "b6ffac7efdd39f07"
  },
  {
   "cell_type": "markdown",
   "source": [
    "#### Backup before convert date column to datetime object"
   ],
   "metadata": {
    "collapsed": false
   },
   "id": "849c1c329d39d4a1"
  },
  {
   "cell_type": "code",
   "outputs": [],
   "source": [
    "fData_backup2 = fData.copy()"
   ],
   "metadata": {
    "collapsed": false,
    "ExecuteTime": {
     "end_time": "2024-09-12T10:28:28.122701Z",
     "start_time": "2024-09-12T10:28:28.119563Z"
    }
   },
   "id": "bb607c2c3ce11e71",
   "execution_count": 141
  },
  {
   "cell_type": "code",
   "outputs": [
    {
     "data": {
      "text/plain": "pandas.core.series.Series"
     },
     "execution_count": 142,
     "metadata": {},
     "output_type": "execute_result"
    }
   ],
   "source": [
    "type(fData_backup2['Date'])"
   ],
   "metadata": {
    "collapsed": false,
    "ExecuteTime": {
     "end_time": "2024-09-12T10:28:28.273432Z",
     "start_time": "2024-09-12T10:28:28.269397Z"
    }
   },
   "id": "ced427cc9789eb44",
   "execution_count": 142
  },
  {
   "cell_type": "markdown",
   "source": [],
   "metadata": {
    "collapsed": false
   },
   "id": "9d58e18435df5550"
  },
  {
   "cell_type": "markdown",
   "source": [],
   "metadata": {
    "collapsed": false
   },
   "id": "ae4e2686a1de38ad"
  },
  {
   "cell_type": "code",
   "outputs": [
    {
     "name": "stdout",
     "output_type": "stream",
     "text": [
      "datetime64[ns]\n"
     ]
    }
   ],
   "source": [
    "date_fData = pd.to_datetime(fData['Date'], dayfirst=True)\n",
    "print(date_fData.dtype)"
   ],
   "metadata": {
    "collapsed": false,
    "ExecuteTime": {
     "end_time": "2024-09-12T10:28:28.354047Z",
     "start_time": "2024-09-12T10:28:28.349231Z"
    }
   },
   "id": "a6d06078c9074dae",
   "execution_count": 143
  },
  {
   "cell_type": "code",
   "outputs": [],
   "source": [
    "day_of_week = date_fData.dt.weekday"
   ],
   "metadata": {
    "collapsed": false,
    "ExecuteTime": {
     "end_time": "2024-09-12T10:28:28.441346Z",
     "start_time": "2024-09-12T10:28:28.437861Z"
    }
   },
   "id": "654b9a296d4ed089",
   "execution_count": 144
  },
  {
   "cell_type": "code",
   "outputs": [
    {
     "data": {
      "text/plain": "0      1\n1      1\n2      2\n3      3\n4      3\n      ..\n695    2\n696    2\n697    3\n698    3\n699    3\nName: Date, Length: 692, dtype: int32"
     },
     "execution_count": 145,
     "metadata": {},
     "output_type": "execute_result"
    }
   ],
   "source": [
    "day_of_week"
   ],
   "metadata": {
    "collapsed": false,
    "ExecuteTime": {
     "end_time": "2024-09-12T10:28:28.471329Z",
     "start_time": "2024-09-12T10:28:28.467306Z"
    }
   },
   "id": "fb17a7629c5c50fb",
   "execution_count": 145
  },
  {
   "cell_type": "code",
   "outputs": [
    {
     "data": {
      "text/plain": "Date\n0    140\n1    138\n2    151\n3    119\n4    131\n5      4\n6      9\nName: count, dtype: int64"
     },
     "execution_count": 146,
     "metadata": {},
     "output_type": "execute_result"
    }
   ],
   "source": [
    "day_of_week.value_counts().sort_index()"
   ],
   "metadata": {
    "collapsed": false,
    "ExecuteTime": {
     "end_time": "2024-09-12T10:28:28.563508Z",
     "start_time": "2024-09-12T10:28:28.559202Z"
    }
   },
   "id": "163691186a9db527",
   "execution_count": 146
  },
  {
   "cell_type": "code",
   "outputs": [],
   "source": [
    "month_of_year = date_fData.dt.month"
   ],
   "metadata": {
    "collapsed": false,
    "ExecuteTime": {
     "end_time": "2024-09-12T10:28:28.628631Z",
     "start_time": "2024-09-12T10:28:28.625409Z"
    }
   },
   "id": "514db5d558aea0f9",
   "execution_count": 147
  },
  {
   "cell_type": "code",
   "outputs": [
    {
     "data": {
      "text/plain": "0      7\n1      7\n2      7\n3      7\n4      7\n      ..\n695    5\n696    5\n697    5\n698    5\n699    5\nName: Date, Length: 692, dtype: int32"
     },
     "execution_count": 148,
     "metadata": {},
     "output_type": "execute_result"
    }
   ],
   "source": [
    "month_of_year"
   ],
   "metadata": {
    "collapsed": false,
    "ExecuteTime": {
     "end_time": "2024-09-12T10:28:28.700897Z",
     "start_time": "2024-09-12T10:28:28.696479Z"
    }
   },
   "id": "dd6d9a9d7013721",
   "execution_count": 148
  },
  {
   "cell_type": "code",
   "outputs": [
    {
     "data": {
      "text/plain": "0     2015-07-07\n1     2015-07-14\n2     2015-07-15\n3     2015-07-16\n4     2015-07-23\n         ...    \n695   2018-05-23\n696   2018-05-23\n697   2018-05-24\n698   2018-05-24\n699   2018-05-31\nName: Date, Length: 692, dtype: datetime64[ns]"
     },
     "execution_count": 149,
     "metadata": {},
     "output_type": "execute_result"
    }
   ],
   "source": [
    "date_fData"
   ],
   "metadata": {
    "collapsed": false,
    "ExecuteTime": {
     "end_time": "2024-09-12T10:28:28.761156Z",
     "start_time": "2024-09-12T10:28:28.756777Z"
    }
   },
   "id": "12a16c0aa2fe7ba6",
   "execution_count": 149
  },
  {
   "cell_type": "code",
   "outputs": [
    {
     "data": {
      "text/plain": "     Reason_4  Reason_3  Reason_2  Reason_1        Date  \\\n0           1         0         0         0  07/07/2015   \n1           0         0         0         0  14/07/2015   \n2           1         0         0         0  15/07/2015   \n3           0         0         0         1  16/07/2015   \n4           1         0         0         0  23/07/2015   \n..        ...       ...       ...       ...         ...   \n695         0         0         0         1  23/05/2018   \n696         0         0         0         1  23/05/2018   \n697         0         0         0         1  24/05/2018   \n698         1         0         0         0  24/05/2018   \n699         1         0         0         0  31/05/2018   \n\n     Transportation Expense  Distance to Work  Age  Daily Work Load Average  \\\n0                       289                36   33                  239.554   \n1                       118                13   50                  239.554   \n2                       179                51   38                  239.554   \n3                       279                 5   39                  239.554   \n4                       289                36   33                  239.554   \n..                      ...               ...  ...                      ...   \n695                     179                22   40                  237.656   \n696                     225                26   28                  237.656   \n697                     330                16   28                  237.656   \n698                     235                16   32                  237.656   \n699                     291                31   40                  237.656   \n\n     Body Mass Index  Education  Children  Pets  Absenteeism Time in Hours  \n0                 30          1         2     1                          4  \n1                 31          1         1     0                          0  \n2                 31          1         0     0                          2  \n3                 24          1         2     0                          4  \n4                 30          1         2     1                          2  \n..               ...        ...       ...   ...                        ...  \n695               22          2         2     0                          8  \n696               24          1         1     2                          3  \n697               25          2         0     0                          8  \n698               25          3         0     0                          2  \n699               25          1         1     1                          2  \n\n[692 rows x 14 columns]",
      "text/html": "<div>\n<style scoped>\n    .dataframe tbody tr th:only-of-type {\n        vertical-align: middle;\n    }\n\n    .dataframe tbody tr th {\n        vertical-align: top;\n    }\n\n    .dataframe thead th {\n        text-align: right;\n    }\n</style>\n<table border=\"1\" class=\"dataframe\">\n  <thead>\n    <tr style=\"text-align: right;\">\n      <th></th>\n      <th>Reason_4</th>\n      <th>Reason_3</th>\n      <th>Reason_2</th>\n      <th>Reason_1</th>\n      <th>Date</th>\n      <th>Transportation Expense</th>\n      <th>Distance to Work</th>\n      <th>Age</th>\n      <th>Daily Work Load Average</th>\n      <th>Body Mass Index</th>\n      <th>Education</th>\n      <th>Children</th>\n      <th>Pets</th>\n      <th>Absenteeism Time in Hours</th>\n    </tr>\n  </thead>\n  <tbody>\n    <tr>\n      <th>0</th>\n      <td>1</td>\n      <td>0</td>\n      <td>0</td>\n      <td>0</td>\n      <td>07/07/2015</td>\n      <td>289</td>\n      <td>36</td>\n      <td>33</td>\n      <td>239.554</td>\n      <td>30</td>\n      <td>1</td>\n      <td>2</td>\n      <td>1</td>\n      <td>4</td>\n    </tr>\n    <tr>\n      <th>1</th>\n      <td>0</td>\n      <td>0</td>\n      <td>0</td>\n      <td>0</td>\n      <td>14/07/2015</td>\n      <td>118</td>\n      <td>13</td>\n      <td>50</td>\n      <td>239.554</td>\n      <td>31</td>\n      <td>1</td>\n      <td>1</td>\n      <td>0</td>\n      <td>0</td>\n    </tr>\n    <tr>\n      <th>2</th>\n      <td>1</td>\n      <td>0</td>\n      <td>0</td>\n      <td>0</td>\n      <td>15/07/2015</td>\n      <td>179</td>\n      <td>51</td>\n      <td>38</td>\n      <td>239.554</td>\n      <td>31</td>\n      <td>1</td>\n      <td>0</td>\n      <td>0</td>\n      <td>2</td>\n    </tr>\n    <tr>\n      <th>3</th>\n      <td>0</td>\n      <td>0</td>\n      <td>0</td>\n      <td>1</td>\n      <td>16/07/2015</td>\n      <td>279</td>\n      <td>5</td>\n      <td>39</td>\n      <td>239.554</td>\n      <td>24</td>\n      <td>1</td>\n      <td>2</td>\n      <td>0</td>\n      <td>4</td>\n    </tr>\n    <tr>\n      <th>4</th>\n      <td>1</td>\n      <td>0</td>\n      <td>0</td>\n      <td>0</td>\n      <td>23/07/2015</td>\n      <td>289</td>\n      <td>36</td>\n      <td>33</td>\n      <td>239.554</td>\n      <td>30</td>\n      <td>1</td>\n      <td>2</td>\n      <td>1</td>\n      <td>2</td>\n    </tr>\n    <tr>\n      <th>...</th>\n      <td>...</td>\n      <td>...</td>\n      <td>...</td>\n      <td>...</td>\n      <td>...</td>\n      <td>...</td>\n      <td>...</td>\n      <td>...</td>\n      <td>...</td>\n      <td>...</td>\n      <td>...</td>\n      <td>...</td>\n      <td>...</td>\n      <td>...</td>\n    </tr>\n    <tr>\n      <th>695</th>\n      <td>0</td>\n      <td>0</td>\n      <td>0</td>\n      <td>1</td>\n      <td>23/05/2018</td>\n      <td>179</td>\n      <td>22</td>\n      <td>40</td>\n      <td>237.656</td>\n      <td>22</td>\n      <td>2</td>\n      <td>2</td>\n      <td>0</td>\n      <td>8</td>\n    </tr>\n    <tr>\n      <th>696</th>\n      <td>0</td>\n      <td>0</td>\n      <td>0</td>\n      <td>1</td>\n      <td>23/05/2018</td>\n      <td>225</td>\n      <td>26</td>\n      <td>28</td>\n      <td>237.656</td>\n      <td>24</td>\n      <td>1</td>\n      <td>1</td>\n      <td>2</td>\n      <td>3</td>\n    </tr>\n    <tr>\n      <th>697</th>\n      <td>0</td>\n      <td>0</td>\n      <td>0</td>\n      <td>1</td>\n      <td>24/05/2018</td>\n      <td>330</td>\n      <td>16</td>\n      <td>28</td>\n      <td>237.656</td>\n      <td>25</td>\n      <td>2</td>\n      <td>0</td>\n      <td>0</td>\n      <td>8</td>\n    </tr>\n    <tr>\n      <th>698</th>\n      <td>1</td>\n      <td>0</td>\n      <td>0</td>\n      <td>0</td>\n      <td>24/05/2018</td>\n      <td>235</td>\n      <td>16</td>\n      <td>32</td>\n      <td>237.656</td>\n      <td>25</td>\n      <td>3</td>\n      <td>0</td>\n      <td>0</td>\n      <td>2</td>\n    </tr>\n    <tr>\n      <th>699</th>\n      <td>1</td>\n      <td>0</td>\n      <td>0</td>\n      <td>0</td>\n      <td>31/05/2018</td>\n      <td>291</td>\n      <td>31</td>\n      <td>40</td>\n      <td>237.656</td>\n      <td>25</td>\n      <td>1</td>\n      <td>1</td>\n      <td>1</td>\n      <td>2</td>\n    </tr>\n  </tbody>\n</table>\n<p>692 rows × 14 columns</p>\n</div>"
     },
     "execution_count": 150,
     "metadata": {},
     "output_type": "execute_result"
    }
   ],
   "source": [
    "fData"
   ],
   "metadata": {
    "collapsed": false,
    "ExecuteTime": {
     "end_time": "2024-09-12T10:28:28.832484Z",
     "start_time": "2024-09-12T10:28:28.824041Z"
    }
   },
   "id": "137ee2deff69de78",
   "execution_count": 150
  },
  {
   "cell_type": "code",
   "outputs": [],
   "source": [
    "fData.insert(2, 'Day of the week', day_of_week)"
   ],
   "metadata": {
    "collapsed": false,
    "ExecuteTime": {
     "end_time": "2024-09-12T10:28:28.897363Z",
     "start_time": "2024-09-12T10:28:28.894409Z"
    }
   },
   "id": "18079463a8fcba74",
   "execution_count": 151
  },
  {
   "cell_type": "code",
   "outputs": [],
   "source": [
    "fData.insert(3, 'Month of the year', month_of_year)"
   ],
   "metadata": {
    "collapsed": false,
    "ExecuteTime": {
     "end_time": "2024-09-12T10:28:28.963160Z",
     "start_time": "2024-09-12T10:28:28.960197Z"
    }
   },
   "id": "3a667cc67127d05c",
   "execution_count": 152
  },
  {
   "cell_type": "markdown",
   "source": [
    "## Day of the Week vs Employee Absences\n",
    "\n",
    "This chart shows employee absences by day of the week to identify which days have the highest absence rates."
   ],
   "metadata": {
    "collapsed": false
   },
   "id": "6a4faebfe8f35398"
  },
  {
   "cell_type": "code",
   "outputs": [
    {
     "data": {
      "text/plain": "<Figure size 900x600 with 1 Axes>",
      "image/png": "[encoded data removed]"
     },
     "metadata": {},
     "output_type": "display_data"
    }
   ],
   "source": [
    "plt.figure(figsize=(9, 6))\n",
    "days = [0, 1, 2, 3, 4, 5, 6, ]\n",
    "xtick_label = ['Monday', 'Tuesday', 'Wednesday', 'Thursday', 'Friday', 'Saturday', 'Sunday']\n",
    "plt.bar(days, day_of_week.value_counts().sort_index(), color='orange')\n",
    "plt.xticks(ticks=days, labels=xtick_label)\n",
    "plt.ylabel('Number of absences', fontdict={'size': 12})\n",
    "plt.title('Employee Absences by Day of the Week', fontdict=title_font)\n",
    "plt.show()"
   ],
   "metadata": {
    "collapsed": false,
    "ExecuteTime": {
     "end_time": "2024-09-12T10:28:29.169630Z",
     "start_time": "2024-09-12T10:28:29.053947Z"
    }
   },
   "id": "3b735da94b0ef826",
   "execution_count": 153
  },
  {
   "cell_type": "markdown",
   "source": [
    "The chart shows that Wednesday has the highest employee absences, with Monday and Friday also seeing higher rates. Saturday and Sunday have the fewest absences, likely due to fewer workdays. This midweek peak could be important for staffing considerations."
   ],
   "metadata": {
    "collapsed": false
   },
   "id": "132a8e75dd993e7b"
  },
  {
   "cell_type": "markdown",
   "source": [
    "## Employee Absence Hours Over the Month"
   ],
   "metadata": {
    "collapsed": false
   },
   "id": "e87dbdf3022f4cb9"
  },
  {
   "cell_type": "code",
   "outputs": [],
   "source": [
    "grouped_by_month = fData.groupby('Month of the year').sum()['Absenteeism Time in Hours']\n",
    "grouped_by_month = pd.DataFrame(grouped_by_month)"
   ],
   "metadata": {
    "collapsed": false,
    "ExecuteTime": {
     "end_time": "2024-09-12T10:28:29.217772Z",
     "start_time": "2024-09-12T10:28:29.212517Z"
    }
   },
   "id": "899e1f4a099fdf9a",
   "execution_count": 154
  },
  {
   "cell_type": "code",
   "outputs": [
    {
     "data": {
      "text/plain": "<Figure size 1000x600 with 1 Axes>",
      "image/png": "[encoded data removed]"
     },
     "metadata": {},
     "output_type": "display_data"
    }
   ],
   "source": [
    "plt.figure(figsize=(10, 6))\n",
    "plt.plot(grouped_by_month.index, grouped_by_month['Absenteeism Time in Hours'], marker='o', linestyle='--',\n",
    "         linewidth=1.8)\n",
    "plt.title('Absence of Employees for every Month', fontdict=title_font)\n",
    "plt.xticks(grouped_by_month.index)\n",
    "plt.ylabel('Sum of Absenteeism in Hours for every Month', fontdict={'size': 12})\n",
    "plt.xlabel('Month of the Year')\n",
    "plt.show()"
   ],
   "metadata": {
    "collapsed": false,
    "ExecuteTime": {
     "end_time": "2024-09-12T10:28:29.411132Z",
     "start_time": "2024-09-12T10:28:29.275650Z"
    }
   },
   "id": "cf3cad304952fc73",
   "execution_count": 155
  },
  {
   "cell_type": "markdown",
   "source": [
    "## Dropping Date column since it's not needed any more"
   ],
   "metadata": {
    "collapsed": false
   },
   "id": "a46dc73e3f233fdf"
  },
  {
   "cell_type": "code",
   "outputs": [],
   "source": [
    "fData.drop('Date', axis=1, inplace=True)"
   ],
   "metadata": {
    "collapsed": false,
    "ExecuteTime": {
     "end_time": "2024-09-12T10:28:29.415016Z",
     "start_time": "2024-09-12T10:28:29.412133Z"
    }
   },
   "id": "6af15783d5fbb2a",
   "execution_count": 156
  },
  {
   "cell_type": "markdown",
   "source": [],
   "metadata": {
    "collapsed": false
   },
   "id": "88a1f73efffdb861"
  },
  {
   "cell_type": "markdown",
   "source": [
    "## Reordering Columns"
   ],
   "metadata": {
    "collapsed": false
   },
   "id": "8542ace8ba033983"
  },
  {
   "cell_type": "code",
   "outputs": [
    {
     "data": {
      "text/plain": "Index(['Reason_4', 'Reason_3', 'Day of the week', 'Month of the year',\n       'Reason_2', 'Reason_1', 'Transportation Expense', 'Distance to Work',\n       'Age', 'Daily Work Load Average', 'Body Mass Index', 'Education',\n       'Children', 'Pets', 'Absenteeism Time in Hours'],\n      dtype='object')"
     },
     "execution_count": 157,
     "metadata": {},
     "output_type": "execute_result"
    }
   ],
   "source": [
    "fData.columns"
   ],
   "metadata": {
    "collapsed": false,
    "ExecuteTime": {
     "end_time": "2024-09-12T10:28:29.442170Z",
     "start_time": "2024-09-12T10:28:29.438995Z"
    }
   },
   "id": "c4f75a64a69d05ca",
   "execution_count": 157
  },
  {
   "cell_type": "code",
   "outputs": [],
   "source": [
    "column_names_reordered = ['Reason_1', 'Reason_2', 'Reason_3', 'Reason_4', 'Day of the week',\n",
    "                          'Month of the year', 'Transportation Expense', 'Distance to Work',\n",
    "                          'Age', 'Daily Work Load Average', 'Body Mass Index', 'Education',\n",
    "                          'Children', 'Pets', 'Absenteeism Time in Hours']\n",
    "fData = fData[column_names_reordered]"
   ],
   "metadata": {
    "collapsed": false,
    "ExecuteTime": {
     "end_time": "2024-09-12T10:28:29.579952Z",
     "start_time": "2024-09-12T10:28:29.576812Z"
    }
   },
   "id": "713aaebc0917bedc",
   "execution_count": 158
  },
  {
   "cell_type": "code",
   "outputs": [
    {
     "data": {
      "text/plain": "   Reason_1  Reason_2  Reason_3  Reason_4  Day of the week  Month of the year  \\\n0         0         0         0         1                1                  7   \n1         0         0         0         0                1                  7   \n2         0         0         0         1                2                  7   \n3         1         0         0         0                3                  7   \n4         0         0         0         1                3                  7   \n\n   Transportation Expense  Distance to Work  Age  Daily Work Load Average  \\\n0                     289                36   33                  239.554   \n1                     118                13   50                  239.554   \n2                     179                51   38                  239.554   \n3                     279                 5   39                  239.554   \n4                     289                36   33                  239.554   \n\n   Body Mass Index  Education  Children  Pets  Absenteeism Time in Hours  \n0               30          1         2     1                          4  \n1               31          1         1     0                          0  \n2               31          1         0     0                          2  \n3               24          1         2     0                          4  \n4               30          1         2     1                          2  ",
      "text/html": "<div>\n<style scoped>\n    .dataframe tbody tr th:only-of-type {\n        vertical-align: middle;\n    }\n\n    .dataframe tbody tr th {\n        vertical-align: top;\n    }\n\n    .dataframe thead th {\n        text-align: right;\n    }\n</style>\n<table border=\"1\" class=\"dataframe\">\n  <thead>\n    <tr style=\"text-align: right;\">\n      <th></th>\n      <th>Reason_1</th>\n      <th>Reason_2</th>\n      <th>Reason_3</th>\n      <th>Reason_4</th>\n      <th>Day of the week</th>\n      <th>Month of the year</th>\n      <th>Transportation Expense</th>\n      <th>Distance to Work</th>\n      <th>Age</th>\n      <th>Daily Work Load Average</th>\n      <th>Body Mass Index</th>\n      <th>Education</th>\n      <th>Children</th>\n      <th>Pets</th>\n      <th>Absenteeism Time in Hours</th>\n    </tr>\n  </thead>\n  <tbody>\n    <tr>\n      <th>0</th>\n      <td>0</td>\n      <td>0</td>\n      <td>0</td>\n      <td>1</td>\n      <td>1</td>\n      <td>7</td>\n      <td>289</td>\n      <td>36</td>\n      <td>33</td>\n      <td>239.554</td>\n      <td>30</td>\n      <td>1</td>\n      <td>2</td>\n      <td>1</td>\n      <td>4</td>\n    </tr>\n    <tr>\n      <th>1</th>\n      <td>0</td>\n      <td>0</td>\n      <td>0</td>\n      <td>0</td>\n      <td>1</td>\n      <td>7</td>\n      <td>118</td>\n      <td>13</td>\n      <td>50</td>\n      <td>239.554</td>\n      <td>31</td>\n      <td>1</td>\n      <td>1</td>\n      <td>0</td>\n      <td>0</td>\n    </tr>\n    <tr>\n      <th>2</th>\n      <td>0</td>\n      <td>0</td>\n      <td>0</td>\n      <td>1</td>\n      <td>2</td>\n      <td>7</td>\n      <td>179</td>\n      <td>51</td>\n      <td>38</td>\n      <td>239.554</td>\n      <td>31</td>\n      <td>1</td>\n      <td>0</td>\n      <td>0</td>\n      <td>2</td>\n    </tr>\n    <tr>\n      <th>3</th>\n      <td>1</td>\n      <td>0</td>\n      <td>0</td>\n      <td>0</td>\n      <td>3</td>\n      <td>7</td>\n      <td>279</td>\n      <td>5</td>\n      <td>39</td>\n      <td>239.554</td>\n      <td>24</td>\n      <td>1</td>\n      <td>2</td>\n      <td>0</td>\n      <td>4</td>\n    </tr>\n    <tr>\n      <th>4</th>\n      <td>0</td>\n      <td>0</td>\n      <td>0</td>\n      <td>1</td>\n      <td>3</td>\n      <td>7</td>\n      <td>289</td>\n      <td>36</td>\n      <td>33</td>\n      <td>239.554</td>\n      <td>30</td>\n      <td>1</td>\n      <td>2</td>\n      <td>1</td>\n      <td>2</td>\n    </tr>\n  </tbody>\n</table>\n</div>"
     },
     "execution_count": 159,
     "metadata": {},
     "output_type": "execute_result"
    }
   ],
   "source": [
    "fData.head()"
   ],
   "metadata": {
    "collapsed": false,
    "ExecuteTime": {
     "end_time": "2024-09-12T10:28:29.635886Z",
     "start_time": "2024-09-12T10:28:29.627853Z"
    }
   },
   "id": "77c9682684d164f0",
   "execution_count": 159
  },
  {
   "cell_type": "code",
   "outputs": [
    {
     "data": {
      "text/plain": "(692, 15)"
     },
     "execution_count": 160,
     "metadata": {},
     "output_type": "execute_result"
    }
   ],
   "source": [
    "fData.shape"
   ],
   "metadata": {
    "collapsed": false,
    "ExecuteTime": {
     "end_time": "2024-09-12T10:28:29.739414Z",
     "start_time": "2024-09-12T10:28:29.736618Z"
    }
   },
   "id": "8159cc5c52c02f5d",
   "execution_count": 160
  },
  {
   "cell_type": "markdown",
   "source": [],
   "metadata": {
    "collapsed": false
   },
   "id": "e8ff87456953b414"
  },
  {
   "cell_type": "markdown",
   "source": [
    "## Checkpoint_1"
   ],
   "metadata": {
    "collapsed": false
   },
   "id": "60bf20669c2a8599"
  },
  {
   "cell_type": "code",
   "outputs": [],
   "source": [
    "fData.to_csv('Checkpoint_1')"
   ],
   "metadata": {
    "collapsed": false,
    "ExecuteTime": {
     "end_time": "2024-09-12T10:28:29.781705Z",
     "start_time": "2024-09-12T10:28:29.776318Z"
    }
   },
   "id": "953c4eef42b086d1",
   "execution_count": 161
  },
  {
   "cell_type": "markdown",
   "source": [],
   "metadata": {
    "collapsed": false
   },
   "id": "9895a7b6997061ea"
  },
  {
   "cell_type": "markdown",
   "source": [],
   "metadata": {
    "collapsed": false
   },
   "id": "3958f3cfa6958df7"
  },
  {
   "cell_type": "code",
   "outputs": [],
   "source": [
    "df = pd.read_csv('Checkpoint_1')"
   ],
   "metadata": {
    "collapsed": false,
    "ExecuteTime": {
     "end_time": "2024-09-12T10:28:29.884341Z",
     "start_time": "2024-09-12T10:28:29.874492Z"
    }
   },
   "id": "b6488628f83c7a9d",
   "execution_count": 162
  },
  {
   "cell_type": "code",
   "outputs": [
    {
     "data": {
      "text/plain": "     Unnamed: 0  Reason_1  Reason_2  Reason_3  Reason_4  Day of the week  \\\n0             0         0         0         0         1                1   \n1             1         0         0         0         0                1   \n2             2         0         0         0         1                2   \n3             3         1         0         0         0                3   \n4             4         0         0         0         1                3   \n..          ...       ...       ...       ...       ...              ...   \n687         695         1         0         0         0                2   \n688         696         1         0         0         0                2   \n689         697         1         0         0         0                3   \n690         698         0         0         0         1                3   \n691         699         0         0         0         1                3   \n\n     Month of the year  Transportation Expense  Distance to Work  Age  \\\n0                    7                     289                36   33   \n1                    7                     118                13   50   \n2                    7                     179                51   38   \n3                    7                     279                 5   39   \n4                    7                     289                36   33   \n..                 ...                     ...               ...  ...   \n687                  5                     179                22   40   \n688                  5                     225                26   28   \n689                  5                     330                16   28   \n690                  5                     235                16   32   \n691                  5                     291                31   40   \n\n     Daily Work Load Average  Body Mass Index  Education  Children  Pets  \\\n0                    239.554               30          1         2     1   \n1                    239.554               31          1         1     0   \n2                    239.554               31          1         0     0   \n3                    239.554               24          1         2     0   \n4                    239.554               30          1         2     1   \n..                       ...              ...        ...       ...   ...   \n687                  237.656               22          2         2     0   \n688                  237.656               24          1         1     2   \n689                  237.656               25          2         0     0   \n690                  237.656               25          3         0     0   \n691                  237.656               25          1         1     1   \n\n     Absenteeism Time in Hours  \n0                            4  \n1                            0  \n2                            2  \n3                            4  \n4                            2  \n..                         ...  \n687                          8  \n688                          3  \n689                          8  \n690                          2  \n691                          2  \n\n[692 rows x 16 columns]",
      "text/html": "<div>\n<style scoped>\n    .dataframe tbody tr th:only-of-type {\n        vertical-align: middle;\n    }\n\n    .dataframe tbody tr th {\n        vertical-align: top;\n    }\n\n    .dataframe thead th {\n        text-align: right;\n    }\n</style>\n<table border=\"1\" class=\"dataframe\">\n  <thead>\n    <tr style=\"text-align: right;\">\n      <th></th>\n      <th>Unnamed: 0</th>\n      <th>Reason_1</th>\n      <th>Reason_2</th>\n      <th>Reason_3</th>\n      <th>Reason_4</th>\n      <th>Day of the week</th>\n      <th>Month of the year</th>\n      <th>Transportation Expense</th>\n      <th>Distance to Work</th>\n      <th>Age</th>\n      <th>Daily Work Load Average</th>\n      <th>Body Mass Index</th>\n      <th>Education</th>\n      <th>Children</th>\n      <th>Pets</th>\n      <th>Absenteeism Time in Hours</th>\n    </tr>\n  </thead>\n  <tbody>\n    <tr>\n      <th>0</th>\n      <td>0</td>\n      <td>0</td>\n      <td>0</td>\n      <td>0</td>\n      <td>1</td>\n      <td>1</td>\n      <td>7</td>\n      <td>289</td>\n      <td>36</td>\n      <td>33</td>\n      <td>239.554</td>\n      <td>30</td>\n      <td>1</td>\n      <td>2</td>\n      <td>1</td>\n      <td>4</td>\n    </tr>\n    <tr>\n      <th>1</th>\n      <td>1</td>\n      <td>0</td>\n      <td>0</td>\n      <td>0</td>\n      <td>0</td>\n      <td>1</td>\n      <td>7</td>\n      <td>118</td>\n      <td>13</td>\n      <td>50</td>\n      <td>239.554</td>\n      <td>31</td>\n      <td>1</td>\n      <td>1</td>\n      <td>0</td>\n      <td>0</td>\n    </tr>\n    <tr>\n      <th>2</th>\n      <td>2</td>\n      <td>0</td>\n      <td>0</td>\n      <td>0</td>\n      <td>1</td>\n      <td>2</td>\n      <td>7</td>\n      <td>179</td>\n      <td>51</td>\n      <td>38</td>\n      <td>239.554</td>\n      <td>31</td>\n      <td>1</td>\n      <td>0</td>\n      <td>0</td>\n      <td>2</td>\n    </tr>\n    <tr>\n      <th>3</th>\n      <td>3</td>\n      <td>1</td>\n      <td>0</td>\n      <td>0</td>\n      <td>0</td>\n      <td>3</td>\n      <td>7</td>\n      <td>279</td>\n      <td>5</td>\n      <td>39</td>\n      <td>239.554</td>\n      <td>24</td>\n      <td>1</td>\n      <td>2</td>\n      <td>0</td>\n      <td>4</td>\n    </tr>\n    <tr>\n      <th>4</th>\n      <td>4</td>\n      <td>0</td>\n      <td>0</td>\n      <td>0</td>\n      <td>1</td>\n      <td>3</td>\n      <td>7</td>\n      <td>289</td>\n      <td>36</td>\n      <td>33</td>\n      <td>239.554</td>\n      <td>30</td>\n      <td>1</td>\n      <td>2</td>\n      <td>1</td>\n      <td>2</td>\n    </tr>\n    <tr>\n      <th>...</th>\n      <td>...</td>\n      <td>...</td>\n      <td>...</td>\n      <td>...</td>\n      <td>...</td>\n      <td>...</td>\n      <td>...</td>\n      <td>...</td>\n      <td>...</td>\n      <td>...</td>\n      <td>...</td>\n      <td>...</td>\n      <td>...</td>\n      <td>...</td>\n      <td>...</td>\n      <td>...</td>\n    </tr>\n    <tr>\n      <th>687</th>\n      <td>695</td>\n      <td>1</td>\n      <td>0</td>\n      <td>0</td>\n      <td>0</td>\n      <td>2</td>\n      <td>5</td>\n      <td>179</td>\n      <td>22</td>\n      <td>40</td>\n      <td>237.656</td>\n      <td>22</td>\n      <td>2</td>\n      <td>2</td>\n      <td>0</td>\n      <td>8</td>\n    </tr>\n    <tr>\n      <th>688</th>\n      <td>696</td>\n      <td>1</td>\n      <td>0</td>\n      <td>0</td>\n      <td>0</td>\n      <td>2</td>\n      <td>5</td>\n      <td>225</td>\n      <td>26</td>\n      <td>28</td>\n      <td>237.656</td>\n      <td>24</td>\n      <td>1</td>\n      <td>1</td>\n      <td>2</td>\n      <td>3</td>\n    </tr>\n    <tr>\n      <th>689</th>\n      <td>697</td>\n      <td>1</td>\n      <td>0</td>\n      <td>0</td>\n      <td>0</td>\n      <td>3</td>\n      <td>5</td>\n      <td>330</td>\n      <td>16</td>\n      <td>28</td>\n      <td>237.656</td>\n      <td>25</td>\n      <td>2</td>\n      <td>0</td>\n      <td>0</td>\n      <td>8</td>\n    </tr>\n    <tr>\n      <th>690</th>\n      <td>698</td>\n      <td>0</td>\n      <td>0</td>\n      <td>0</td>\n      <td>1</td>\n      <td>3</td>\n      <td>5</td>\n      <td>235</td>\n      <td>16</td>\n      <td>32</td>\n      <td>237.656</td>\n      <td>25</td>\n      <td>3</td>\n      <td>0</td>\n      <td>0</td>\n      <td>2</td>\n    </tr>\n    <tr>\n      <th>691</th>\n      <td>699</td>\n      <td>0</td>\n      <td>0</td>\n      <td>0</td>\n      <td>1</td>\n      <td>3</td>\n      <td>5</td>\n      <td>291</td>\n      <td>31</td>\n      <td>40</td>\n      <td>237.656</td>\n      <td>25</td>\n      <td>1</td>\n      <td>1</td>\n      <td>1</td>\n      <td>2</td>\n    </tr>\n  </tbody>\n</table>\n<p>692 rows × 16 columns</p>\n</div>"
     },
     "execution_count": 163,
     "metadata": {},
     "output_type": "execute_result"
    }
   ],
   "source": [
    "df"
   ],
   "metadata": {
    "collapsed": false,
    "ExecuteTime": {
     "end_time": "2024-09-12T10:28:29.966169Z",
     "start_time": "2024-09-12T10:28:29.957149Z"
    }
   },
   "id": "534366f0f5abae22",
   "execution_count": 163
  },
  {
   "cell_type": "markdown",
   "source": [],
   "metadata": {
    "collapsed": false
   },
   "id": "e3d06e31a2cc09d6"
  },
  {
   "cell_type": "markdown",
   "source": [
    "## Checking Correlation\n",
    "Check variable correlations to prevent multicollinearity."
   ],
   "metadata": {
    "collapsed": false
   },
   "id": "86f4addb00caf90a"
  },
  {
   "cell_type": "code",
   "outputs": [
    {
     "data": {
      "text/plain": "                           Unnamed: 0  Reason_1  Reason_2  Reason_3  Reason_4  \\\nUnnamed: 0                   1.000000  0.016244  0.067786 -0.087191  0.050026   \nReason_1                     0.016244  1.000000 -0.054411 -0.184128 -0.701522   \nReason_2                     0.067786 -0.054411  1.000000 -0.029598 -0.112767   \nReason_3                    -0.087191 -0.184128 -0.029598  1.000000 -0.381603   \nReason_4                     0.050026 -0.701522 -0.112767 -0.381603  1.000000   \nDay of the week             -0.011627 -0.080244 -0.011517 -0.105051  0.114034   \nMonth of the year           -0.207489 -0.007159 -0.019256 -0.016263 -0.031317   \nTransportation Expense      -0.057087  0.004483 -0.001183  0.014425 -0.061257   \nDistance to Work            -0.055557 -0.101656 -0.022877 -0.024702  0.135177   \nAge                          0.032501  0.025567  0.030868 -0.018364 -0.066982   \nDaily Work Load Average     -0.282058  0.166507 -0.016674  0.014732 -0.165326   \nBody Mass Index             -0.015877 -0.075166 -0.078188 -0.036673  0.067451   \nEducation                    0.220896  0.078944  0.076295  0.029762 -0.071520   \nChildren                    -0.131607 -0.067395  0.081352  0.085739 -0.042367   \nPets                        -0.022057 -0.058668 -0.042252  0.103979 -0.007507   \nAbsenteeism Time in Hours   -0.005178  0.281238 -0.013341  0.203187 -0.305363   \n\n                           Day of the week  Month of the year  \\\nUnnamed: 0                       -0.011627          -0.207489   \nReason_1                         -0.080244          -0.007159   \nReason_2                         -0.011517          -0.019256   \nReason_3                         -0.105051          -0.016263   \nReason_4                          0.114034          -0.031317   \nDay of the week                   1.000000           0.071378   \nMonth of the year                 0.071378           1.000000   \nTransportation Expense            0.046281           0.124149   \nDistance to Work                  0.083060          -0.006407   \nAge                               0.005290           0.004046   \nDaily Work Load Average           0.015063          -0.170939   \nBody Mass Index                  -0.075323           0.062057   \nEducation                         0.057916          -0.073645   \nChildren                          0.110042           0.074905   \nPets                             -0.047210           0.072662   \nAbsenteeism Time in Hours        -0.120964           0.015360   \n\n                           Transportation Expense  Distance to Work       Age  \\\nUnnamed: 0                              -0.057087         -0.055557  0.032501   \nReason_1                                 0.004483         -0.101656  0.025567   \nReason_2                                -0.001183         -0.022877  0.030868   \nReason_3                                 0.014425         -0.024702 -0.018364   \nReason_4                                -0.061257          0.135177 -0.066982   \nDay of the week                          0.046281          0.083060  0.005290   \nMonth of the year                        0.124149         -0.006407  0.004046   \nTransportation Expense                   1.000000          0.232141 -0.225484   \nDistance to Work                         0.232141          1.000000 -0.131045   \nAge                                     -0.225484         -0.131045  1.000000   \nDaily Work Load Average                  0.012216         -0.067811 -0.044089   \nBody Mass Index                         -0.138364          0.137601  0.485365   \nEducation                               -0.058155         -0.286522 -0.207898   \nChildren                                 0.378652          0.046602  0.050197   \nPets                                     0.446167          0.171034 -0.250212   \nAbsenteeism Time in Hours                0.005784         -0.082987  0.037661   \n\n                           Daily Work Load Average  Body Mass Index  \\\nUnnamed: 0                               -0.282058        -0.015877   \nReason_1                                  0.166507        -0.075166   \nReason_2                                 -0.016674        -0.078188   \nReason_3                                  0.014732        -0.036673   \nReason_4                                 -0.165326         0.067451   \nDay of the week                           0.015063        -0.075323   \nMonth of the year                        -0.170939         0.062057   \nTransportation Expense                    0.012216        -0.138364   \nDistance to Work                         -0.067811         0.137601   \nAge                                      -0.044089         0.485365   \nDaily Work Load Average                   1.000000        -0.100229   \nBody Mass Index                          -0.100229         1.000000   \nEducation                                -0.077139        -0.349520   \nChildren                                  0.033052        -0.155970   \nPets                                      0.010801        -0.063881   \nAbsenteeism Time in Hours                 0.029971        -0.038803   \n\n                           Education  Children      Pets  \\\nUnnamed: 0                  0.220896 -0.131607 -0.022057   \nReason_1                    0.078944 -0.067395 -0.058668   \nReason_2                    0.076295  0.081352 -0.042252   \nReason_3                    0.029762  0.085739  0.103979   \nReason_4                   -0.071520 -0.042367 -0.007507   \nDay of the week             0.057916  0.110042 -0.047210   \nMonth of the year          -0.073645  0.074905  0.072662   \nTransportation Expense     -0.058155  0.378652  0.446167   \nDistance to Work           -0.286522  0.046602  0.171034   \nAge                        -0.207898  0.050197 -0.250212   \nDaily Work Load Average    -0.077139  0.033052  0.010801   \nBody Mass Index            -0.349520 -0.155970 -0.063881   \nEducation                   1.000000 -0.184451 -0.084043   \nChildren                   -0.184451  1.000000  0.111789   \nPets                       -0.084043  0.111789  1.000000   \nAbsenteeism Time in Hours  -0.037483  0.090718 -0.027094   \n\n                           Absenteeism Time in Hours  \nUnnamed: 0                                 -0.005178  \nReason_1                                    0.281238  \nReason_2                                   -0.013341  \nReason_3                                    0.203187  \nReason_4                                   -0.305363  \nDay of the week                            -0.120964  \nMonth of the year                           0.015360  \nTransportation Expense                      0.005784  \nDistance to Work                           -0.082987  \nAge                                         0.037661  \nDaily Work Load Average                     0.029971  \nBody Mass Index                            -0.038803  \nEducation                                  -0.037483  \nChildren                                    0.090718  \nPets                                       -0.027094  \nAbsenteeism Time in Hours                   1.000000  ",
      "text/html": "<div>\n<style scoped>\n    .dataframe tbody tr th:only-of-type {\n        vertical-align: middle;\n    }\n\n    .dataframe tbody tr th {\n        vertical-align: top;\n    }\n\n    .dataframe thead th {\n        text-align: right;\n    }\n</style>\n<table border=\"1\" class=\"dataframe\">\n  <thead>\n    <tr style=\"text-align: right;\">\n      <th></th>\n      <th>Unnamed: 0</th>\n      <th>Reason_1</th>\n      <th>Reason_2</th>\n      <th>Reason_3</th>\n      <th>Reason_4</th>\n      <th>Day of the week</th>\n      <th>Month of the year</th>\n      <th>Transportation Expense</th>\n      <th>Distance to Work</th>\n      <th>Age</th>\n      <th>Daily Work Load Average</th>\n      <th>Body Mass Index</th>\n      <th>Education</th>\n      <th>Children</th>\n      <th>Pets</th>\n      <th>Absenteeism Time in Hours</th>\n    </tr>\n  </thead>\n  <tbody>\n    <tr>\n      <th>Unnamed: 0</th>\n      <td>1.000000</td>\n      <td>0.016244</td>\n      <td>0.067786</td>\n      <td>-0.087191</td>\n      <td>0.050026</td>\n      <td>-0.011627</td>\n      <td>-0.207489</td>\n      <td>-0.057087</td>\n      <td>-0.055557</td>\n      <td>0.032501</td>\n      <td>-0.282058</td>\n      <td>-0.015877</td>\n      <td>0.220896</td>\n      <td>-0.131607</td>\n      <td>-0.022057</td>\n      <td>-0.005178</td>\n    </tr>\n    <tr>\n      <th>Reason_1</th>\n      <td>0.016244</td>\n      <td>1.000000</td>\n      <td>-0.054411</td>\n      <td>-0.184128</td>\n      <td>-0.701522</td>\n      <td>-0.080244</td>\n      <td>-0.007159</td>\n      <td>0.004483</td>\n      <td>-0.101656</td>\n      <td>0.025567</td>\n      <td>0.166507</td>\n      <td>-0.075166</td>\n      <td>0.078944</td>\n      <td>-0.067395</td>\n      <td>-0.058668</td>\n      <td>0.281238</td>\n    </tr>\n    <tr>\n      <th>Reason_2</th>\n      <td>0.067786</td>\n      <td>-0.054411</td>\n      <td>1.000000</td>\n      <td>-0.029598</td>\n      <td>-0.112767</td>\n      <td>-0.011517</td>\n      <td>-0.019256</td>\n      <td>-0.001183</td>\n      <td>-0.022877</td>\n      <td>0.030868</td>\n      <td>-0.016674</td>\n      <td>-0.078188</td>\n      <td>0.076295</td>\n      <td>0.081352</td>\n      <td>-0.042252</td>\n      <td>-0.013341</td>\n    </tr>\n    <tr>\n      <th>Reason_3</th>\n      <td>-0.087191</td>\n      <td>-0.184128</td>\n      <td>-0.029598</td>\n      <td>1.000000</td>\n      <td>-0.381603</td>\n      <td>-0.105051</td>\n      <td>-0.016263</td>\n      <td>0.014425</td>\n      <td>-0.024702</td>\n      <td>-0.018364</td>\n      <td>0.014732</td>\n      <td>-0.036673</td>\n      <td>0.029762</td>\n      <td>0.085739</td>\n      <td>0.103979</td>\n      <td>0.203187</td>\n    </tr>\n    <tr>\n      <th>Reason_4</th>\n      <td>0.050026</td>\n      <td>-0.701522</td>\n      <td>-0.112767</td>\n      <td>-0.381603</td>\n      <td>1.000000</td>\n      <td>0.114034</td>\n      <td>-0.031317</td>\n      <td>-0.061257</td>\n      <td>0.135177</td>\n      <td>-0.066982</td>\n      <td>-0.165326</td>\n      <td>0.067451</td>\n      <td>-0.071520</td>\n      <td>-0.042367</td>\n      <td>-0.007507</td>\n      <td>-0.305363</td>\n    </tr>\n    <tr>\n      <th>Day of the week</th>\n      <td>-0.011627</td>\n      <td>-0.080244</td>\n      <td>-0.011517</td>\n      <td>-0.105051</td>\n      <td>0.114034</td>\n      <td>1.000000</td>\n      <td>0.071378</td>\n      <td>0.046281</td>\n      <td>0.083060</td>\n      <td>0.005290</td>\n      <td>0.015063</td>\n      <td>-0.075323</td>\n      <td>0.057916</td>\n      <td>0.110042</td>\n      <td>-0.047210</td>\n      <td>-0.120964</td>\n    </tr>\n    <tr>\n      <th>Month of the year</th>\n      <td>-0.207489</td>\n      <td>-0.007159</td>\n      <td>-0.019256</td>\n      <td>-0.016263</td>\n      <td>-0.031317</td>\n      <td>0.071378</td>\n      <td>1.000000</td>\n      <td>0.124149</td>\n      <td>-0.006407</td>\n      <td>0.004046</td>\n      <td>-0.170939</td>\n      <td>0.062057</td>\n      <td>-0.073645</td>\n      <td>0.074905</td>\n      <td>0.072662</td>\n      <td>0.015360</td>\n    </tr>\n    <tr>\n      <th>Transportation Expense</th>\n      <td>-0.057087</td>\n      <td>0.004483</td>\n      <td>-0.001183</td>\n      <td>0.014425</td>\n      <td>-0.061257</td>\n      <td>0.046281</td>\n      <td>0.124149</td>\n      <td>1.000000</td>\n      <td>0.232141</td>\n      <td>-0.225484</td>\n      <td>0.012216</td>\n      <td>-0.138364</td>\n      <td>-0.058155</td>\n      <td>0.378652</td>\n      <td>0.446167</td>\n      <td>0.005784</td>\n    </tr>\n    <tr>\n      <th>Distance to Work</th>\n      <td>-0.055557</td>\n      <td>-0.101656</td>\n      <td>-0.022877</td>\n      <td>-0.024702</td>\n      <td>0.135177</td>\n      <td>0.083060</td>\n      <td>-0.006407</td>\n      <td>0.232141</td>\n      <td>1.000000</td>\n      <td>-0.131045</td>\n      <td>-0.067811</td>\n      <td>0.137601</td>\n      <td>-0.286522</td>\n      <td>0.046602</td>\n      <td>0.171034</td>\n      <td>-0.082987</td>\n    </tr>\n    <tr>\n      <th>Age</th>\n      <td>0.032501</td>\n      <td>0.025567</td>\n      <td>0.030868</td>\n      <td>-0.018364</td>\n      <td>-0.066982</td>\n      <td>0.005290</td>\n      <td>0.004046</td>\n      <td>-0.225484</td>\n      <td>-0.131045</td>\n      <td>1.000000</td>\n      <td>-0.044089</td>\n      <td>0.485365</td>\n      <td>-0.207898</td>\n      <td>0.050197</td>\n      <td>-0.250212</td>\n      <td>0.037661</td>\n    </tr>\n    <tr>\n      <th>Daily Work Load Average</th>\n      <td>-0.282058</td>\n      <td>0.166507</td>\n      <td>-0.016674</td>\n      <td>0.014732</td>\n      <td>-0.165326</td>\n      <td>0.015063</td>\n      <td>-0.170939</td>\n      <td>0.012216</td>\n      <td>-0.067811</td>\n      <td>-0.044089</td>\n      <td>1.000000</td>\n      <td>-0.100229</td>\n      <td>-0.077139</td>\n      <td>0.033052</td>\n      <td>0.010801</td>\n      <td>0.029971</td>\n    </tr>\n    <tr>\n      <th>Body Mass Index</th>\n      <td>-0.015877</td>\n      <td>-0.075166</td>\n      <td>-0.078188</td>\n      <td>-0.036673</td>\n      <td>0.067451</td>\n      <td>-0.075323</td>\n      <td>0.062057</td>\n      <td>-0.138364</td>\n      <td>0.137601</td>\n      <td>0.485365</td>\n      <td>-0.100229</td>\n      <td>1.000000</td>\n      <td>-0.349520</td>\n      <td>-0.155970</td>\n      <td>-0.063881</td>\n      <td>-0.038803</td>\n    </tr>\n    <tr>\n      <th>Education</th>\n      <td>0.220896</td>\n      <td>0.078944</td>\n      <td>0.076295</td>\n      <td>0.029762</td>\n      <td>-0.071520</td>\n      <td>0.057916</td>\n      <td>-0.073645</td>\n      <td>-0.058155</td>\n      <td>-0.286522</td>\n      <td>-0.207898</td>\n      <td>-0.077139</td>\n      <td>-0.349520</td>\n      <td>1.000000</td>\n      <td>-0.184451</td>\n      <td>-0.084043</td>\n      <td>-0.037483</td>\n    </tr>\n    <tr>\n      <th>Children</th>\n      <td>-0.131607</td>\n      <td>-0.067395</td>\n      <td>0.081352</td>\n      <td>0.085739</td>\n      <td>-0.042367</td>\n      <td>0.110042</td>\n      <td>0.074905</td>\n      <td>0.378652</td>\n      <td>0.046602</td>\n      <td>0.050197</td>\n      <td>0.033052</td>\n      <td>-0.155970</td>\n      <td>-0.184451</td>\n      <td>1.000000</td>\n      <td>0.111789</td>\n      <td>0.090718</td>\n    </tr>\n    <tr>\n      <th>Pets</th>\n      <td>-0.022057</td>\n      <td>-0.058668</td>\n      <td>-0.042252</td>\n      <td>0.103979</td>\n      <td>-0.007507</td>\n      <td>-0.047210</td>\n      <td>0.072662</td>\n      <td>0.446167</td>\n      <td>0.171034</td>\n      <td>-0.250212</td>\n      <td>0.010801</td>\n      <td>-0.063881</td>\n      <td>-0.084043</td>\n      <td>0.111789</td>\n      <td>1.000000</td>\n      <td>-0.027094</td>\n    </tr>\n    <tr>\n      <th>Absenteeism Time in Hours</th>\n      <td>-0.005178</td>\n      <td>0.281238</td>\n      <td>-0.013341</td>\n      <td>0.203187</td>\n      <td>-0.305363</td>\n      <td>-0.120964</td>\n      <td>0.015360</td>\n      <td>0.005784</td>\n      <td>-0.082987</td>\n      <td>0.037661</td>\n      <td>0.029971</td>\n      <td>-0.038803</td>\n      <td>-0.037483</td>\n      <td>0.090718</td>\n      <td>-0.027094</td>\n      <td>1.000000</td>\n    </tr>\n  </tbody>\n</table>\n</div>"
     },
     "execution_count": 164,
     "metadata": {},
     "output_type": "execute_result"
    }
   ],
   "source": [
    "df.corr()"
   ],
   "metadata": {
    "collapsed": false,
    "ExecuteTime": {
     "end_time": "2024-09-12T10:28:30.080740Z",
     "start_time": "2024-09-12T10:28:30.067934Z"
    }
   },
   "id": "715e59b1867287fd",
   "execution_count": 164
  },
  {
   "cell_type": "markdown",
   "source": [],
   "metadata": {
    "collapsed": false
   },
   "id": "9997ef7318d6c5b5"
  },
  {
   "cell_type": "markdown",
   "source": [
    "## Creating a backup copy"
   ],
   "metadata": {
    "collapsed": false
   },
   "id": "e7d45005279463e2"
  },
  {
   "cell_type": "code",
   "outputs": [],
   "source": [
    "backup_3 = df.copy()"
   ],
   "metadata": {
    "collapsed": false,
    "ExecuteTime": {
     "end_time": "2024-09-12T10:28:30.128892Z",
     "start_time": "2024-09-12T10:28:30.126618Z"
    }
   },
   "id": "901d564353bd3467",
   "execution_count": 165
  },
  {
   "cell_type": "markdown",
   "source": [],
   "metadata": {
    "collapsed": false
   },
   "id": "f96a982864193dae"
  },
  {
   "cell_type": "markdown",
   "source": [
    "## Working on \"Education\" column"
   ],
   "metadata": {
    "collapsed": false
   },
   "id": "66790ceecc4847aa"
  },
  {
   "cell_type": "code",
   "outputs": [
    {
     "data": {
      "text/plain": "array([1, 3, 2, 4], dtype=int64)"
     },
     "execution_count": 166,
     "metadata": {},
     "output_type": "execute_result"
    }
   ],
   "source": [
    "df['Education'].unique()"
   ],
   "metadata": {
    "collapsed": false,
    "ExecuteTime": {
     "end_time": "2024-09-12T10:28:30.248362Z",
     "start_time": "2024-09-12T10:28:30.244583Z"
    }
   },
   "id": "bdede2b9e1d1e5ab",
   "execution_count": 166
  },
  {
   "cell_type": "code",
   "outputs": [
    {
     "data": {
      "text/plain": "Education\n1    575\n3     73\n2     40\n4      4\nName: count, dtype: int64"
     },
     "execution_count": 167,
     "metadata": {},
     "output_type": "execute_result"
    }
   ],
   "source": [
    "df['Education'].value_counts()"
   ],
   "metadata": {
    "collapsed": false,
    "ExecuteTime": {
     "end_time": "2024-09-12T10:28:30.375181Z",
     "start_time": "2024-09-12T10:28:30.371081Z"
    }
   },
   "id": "3b22e137680ead1c",
   "execution_count": 167
  },
  {
   "cell_type": "markdown",
   "source": [
    "## Since the category 2-3-4 are so small i will merge them to one category\n",
    "MetaData for \"Education\" column:\n",
    "\n",
    "1 = high school\n",
    "2 = graduate\n",
    "3 = postgraduate\n",
    "4 = a master or a doctor"
   ],
   "metadata": {
    "collapsed": false
   },
   "id": "2c864f6b15570729"
  },
  {
   "cell_type": "code",
   "outputs": [],
   "source": [
    "df.loc[:, ['Education']] = df['Education'].map({1: 0, 2: 1, 3: 1, 4: 1})"
   ],
   "metadata": {
    "collapsed": false,
    "ExecuteTime": {
     "end_time": "2024-09-12T10:28:30.558885Z",
     "start_time": "2024-09-12T10:28:30.554804Z"
    }
   },
   "id": "f70f6d2df35cf09b",
   "execution_count": 168
  },
  {
   "cell_type": "code",
   "outputs": [
    {
     "data": {
      "text/plain": "   Unnamed: 0  Reason_1  Reason_2  Reason_3  Reason_4  Day of the week  \\\n0           0         0         0         0         1                1   \n1           1         0         0         0         0                1   \n2           2         0         0         0         1                2   \n3           3         1         0         0         0                3   \n4           4         0         0         0         1                3   \n\n   Month of the year  Transportation Expense  Distance to Work  Age  \\\n0                  7                     289                36   33   \n1                  7                     118                13   50   \n2                  7                     179                51   38   \n3                  7                     279                 5   39   \n4                  7                     289                36   33   \n\n   Daily Work Load Average  Body Mass Index  Education  Children  Pets  \\\n0                  239.554               30          0         2     1   \n1                  239.554               31          0         1     0   \n2                  239.554               31          0         0     0   \n3                  239.554               24          0         2     0   \n4                  239.554               30          0         2     1   \n\n   Absenteeism Time in Hours  \n0                          4  \n1                          0  \n2                          2  \n3                          4  \n4                          2  ",
      "text/html": "<div>\n<style scoped>\n    .dataframe tbody tr th:only-of-type {\n        vertical-align: middle;\n    }\n\n    .dataframe tbody tr th {\n        vertical-align: top;\n    }\n\n    .dataframe thead th {\n        text-align: right;\n    }\n</style>\n<table border=\"1\" class=\"dataframe\">\n  <thead>\n    <tr style=\"text-align: right;\">\n      <th></th>\n      <th>Unnamed: 0</th>\n      <th>Reason_1</th>\n      <th>Reason_2</th>\n      <th>Reason_3</th>\n      <th>Reason_4</th>\n      <th>Day of the week</th>\n      <th>Month of the year</th>\n      <th>Transportation Expense</th>\n      <th>Distance to Work</th>\n      <th>Age</th>\n      <th>Daily Work Load Average</th>\n      <th>Body Mass Index</th>\n      <th>Education</th>\n      <th>Children</th>\n      <th>Pets</th>\n      <th>Absenteeism Time in Hours</th>\n    </tr>\n  </thead>\n  <tbody>\n    <tr>\n      <th>0</th>\n      <td>0</td>\n      <td>0</td>\n      <td>0</td>\n      <td>0</td>\n      <td>1</td>\n      <td>1</td>\n      <td>7</td>\n      <td>289</td>\n      <td>36</td>\n      <td>33</td>\n      <td>239.554</td>\n      <td>30</td>\n      <td>0</td>\n      <td>2</td>\n      <td>1</td>\n      <td>4</td>\n    </tr>\n    <tr>\n      <th>1</th>\n      <td>1</td>\n      <td>0</td>\n      <td>0</td>\n      <td>0</td>\n      <td>0</td>\n      <td>1</td>\n      <td>7</td>\n      <td>118</td>\n      <td>13</td>\n      <td>50</td>\n      <td>239.554</td>\n      <td>31</td>\n      <td>0</td>\n      <td>1</td>\n      <td>0</td>\n      <td>0</td>\n    </tr>\n    <tr>\n      <th>2</th>\n      <td>2</td>\n      <td>0</td>\n      <td>0</td>\n      <td>0</td>\n      <td>1</td>\n      <td>2</td>\n      <td>7</td>\n      <td>179</td>\n      <td>51</td>\n      <td>38</td>\n      <td>239.554</td>\n      <td>31</td>\n      <td>0</td>\n      <td>0</td>\n      <td>0</td>\n      <td>2</td>\n    </tr>\n    <tr>\n      <th>3</th>\n      <td>3</td>\n      <td>1</td>\n      <td>0</td>\n      <td>0</td>\n      <td>0</td>\n      <td>3</td>\n      <td>7</td>\n      <td>279</td>\n      <td>5</td>\n      <td>39</td>\n      <td>239.554</td>\n      <td>24</td>\n      <td>0</td>\n      <td>2</td>\n      <td>0</td>\n      <td>4</td>\n    </tr>\n    <tr>\n      <th>4</th>\n      <td>4</td>\n      <td>0</td>\n      <td>0</td>\n      <td>0</td>\n      <td>1</td>\n      <td>3</td>\n      <td>7</td>\n      <td>289</td>\n      <td>36</td>\n      <td>33</td>\n      <td>239.554</td>\n      <td>30</td>\n      <td>0</td>\n      <td>2</td>\n      <td>1</td>\n      <td>2</td>\n    </tr>\n  </tbody>\n</table>\n</div>"
     },
     "execution_count": 169,
     "metadata": {},
     "output_type": "execute_result"
    }
   ],
   "source": [
    "df.head()"
   ],
   "metadata": {
    "collapsed": false,
    "ExecuteTime": {
     "end_time": "2024-09-12T10:28:30.619773Z",
     "start_time": "2024-09-12T10:28:30.611776Z"
    }
   },
   "id": "6eb3db0191ff69c",
   "execution_count": 169
  },
  {
   "cell_type": "code",
   "outputs": [
    {
     "data": {
      "text/plain": "array([0, 1], dtype=int64)"
     },
     "execution_count": 170,
     "metadata": {},
     "output_type": "execute_result"
    }
   ],
   "source": [
    "df['Education'].unique()"
   ],
   "metadata": {
    "collapsed": false,
    "ExecuteTime": {
     "end_time": "2024-09-12T10:28:30.701370Z",
     "start_time": "2024-09-12T10:28:30.697595Z"
    }
   },
   "id": "9cf0d54a768568d8",
   "execution_count": 170
  },
  {
   "cell_type": "markdown",
   "source": [],
   "metadata": {
    "collapsed": false
   },
   "id": "c3dfeb4aecaa7112"
  },
  {
   "cell_type": "markdown",
   "source": [
    "## Final Checkpoint"
   ],
   "metadata": {
    "collapsed": false
   },
   "id": "a5e07e927786b0cb"
  },
  {
   "cell_type": "code",
   "outputs": [],
   "source": [
    "df.to_csv('df-cleaned.csv', index=False)"
   ],
   "metadata": {
    "collapsed": false,
    "ExecuteTime": {
     "end_time": "2024-09-12T10:28:30.764998Z",
     "start_time": "2024-09-12T10:28:30.759363Z"
    }
   },
   "id": "faa6b75e6217b7b7",
   "execution_count": 171
  },
  {
   "cell_type": "markdown",
   "source": [],
   "metadata": {
    "collapsed": false
   },
   "id": "d95f8d9215f757f0"
  },
  {
   "cell_type": "markdown",
   "source": [],
   "metadata": {
    "collapsed": false
   },
   "id": "a56c79cdf5197ff3"
  },
  {
   "cell_type": "code",
   "outputs": [
    {
     "data": {
      "text/plain": "   Reason_1  Reason_2  Reason_3  Reason_4  Day of the week  Month of the year  \\\n0         0         0         0         1                1                  7   \n1         0         0         0         0                1                  7   \n2         0         0         0         1                2                  7   \n3         1         0         0         0                3                  7   \n4         0         0         0         1                3                  7   \n\n   Transportation Expense  Distance to Work  Age  Daily Work Load Average  \\\n0                     289                36   33                  239.554   \n1                     118                13   50                  239.554   \n2                     179                51   38                  239.554   \n3                     279                 5   39                  239.554   \n4                     289                36   33                  239.554   \n\n   Body Mass Index  Education  Children  Pets  Absenteeism Time in Hours  \n0               30          0         2     1                          4  \n1               31          0         1     0                          0  \n2               31          0         0     0                          2  \n3               24          0         2     0                          4  \n4               30          0         2     1                          2  ",
      "text/html": "<div>\n<style scoped>\n    .dataframe tbody tr th:only-of-type {\n        vertical-align: middle;\n    }\n\n    .dataframe tbody tr th {\n        vertical-align: top;\n    }\n\n    .dataframe thead th {\n        text-align: right;\n    }\n</style>\n<table border=\"1\" class=\"dataframe\">\n  <thead>\n    <tr style=\"text-align: right;\">\n      <th></th>\n      <th>Reason_1</th>\n      <th>Reason_2</th>\n      <th>Reason_3</th>\n      <th>Reason_4</th>\n      <th>Day of the week</th>\n      <th>Month of the year</th>\n      <th>Transportation Expense</th>\n      <th>Distance to Work</th>\n      <th>Age</th>\n      <th>Daily Work Load Average</th>\n      <th>Body Mass Index</th>\n      <th>Education</th>\n      <th>Children</th>\n      <th>Pets</th>\n      <th>Absenteeism Time in Hours</th>\n    </tr>\n  </thead>\n  <tbody>\n    <tr>\n      <th>0</th>\n      <td>0</td>\n      <td>0</td>\n      <td>0</td>\n      <td>1</td>\n      <td>1</td>\n      <td>7</td>\n      <td>289</td>\n      <td>36</td>\n      <td>33</td>\n      <td>239.554</td>\n      <td>30</td>\n      <td>0</td>\n      <td>2</td>\n      <td>1</td>\n      <td>4</td>\n    </tr>\n    <tr>\n      <th>1</th>\n      <td>0</td>\n      <td>0</td>\n      <td>0</td>\n      <td>0</td>\n      <td>1</td>\n      <td>7</td>\n      <td>118</td>\n      <td>13</td>\n      <td>50</td>\n      <td>239.554</td>\n      <td>31</td>\n      <td>0</td>\n      <td>1</td>\n      <td>0</td>\n      <td>0</td>\n    </tr>\n    <tr>\n      <th>2</th>\n      <td>0</td>\n      <td>0</td>\n      <td>0</td>\n      <td>1</td>\n      <td>2</td>\n      <td>7</td>\n      <td>179</td>\n      <td>51</td>\n      <td>38</td>\n      <td>239.554</td>\n      <td>31</td>\n      <td>0</td>\n      <td>0</td>\n      <td>0</td>\n      <td>2</td>\n    </tr>\n    <tr>\n      <th>3</th>\n      <td>1</td>\n      <td>0</td>\n      <td>0</td>\n      <td>0</td>\n      <td>3</td>\n      <td>7</td>\n      <td>279</td>\n      <td>5</td>\n      <td>39</td>\n      <td>239.554</td>\n      <td>24</td>\n      <td>0</td>\n      <td>2</td>\n      <td>0</td>\n      <td>4</td>\n    </tr>\n    <tr>\n      <th>4</th>\n      <td>0</td>\n      <td>0</td>\n      <td>0</td>\n      <td>1</td>\n      <td>3</td>\n      <td>7</td>\n      <td>289</td>\n      <td>36</td>\n      <td>33</td>\n      <td>239.554</td>\n      <td>30</td>\n      <td>0</td>\n      <td>2</td>\n      <td>1</td>\n      <td>2</td>\n    </tr>\n  </tbody>\n</table>\n</div>"
     },
     "execution_count": 172,
     "metadata": {},
     "output_type": "execute_result"
    }
   ],
   "source": [
    "df = pd.read_csv('df-cleaned.csv')\n",
    "df.drop('Unnamed: 0',inplace=True,axis=1)\n",
    "df.head()"
   ],
   "metadata": {
    "collapsed": false,
    "ExecuteTime": {
     "end_time": "2024-09-12T10:28:30.866014Z",
     "start_time": "2024-09-12T10:28:30.847854Z"
    }
   },
   "id": "30e03e32def3ce1f",
   "execution_count": 172
  },
  {
   "cell_type": "markdown",
   "source": [],
   "metadata": {
    "collapsed": false
   },
   "id": "22c4df1e7449bb0"
  },
  {
   "cell_type": "markdown",
   "source": [
    "# Machine learning "
   ],
   "metadata": {
    "collapsed": false
   },
   "id": "74b72d816fee11bd"
  },
  {
   "cell_type": "markdown",
   "source": [
    "## Importing Libraries"
   ],
   "metadata": {
    "collapsed": false
   },
   "id": "fe153c7a1ce26b50"
  },
  {
   "cell_type": "code",
   "outputs": [],
   "source": [
    "from sklearn.linear_model import LogisticRegression\n",
    "from sklearn.preprocessing import StandardScaler\n",
    "from sklearn.model_selection import train_test_split"
   ],
   "metadata": {
    "collapsed": false,
    "ExecuteTime": {
     "end_time": "2024-09-12T10:28:30.932693Z",
     "start_time": "2024-09-12T10:28:30.929873Z"
    }
   },
   "id": "1ee2c6715d82108e",
   "execution_count": 173
  },
  {
   "cell_type": "markdown",
   "source": [
    "## Setting Target:\n",
    "The target of this machine learning model is to predict whether an employee will be absent (1) or not absent (0) based on a set of input features.\n",
    "i will implement Logistic Regression algorithm and take a median to split the absent employees and not absent employee"
   ],
   "metadata": {
    "collapsed": false
   },
   "id": "50b2c54e4b3fbe52"
  },
  {
   "cell_type": "code",
   "outputs": [
    {
     "data": {
      "text/plain": "3.0"
     },
     "execution_count": 174,
     "metadata": {},
     "output_type": "execute_result"
    }
   ],
   "source": [
    "target_column = df['Absenteeism Time in Hours']\n",
    "np.median(target_column)"
   ],
   "metadata": {
    "collapsed": false,
    "ExecuteTime": {
     "end_time": "2024-09-12T10:28:31.093502Z",
     "start_time": "2024-09-12T10:28:31.090273Z"
    }
   },
   "id": "e69d661c265fa04c",
   "execution_count": 174
  },
  {
   "cell_type": "code",
   "outputs": [
    {
     "data": {
      "text/plain": "0      4\n1      0\n2      2\n3      4\n4      2\n      ..\n687    8\n688    3\n689    8\n690    2\n691    2\nName: Absenteeism Time in Hours, Length: 692, dtype: int64"
     },
     "execution_count": 175,
     "metadata": {},
     "output_type": "execute_result"
    }
   ],
   "source": [
    "target_column"
   ],
   "metadata": {
    "collapsed": false,
    "ExecuteTime": {
     "end_time": "2024-09-12T10:28:31.173552Z",
     "start_time": "2024-09-12T10:28:31.169301Z"
    }
   },
   "id": "d078c9452a61624",
   "execution_count": 175
  },
  {
   "cell_type": "code",
   "outputs": [],
   "source": [
    "#since the median is 3 the employees which were absent more than 3 hours a certain dat will be considered absent (1) and less than 3 hours not absent (0)\n",
    "target_column = np.where(target_column <= 3, 0, 1)"
   ],
   "metadata": {
    "collapsed": false,
    "ExecuteTime": {
     "end_time": "2024-09-12T10:28:31.291078Z",
     "start_time": "2024-09-12T10:28:31.288249Z"
    }
   },
   "id": "96ae6b73797bef27",
   "execution_count": 176
  },
  {
   "cell_type": "code",
   "outputs": [
    {
     "data": {
      "text/plain": "array([0, 1])"
     },
     "execution_count": 177,
     "metadata": {},
     "output_type": "execute_result"
    }
   ],
   "source": [
    "np.unique(target_column)"
   ],
   "metadata": {
    "collapsed": false,
    "ExecuteTime": {
     "end_time": "2024-09-12T10:28:31.341466Z",
     "start_time": "2024-09-12T10:28:31.337954Z"
    }
   },
   "id": "2dce9fbfdeadd84f",
   "execution_count": 177
  },
  {
   "cell_type": "code",
   "outputs": [
    {
     "data": {
      "text/plain": "0    373\n1    319\nName: count, dtype: int64"
     },
     "execution_count": 178,
     "metadata": {},
     "output_type": "execute_result"
    }
   ],
   "source": [
    "pd.Series.value_counts(target_column)"
   ],
   "metadata": {
    "collapsed": false,
    "ExecuteTime": {
     "end_time": "2024-09-12T10:28:31.425405Z",
     "start_time": "2024-09-12T10:28:31.421284Z"
    }
   },
   "id": "20772b497b7597ea",
   "execution_count": 178
  },
  {
   "cell_type": "markdown",
   "source": [],
   "metadata": {
    "collapsed": false
   },
   "id": "f1137d592ef95290"
  },
  {
   "cell_type": "markdown",
   "source": [
    "## Taking Backup for going further in machine learning process"
   ],
   "metadata": {
    "collapsed": false
   },
   "id": "9582d8b0ea5c6f69"
  },
  {
   "cell_type": "code",
   "outputs": [],
   "source": [
    "df_ml = df.copy()"
   ],
   "metadata": {
    "collapsed": false,
    "ExecuteTime": {
     "end_time": "2024-09-12T10:28:31.484051Z",
     "start_time": "2024-09-12T10:28:31.481318Z"
    }
   },
   "id": "45737defd3900b5a",
   "execution_count": 179
  },
  {
   "cell_type": "markdown",
   "source": [],
   "metadata": {
    "collapsed": false
   },
   "id": "856015e20d3df1e2"
  },
  {
   "cell_type": "markdown",
   "source": [],
   "metadata": {
    "collapsed": false
   },
   "id": "769d327fa41cbb6e"
  },
  {
   "cell_type": "code",
   "outputs": [
    {
     "data": {
      "text/plain": "     Reason_1  Reason_2  Reason_3  Reason_4  Day of the week  \\\n0           0         0         0         1                1   \n1           0         0         0         0                1   \n2           0         0         0         1                2   \n3           1         0         0         0                3   \n4           0         0         0         1                3   \n..        ...       ...       ...       ...              ...   \n687         1         0         0         0                2   \n688         1         0         0         0                2   \n689         1         0         0         0                3   \n690         0         0         0         1                3   \n691         0         0         0         1                3   \n\n     Month of the year  Transportation Expense  Distance to Work  Age  \\\n0                    7                     289                36   33   \n1                    7                     118                13   50   \n2                    7                     179                51   38   \n3                    7                     279                 5   39   \n4                    7                     289                36   33   \n..                 ...                     ...               ...  ...   \n687                  5                     179                22   40   \n688                  5                     225                26   28   \n689                  5                     330                16   28   \n690                  5                     235                16   32   \n691                  5                     291                31   40   \n\n     Daily Work Load Average  Body Mass Index  Education  Children  Pets  \\\n0                    239.554               30          0         2     1   \n1                    239.554               31          0         1     0   \n2                    239.554               31          0         0     0   \n3                    239.554               24          0         2     0   \n4                    239.554               30          0         2     1   \n..                       ...              ...        ...       ...   ...   \n687                  237.656               22          1         2     0   \n688                  237.656               24          0         1     2   \n689                  237.656               25          1         0     0   \n690                  237.656               25          1         0     0   \n691                  237.656               25          0         1     1   \n\n     Absenteeism Time in Hours  Absent vs Not absent  \n0                            4                     1  \n1                            0                     0  \n2                            2                     0  \n3                            4                     1  \n4                            2                     0  \n..                         ...                   ...  \n687                          8                     1  \n688                          3                     0  \n689                          8                     1  \n690                          2                     0  \n691                          2                     0  \n\n[692 rows x 16 columns]",
      "text/html": "<div>\n<style scoped>\n    .dataframe tbody tr th:only-of-type {\n        vertical-align: middle;\n    }\n\n    .dataframe tbody tr th {\n        vertical-align: top;\n    }\n\n    .dataframe thead th {\n        text-align: right;\n    }\n</style>\n<table border=\"1\" class=\"dataframe\">\n  <thead>\n    <tr style=\"text-align: right;\">\n      <th></th>\n      <th>Reason_1</th>\n      <th>Reason_2</th>\n      <th>Reason_3</th>\n      <th>Reason_4</th>\n      <th>Day of the week</th>\n      <th>Month of the year</th>\n      <th>Transportation Expense</th>\n      <th>Distance to Work</th>\n      <th>Age</th>\n      <th>Daily Work Load Average</th>\n      <th>Body Mass Index</th>\n      <th>Education</th>\n      <th>Children</th>\n      <th>Pets</th>\n      <th>Absenteeism Time in Hours</th>\n      <th>Absent vs Not absent</th>\n    </tr>\n  </thead>\n  <tbody>\n    <tr>\n      <th>0</th>\n      <td>0</td>\n      <td>0</td>\n      <td>0</td>\n      <td>1</td>\n      <td>1</td>\n      <td>7</td>\n      <td>289</td>\n      <td>36</td>\n      <td>33</td>\n      <td>239.554</td>\n      <td>30</td>\n      <td>0</td>\n      <td>2</td>\n      <td>1</td>\n      <td>4</td>\n      <td>1</td>\n    </tr>\n    <tr>\n      <th>1</th>\n      <td>0</td>\n      <td>0</td>\n      <td>0</td>\n      <td>0</td>\n      <td>1</td>\n      <td>7</td>\n      <td>118</td>\n      <td>13</td>\n      <td>50</td>\n      <td>239.554</td>\n      <td>31</td>\n      <td>0</td>\n      <td>1</td>\n      <td>0</td>\n      <td>0</td>\n      <td>0</td>\n    </tr>\n    <tr>\n      <th>2</th>\n      <td>0</td>\n      <td>0</td>\n      <td>0</td>\n      <td>1</td>\n      <td>2</td>\n      <td>7</td>\n      <td>179</td>\n      <td>51</td>\n      <td>38</td>\n      <td>239.554</td>\n      <td>31</td>\n      <td>0</td>\n      <td>0</td>\n      <td>0</td>\n      <td>2</td>\n      <td>0</td>\n    </tr>\n    <tr>\n      <th>3</th>\n      <td>1</td>\n      <td>0</td>\n      <td>0</td>\n      <td>0</td>\n      <td>3</td>\n      <td>7</td>\n      <td>279</td>\n      <td>5</td>\n      <td>39</td>\n      <td>239.554</td>\n      <td>24</td>\n      <td>0</td>\n      <td>2</td>\n      <td>0</td>\n      <td>4</td>\n      <td>1</td>\n    </tr>\n    <tr>\n      <th>4</th>\n      <td>0</td>\n      <td>0</td>\n      <td>0</td>\n      <td>1</td>\n      <td>3</td>\n      <td>7</td>\n      <td>289</td>\n      <td>36</td>\n      <td>33</td>\n      <td>239.554</td>\n      <td>30</td>\n      <td>0</td>\n      <td>2</td>\n      <td>1</td>\n      <td>2</td>\n      <td>0</td>\n    </tr>\n    <tr>\n      <th>...</th>\n      <td>...</td>\n      <td>...</td>\n      <td>...</td>\n      <td>...</td>\n      <td>...</td>\n      <td>...</td>\n      <td>...</td>\n      <td>...</td>\n      <td>...</td>\n      <td>...</td>\n      <td>...</td>\n      <td>...</td>\n      <td>...</td>\n      <td>...</td>\n      <td>...</td>\n      <td>...</td>\n    </tr>\n    <tr>\n      <th>687</th>\n      <td>1</td>\n      <td>0</td>\n      <td>0</td>\n      <td>0</td>\n      <td>2</td>\n      <td>5</td>\n      <td>179</td>\n      <td>22</td>\n      <td>40</td>\n      <td>237.656</td>\n      <td>22</td>\n      <td>1</td>\n      <td>2</td>\n      <td>0</td>\n      <td>8</td>\n      <td>1</td>\n    </tr>\n    <tr>\n      <th>688</th>\n      <td>1</td>\n      <td>0</td>\n      <td>0</td>\n      <td>0</td>\n      <td>2</td>\n      <td>5</td>\n      <td>225</td>\n      <td>26</td>\n      <td>28</td>\n      <td>237.656</td>\n      <td>24</td>\n      <td>0</td>\n      <td>1</td>\n      <td>2</td>\n      <td>3</td>\n      <td>0</td>\n    </tr>\n    <tr>\n      <th>689</th>\n      <td>1</td>\n      <td>0</td>\n      <td>0</td>\n      <td>0</td>\n      <td>3</td>\n      <td>5</td>\n      <td>330</td>\n      <td>16</td>\n      <td>28</td>\n      <td>237.656</td>\n      <td>25</td>\n      <td>1</td>\n      <td>0</td>\n      <td>0</td>\n      <td>8</td>\n      <td>1</td>\n    </tr>\n    <tr>\n      <th>690</th>\n      <td>0</td>\n      <td>0</td>\n      <td>0</td>\n      <td>1</td>\n      <td>3</td>\n      <td>5</td>\n      <td>235</td>\n      <td>16</td>\n      <td>32</td>\n      <td>237.656</td>\n      <td>25</td>\n      <td>1</td>\n      <td>0</td>\n      <td>0</td>\n      <td>2</td>\n      <td>0</td>\n    </tr>\n    <tr>\n      <th>691</th>\n      <td>0</td>\n      <td>0</td>\n      <td>0</td>\n      <td>1</td>\n      <td>3</td>\n      <td>5</td>\n      <td>291</td>\n      <td>31</td>\n      <td>40</td>\n      <td>237.656</td>\n      <td>25</td>\n      <td>0</td>\n      <td>1</td>\n      <td>1</td>\n      <td>2</td>\n      <td>0</td>\n    </tr>\n  </tbody>\n</table>\n<p>692 rows × 16 columns</p>\n</div>"
     },
     "execution_count": 180,
     "metadata": {},
     "output_type": "execute_result"
    }
   ],
   "source": [
    "df_ml['Absent vs Not absent'] = target_column\n",
    "df_ml"
   ],
   "metadata": {
    "collapsed": false,
    "ExecuteTime": {
     "end_time": "2024-09-12T10:28:31.555414Z",
     "start_time": "2024-09-12T10:28:31.546916Z"
    }
   },
   "id": "486df26769f10183",
   "execution_count": 180
  },
  {
   "cell_type": "markdown",
   "source": [
    "## Dropping \"Absenteeism Time in Hours\" column"
   ],
   "metadata": {
    "collapsed": false
   },
   "id": "e3b9a8865402168f"
  },
  {
   "cell_type": "code",
   "outputs": [],
   "source": [
    "df_ml.drop('Absenteeism Time in Hours', axis=1, inplace=True)"
   ],
   "metadata": {
    "collapsed": false,
    "ExecuteTime": {
     "end_time": "2024-09-12T10:28:31.621561Z",
     "start_time": "2024-09-12T10:28:31.618276Z"
    }
   },
   "id": "3f7b50a280c3cf9",
   "execution_count": 181
  },
  {
   "cell_type": "markdown",
   "source": [
    "# Feature Scaling\n",
    "\n",
    "### Transforming \"Day of the Week\" and \"Month of the Year\" to Cyclical Features\n",
    "\n",
    "In this dataset, the \"Day of the Week\" and \"Month of the Year\" columns are represented as numerical values (e.g., 0 for Monday, 6 for Sunday; 1 for January, 12 for December). However, these values are **cyclical** in nature, meaning that they repeat in a circular pattern.\n",
    "\n",
    "For example:\n",
    "- In the \"Day of the Week\" column, Monday (0) and Sunday (6) are neighbors in reality, but numerically, they are far apart.\n",
    "- Similarly, in the \"Month of the Year\" column, December (12) and January (1) are next to each other in time, but their numeric values make them seem far apart.\n",
    "\n",
    "To properly capture the cyclical nature of these features and ensure the model understands these relationships, I will transform them into **cyclical features** using sine and cosine functions. This allows me to map the days and months onto a circle, where the distance between neighboring days or months is properly represented.\n",
    "\n",
    "- **Sine** and **cosine** transformations help encode the cyclical features in a way that preserves the relationships between adjacent values.\n",
    "- After the transformation, these columns will be treated as continuous numerical features, which can be easily understood by machine learning models.\n"
   ],
   "metadata": {
    "collapsed": false
   },
   "id": "18afca32037d9015"
  },
  {
   "cell_type": "code",
   "outputs": [],
   "source": [
    "# Day of the Week column\n",
    "df_ml['day_sin'] = np.sin(2 * np.pi * df_ml['Day of the week'] / 7)\n",
    "df_ml['day_cos'] = np.cos(2 * np.pi * df_ml['Day of the week'] / 7)"
   ],
   "metadata": {
    "collapsed": false,
    "ExecuteTime": {
     "end_time": "2024-09-12T10:28:31.712493Z",
     "start_time": "2024-09-12T10:28:31.708361Z"
    }
   },
   "id": "42ee5dad8a6ef940",
   "execution_count": 182
  },
  {
   "cell_type": "code",
   "outputs": [],
   "source": [
    "# Month of the Year column\n",
    "df_ml['month_sin'] = np.sin(2 * np.pi * df_ml['Month of the year'] / 12)\n",
    "df_ml['month_cos'] = np.cos(2 * np.pi * df_ml['Month of the year'] / 12)"
   ],
   "metadata": {
    "collapsed": false,
    "ExecuteTime": {
     "end_time": "2024-09-12T10:28:31.756431Z",
     "start_time": "2024-09-12T10:28:31.752415Z"
    }
   },
   "id": "b1b1ebdb33cb117e",
   "execution_count": 183
  },
  {
   "cell_type": "code",
   "outputs": [
    {
     "data": {
      "text/plain": "     Reason_1  Reason_2  Reason_3  Reason_4  Day of the week  \\\n0           0         0         0         1                1   \n1           0         0         0         0                1   \n2           0         0         0         1                2   \n3           1         0         0         0                3   \n4           0         0         0         1                3   \n..        ...       ...       ...       ...              ...   \n687         1         0         0         0                2   \n688         1         0         0         0                2   \n689         1         0         0         0                3   \n690         0         0         0         1                3   \n691         0         0         0         1                3   \n\n     Month of the year  Transportation Expense  Distance to Work  Age  \\\n0                    7                     289                36   33   \n1                    7                     118                13   50   \n2                    7                     179                51   38   \n3                    7                     279                 5   39   \n4                    7                     289                36   33   \n..                 ...                     ...               ...  ...   \n687                  5                     179                22   40   \n688                  5                     225                26   28   \n689                  5                     330                16   28   \n690                  5                     235                16   32   \n691                  5                     291                31   40   \n\n     Daily Work Load Average  Body Mass Index  Education  Children  Pets  \\\n0                    239.554               30          0         2     1   \n1                    239.554               31          0         1     0   \n2                    239.554               31          0         0     0   \n3                    239.554               24          0         2     0   \n4                    239.554               30          0         2     1   \n..                       ...              ...        ...       ...   ...   \n687                  237.656               22          1         2     0   \n688                  237.656               24          0         1     2   \n689                  237.656               25          1         0     0   \n690                  237.656               25          1         0     0   \n691                  237.656               25          0         1     1   \n\n     Absent vs Not absent   day_sin   day_cos  month_sin  month_cos  \n0                       1  0.781831  0.623490       -0.5  -0.866025  \n1                       0  0.781831  0.623490       -0.5  -0.866025  \n2                       0  0.974928 -0.222521       -0.5  -0.866025  \n3                       1  0.433884 -0.900969       -0.5  -0.866025  \n4                       0  0.433884 -0.900969       -0.5  -0.866025  \n..                    ...       ...       ...        ...        ...  \n687                     1  0.974928 -0.222521        0.5  -0.866025  \n688                     0  0.974928 -0.222521        0.5  -0.866025  \n689                     1  0.433884 -0.900969        0.5  -0.866025  \n690                     0  0.433884 -0.900969        0.5  -0.866025  \n691                     0  0.433884 -0.900969        0.5  -0.866025  \n\n[692 rows x 19 columns]",
      "text/html": "<div>\n<style scoped>\n    .dataframe tbody tr th:only-of-type {\n        vertical-align: middle;\n    }\n\n    .dataframe tbody tr th {\n        vertical-align: top;\n    }\n\n    .dataframe thead th {\n        text-align: right;\n    }\n</style>\n<table border=\"1\" class=\"dataframe\">\n  <thead>\n    <tr style=\"text-align: right;\">\n      <th></th>\n      <th>Reason_1</th>\n      <th>Reason_2</th>\n      <th>Reason_3</th>\n      <th>Reason_4</th>\n      <th>Day of the week</th>\n      <th>Month of the year</th>\n      <th>Transportation Expense</th>\n      <th>Distance to Work</th>\n      <th>Age</th>\n      <th>Daily Work Load Average</th>\n      <th>Body Mass Index</th>\n      <th>Education</th>\n      <th>Children</th>\n      <th>Pets</th>\n      <th>Absent vs Not absent</th>\n      <th>day_sin</th>\n      <th>day_cos</th>\n      <th>month_sin</th>\n      <th>month_cos</th>\n    </tr>\n  </thead>\n  <tbody>\n    <tr>\n      <th>0</th>\n      <td>0</td>\n      <td>0</td>\n      <td>0</td>\n      <td>1</td>\n      <td>1</td>\n      <td>7</td>\n      <td>289</td>\n      <td>36</td>\n      <td>33</td>\n      <td>239.554</td>\n      <td>30</td>\n      <td>0</td>\n      <td>2</td>\n      <td>1</td>\n      <td>1</td>\n      <td>0.781831</td>\n      <td>0.623490</td>\n      <td>-0.5</td>\n      <td>-0.866025</td>\n    </tr>\n    <tr>\n      <th>1</th>\n      <td>0</td>\n      <td>0</td>\n      <td>0</td>\n      <td>0</td>\n      <td>1</td>\n      <td>7</td>\n      <td>118</td>\n      <td>13</td>\n      <td>50</td>\n      <td>239.554</td>\n      <td>31</td>\n      <td>0</td>\n      <td>1</td>\n      <td>0</td>\n      <td>0</td>\n      <td>0.781831</td>\n      <td>0.623490</td>\n      <td>-0.5</td>\n      <td>-0.866025</td>\n    </tr>\n    <tr>\n      <th>2</th>\n      <td>0</td>\n      <td>0</td>\n      <td>0</td>\n      <td>1</td>\n      <td>2</td>\n      <td>7</td>\n      <td>179</td>\n      <td>51</td>\n      <td>38</td>\n      <td>239.554</td>\n      <td>31</td>\n      <td>0</td>\n      <td>0</td>\n      <td>0</td>\n      <td>0</td>\n      <td>0.974928</td>\n      <td>-0.222521</td>\n      <td>-0.5</td>\n      <td>-0.866025</td>\n    </tr>\n    <tr>\n      <th>3</th>\n      <td>1</td>\n      <td>0</td>\n      <td>0</td>\n      <td>0</td>\n      <td>3</td>\n      <td>7</td>\n      <td>279</td>\n      <td>5</td>\n      <td>39</td>\n      <td>239.554</td>\n      <td>24</td>\n      <td>0</td>\n      <td>2</td>\n      <td>0</td>\n      <td>1</td>\n      <td>0.433884</td>\n      <td>-0.900969</td>\n      <td>-0.5</td>\n      <td>-0.866025</td>\n    </tr>\n    <tr>\n      <th>4</th>\n      <td>0</td>\n      <td>0</td>\n      <td>0</td>\n      <td>1</td>\n      <td>3</td>\n      <td>7</td>\n      <td>289</td>\n      <td>36</td>\n      <td>33</td>\n      <td>239.554</td>\n      <td>30</td>\n      <td>0</td>\n      <td>2</td>\n      <td>1</td>\n      <td>0</td>\n      <td>0.433884</td>\n      <td>-0.900969</td>\n      <td>-0.5</td>\n      <td>-0.866025</td>\n    </tr>\n    <tr>\n      <th>...</th>\n      <td>...</td>\n      <td>...</td>\n      <td>...</td>\n      <td>...</td>\n      <td>...</td>\n      <td>...</td>\n      <td>...</td>\n      <td>...</td>\n      <td>...</td>\n      <td>...</td>\n      <td>...</td>\n      <td>...</td>\n      <td>...</td>\n      <td>...</td>\n      <td>...</td>\n      <td>...</td>\n      <td>...</td>\n      <td>...</td>\n      <td>...</td>\n    </tr>\n    <tr>\n      <th>687</th>\n      <td>1</td>\n      <td>0</td>\n      <td>0</td>\n      <td>0</td>\n      <td>2</td>\n      <td>5</td>\n      <td>179</td>\n      <td>22</td>\n      <td>40</td>\n      <td>237.656</td>\n      <td>22</td>\n      <td>1</td>\n      <td>2</td>\n      <td>0</td>\n      <td>1</td>\n      <td>0.974928</td>\n      <td>-0.222521</td>\n      <td>0.5</td>\n      <td>-0.866025</td>\n    </tr>\n    <tr>\n      <th>688</th>\n      <td>1</td>\n      <td>0</td>\n      <td>0</td>\n      <td>0</td>\n      <td>2</td>\n      <td>5</td>\n      <td>225</td>\n      <td>26</td>\n      <td>28</td>\n      <td>237.656</td>\n      <td>24</td>\n      <td>0</td>\n      <td>1</td>\n      <td>2</td>\n      <td>0</td>\n      <td>0.974928</td>\n      <td>-0.222521</td>\n      <td>0.5</td>\n      <td>-0.866025</td>\n    </tr>\n    <tr>\n      <th>689</th>\n      <td>1</td>\n      <td>0</td>\n      <td>0</td>\n      <td>0</td>\n      <td>3</td>\n      <td>5</td>\n      <td>330</td>\n      <td>16</td>\n      <td>28</td>\n      <td>237.656</td>\n      <td>25</td>\n      <td>1</td>\n      <td>0</td>\n      <td>0</td>\n      <td>1</td>\n      <td>0.433884</td>\n      <td>-0.900969</td>\n      <td>0.5</td>\n      <td>-0.866025</td>\n    </tr>\n    <tr>\n      <th>690</th>\n      <td>0</td>\n      <td>0</td>\n      <td>0</td>\n      <td>1</td>\n      <td>3</td>\n      <td>5</td>\n      <td>235</td>\n      <td>16</td>\n      <td>32</td>\n      <td>237.656</td>\n      <td>25</td>\n      <td>1</td>\n      <td>0</td>\n      <td>0</td>\n      <td>0</td>\n      <td>0.433884</td>\n      <td>-0.900969</td>\n      <td>0.5</td>\n      <td>-0.866025</td>\n    </tr>\n    <tr>\n      <th>691</th>\n      <td>0</td>\n      <td>0</td>\n      <td>0</td>\n      <td>1</td>\n      <td>3</td>\n      <td>5</td>\n      <td>291</td>\n      <td>31</td>\n      <td>40</td>\n      <td>237.656</td>\n      <td>25</td>\n      <td>0</td>\n      <td>1</td>\n      <td>1</td>\n      <td>0</td>\n      <td>0.433884</td>\n      <td>-0.900969</td>\n      <td>0.5</td>\n      <td>-0.866025</td>\n    </tr>\n  </tbody>\n</table>\n<p>692 rows × 19 columns</p>\n</div>"
     },
     "execution_count": 184,
     "metadata": {},
     "output_type": "execute_result"
    }
   ],
   "source": [
    "df_ml"
   ],
   "metadata": {
    "collapsed": false,
    "ExecuteTime": {
     "end_time": "2024-09-12T10:28:31.904938Z",
     "start_time": "2024-09-12T10:28:31.894504Z"
    }
   },
   "id": "240a6580317dcc2d",
   "execution_count": 184
  },
  {
   "cell_type": "markdown",
   "source": [
    "## Dropping \"month of the year\" and \"day of the week\" column"
   ],
   "metadata": {
    "collapsed": false
   },
   "id": "725109d7153d4d89"
  },
  {
   "cell_type": "code",
   "outputs": [],
   "source": [
    "df_ml.drop(['Month of the year', 'Day of the week'], axis=1, inplace=True)"
   ],
   "metadata": {
    "collapsed": false,
    "ExecuteTime": {
     "end_time": "2024-09-12T10:28:31.950762Z",
     "start_time": "2024-09-12T10:28:31.947852Z"
    }
   },
   "id": "b96f76cac8b4cc9a",
   "execution_count": 185
  },
  {
   "cell_type": "code",
   "outputs": [
    {
     "data": {
      "text/plain": "     Reason_1  Reason_2  Reason_3  Reason_4  Transportation Expense  \\\n0           0         0         0         1                     289   \n1           0         0         0         0                     118   \n2           0         0         0         1                     179   \n3           1         0         0         0                     279   \n4           0         0         0         1                     289   \n..        ...       ...       ...       ...                     ...   \n687         1         0         0         0                     179   \n688         1         0         0         0                     225   \n689         1         0         0         0                     330   \n690         0         0         0         1                     235   \n691         0         0         0         1                     291   \n\n     Distance to Work  Age  Daily Work Load Average  Body Mass Index  \\\n0                  36   33                  239.554               30   \n1                  13   50                  239.554               31   \n2                  51   38                  239.554               31   \n3                   5   39                  239.554               24   \n4                  36   33                  239.554               30   \n..                ...  ...                      ...              ...   \n687                22   40                  237.656               22   \n688                26   28                  237.656               24   \n689                16   28                  237.656               25   \n690                16   32                  237.656               25   \n691                31   40                  237.656               25   \n\n     Education  Children  Pets  Absent vs Not absent   day_sin   day_cos  \\\n0            0         2     1                     1  0.781831  0.623490   \n1            0         1     0                     0  0.781831  0.623490   \n2            0         0     0                     0  0.974928 -0.222521   \n3            0         2     0                     1  0.433884 -0.900969   \n4            0         2     1                     0  0.433884 -0.900969   \n..         ...       ...   ...                   ...       ...       ...   \n687          1         2     0                     1  0.974928 -0.222521   \n688          0         1     2                     0  0.974928 -0.222521   \n689          1         0     0                     1  0.433884 -0.900969   \n690          1         0     0                     0  0.433884 -0.900969   \n691          0         1     1                     0  0.433884 -0.900969   \n\n     month_sin  month_cos  \n0         -0.5  -0.866025  \n1         -0.5  -0.866025  \n2         -0.5  -0.866025  \n3         -0.5  -0.866025  \n4         -0.5  -0.866025  \n..         ...        ...  \n687        0.5  -0.866025  \n688        0.5  -0.866025  \n689        0.5  -0.866025  \n690        0.5  -0.866025  \n691        0.5  -0.866025  \n\n[692 rows x 17 columns]",
      "text/html": "<div>\n<style scoped>\n    .dataframe tbody tr th:only-of-type {\n        vertical-align: middle;\n    }\n\n    .dataframe tbody tr th {\n        vertical-align: top;\n    }\n\n    .dataframe thead th {\n        text-align: right;\n    }\n</style>\n<table border=\"1\" class=\"dataframe\">\n  <thead>\n    <tr style=\"text-align: right;\">\n      <th></th>\n      <th>Reason_1</th>\n      <th>Reason_2</th>\n      <th>Reason_3</th>\n      <th>Reason_4</th>\n      <th>Transportation Expense</th>\n      <th>Distance to Work</th>\n      <th>Age</th>\n      <th>Daily Work Load Average</th>\n      <th>Body Mass Index</th>\n      <th>Education</th>\n      <th>Children</th>\n      <th>Pets</th>\n      <th>Absent vs Not absent</th>\n      <th>day_sin</th>\n      <th>day_cos</th>\n      <th>month_sin</th>\n      <th>month_cos</th>\n    </tr>\n  </thead>\n  <tbody>\n    <tr>\n      <th>0</th>\n      <td>0</td>\n      <td>0</td>\n      <td>0</td>\n      <td>1</td>\n      <td>289</td>\n      <td>36</td>\n      <td>33</td>\n      <td>239.554</td>\n      <td>30</td>\n      <td>0</td>\n      <td>2</td>\n      <td>1</td>\n      <td>1</td>\n      <td>0.781831</td>\n      <td>0.623490</td>\n      <td>-0.5</td>\n      <td>-0.866025</td>\n    </tr>\n    <tr>\n      <th>1</th>\n      <td>0</td>\n      <td>0</td>\n      <td>0</td>\n      <td>0</td>\n      <td>118</td>\n      <td>13</td>\n      <td>50</td>\n      <td>239.554</td>\n      <td>31</td>\n      <td>0</td>\n      <td>1</td>\n      <td>0</td>\n      <td>0</td>\n      <td>0.781831</td>\n      <td>0.623490</td>\n      <td>-0.5</td>\n      <td>-0.866025</td>\n    </tr>\n    <tr>\n      <th>2</th>\n      <td>0</td>\n      <td>0</td>\n      <td>0</td>\n      <td>1</td>\n      <td>179</td>\n      <td>51</td>\n      <td>38</td>\n      <td>239.554</td>\n      <td>31</td>\n      <td>0</td>\n      <td>0</td>\n      <td>0</td>\n      <td>0</td>\n      <td>0.974928</td>\n      <td>-0.222521</td>\n      <td>-0.5</td>\n      <td>-0.866025</td>\n    </tr>\n    <tr>\n      <th>3</th>\n      <td>1</td>\n      <td>0</td>\n      <td>0</td>\n      <td>0</td>\n      <td>279</td>\n      <td>5</td>\n      <td>39</td>\n      <td>239.554</td>\n      <td>24</td>\n      <td>0</td>\n      <td>2</td>\n      <td>0</td>\n      <td>1</td>\n      <td>0.433884</td>\n      <td>-0.900969</td>\n      <td>-0.5</td>\n      <td>-0.866025</td>\n    </tr>\n    <tr>\n      <th>4</th>\n      <td>0</td>\n      <td>0</td>\n      <td>0</td>\n      <td>1</td>\n      <td>289</td>\n      <td>36</td>\n      <td>33</td>\n      <td>239.554</td>\n      <td>30</td>\n      <td>0</td>\n      <td>2</td>\n      <td>1</td>\n      <td>0</td>\n      <td>0.433884</td>\n      <td>-0.900969</td>\n      <td>-0.5</td>\n      <td>-0.866025</td>\n    </tr>\n    <tr>\n      <th>...</th>\n      <td>...</td>\n      <td>...</td>\n      <td>...</td>\n      <td>...</td>\n      <td>...</td>\n      <td>...</td>\n      <td>...</td>\n      <td>...</td>\n      <td>...</td>\n      <td>...</td>\n      <td>...</td>\n      <td>...</td>\n      <td>...</td>\n      <td>...</td>\n      <td>...</td>\n      <td>...</td>\n      <td>...</td>\n    </tr>\n    <tr>\n      <th>687</th>\n      <td>1</td>\n      <td>0</td>\n      <td>0</td>\n      <td>0</td>\n      <td>179</td>\n      <td>22</td>\n      <td>40</td>\n      <td>237.656</td>\n      <td>22</td>\n      <td>1</td>\n      <td>2</td>\n      <td>0</td>\n      <td>1</td>\n      <td>0.974928</td>\n      <td>-0.222521</td>\n      <td>0.5</td>\n      <td>-0.866025</td>\n    </tr>\n    <tr>\n      <th>688</th>\n      <td>1</td>\n      <td>0</td>\n      <td>0</td>\n      <td>0</td>\n      <td>225</td>\n      <td>26</td>\n      <td>28</td>\n      <td>237.656</td>\n      <td>24</td>\n      <td>0</td>\n      <td>1</td>\n      <td>2</td>\n      <td>0</td>\n      <td>0.974928</td>\n      <td>-0.222521</td>\n      <td>0.5</td>\n      <td>-0.866025</td>\n    </tr>\n    <tr>\n      <th>689</th>\n      <td>1</td>\n      <td>0</td>\n      <td>0</td>\n      <td>0</td>\n      <td>330</td>\n      <td>16</td>\n      <td>28</td>\n      <td>237.656</td>\n      <td>25</td>\n      <td>1</td>\n      <td>0</td>\n      <td>0</td>\n      <td>1</td>\n      <td>0.433884</td>\n      <td>-0.900969</td>\n      <td>0.5</td>\n      <td>-0.866025</td>\n    </tr>\n    <tr>\n      <th>690</th>\n      <td>0</td>\n      <td>0</td>\n      <td>0</td>\n      <td>1</td>\n      <td>235</td>\n      <td>16</td>\n      <td>32</td>\n      <td>237.656</td>\n      <td>25</td>\n      <td>1</td>\n      <td>0</td>\n      <td>0</td>\n      <td>0</td>\n      <td>0.433884</td>\n      <td>-0.900969</td>\n      <td>0.5</td>\n      <td>-0.866025</td>\n    </tr>\n    <tr>\n      <th>691</th>\n      <td>0</td>\n      <td>0</td>\n      <td>0</td>\n      <td>1</td>\n      <td>291</td>\n      <td>31</td>\n      <td>40</td>\n      <td>237.656</td>\n      <td>25</td>\n      <td>0</td>\n      <td>1</td>\n      <td>1</td>\n      <td>0</td>\n      <td>0.433884</td>\n      <td>-0.900969</td>\n      <td>0.5</td>\n      <td>-0.866025</td>\n    </tr>\n  </tbody>\n</table>\n<p>692 rows × 17 columns</p>\n</div>"
     },
     "execution_count": 186,
     "metadata": {},
     "output_type": "execute_result"
    }
   ],
   "source": [
    "df_ml"
   ],
   "metadata": {
    "collapsed": false,
    "ExecuteTime": {
     "end_time": "2024-09-12T10:28:32.053689Z",
     "start_time": "2024-09-12T10:28:32.042587Z"
    }
   },
   "id": "dbbee8107db39231",
   "execution_count": 186
  },
  {
   "cell_type": "markdown",
   "source": [
    "## Reordering columns"
   ],
   "metadata": {
    "collapsed": false
   },
   "id": "1266ba0eb61ffc8d"
  },
  {
   "cell_type": "code",
   "outputs": [
    {
     "data": {
      "text/plain": "     Reason_1  Reason_2  Reason_3  Reason_4  Transportation Expense  \\\n0           0         0         0         1                     289   \n1           0         0         0         0                     118   \n2           0         0         0         1                     179   \n3           1         0         0         0                     279   \n4           0         0         0         1                     289   \n..        ...       ...       ...       ...                     ...   \n687         1         0         0         0                     179   \n688         1         0         0         0                     225   \n689         1         0         0         0                     330   \n690         0         0         0         1                     235   \n691         0         0         0         1                     291   \n\n     Distance to Work  Age  Daily Work Load Average  Body Mass Index  \\\n0                  36   33                  239.554               30   \n1                  13   50                  239.554               31   \n2                  51   38                  239.554               31   \n3                   5   39                  239.554               24   \n4                  36   33                  239.554               30   \n..                ...  ...                      ...              ...   \n687                22   40                  237.656               22   \n688                26   28                  237.656               24   \n689                16   28                  237.656               25   \n690                16   32                  237.656               25   \n691                31   40                  237.656               25   \n\n     Education  Children  Pets   day_sin   day_cos  month_sin  month_cos  \\\n0            0         2     1  0.781831  0.623490       -0.5  -0.866025   \n1            0         1     0  0.781831  0.623490       -0.5  -0.866025   \n2            0         0     0  0.974928 -0.222521       -0.5  -0.866025   \n3            0         2     0  0.433884 -0.900969       -0.5  -0.866025   \n4            0         2     1  0.433884 -0.900969       -0.5  -0.866025   \n..         ...       ...   ...       ...       ...        ...        ...   \n687          1         2     0  0.974928 -0.222521        0.5  -0.866025   \n688          0         1     2  0.974928 -0.222521        0.5  -0.866025   \n689          1         0     0  0.433884 -0.900969        0.5  -0.866025   \n690          1         0     0  0.433884 -0.900969        0.5  -0.866025   \n691          0         1     1  0.433884 -0.900969        0.5  -0.866025   \n\n     Absent vs Not absent  \n0                       1  \n1                       0  \n2                       0  \n3                       1  \n4                       0  \n..                    ...  \n687                     1  \n688                     0  \n689                     1  \n690                     0  \n691                     0  \n\n[692 rows x 17 columns]",
      "text/html": "<div>\n<style scoped>\n    .dataframe tbody tr th:only-of-type {\n        vertical-align: middle;\n    }\n\n    .dataframe tbody tr th {\n        vertical-align: top;\n    }\n\n    .dataframe thead th {\n        text-align: right;\n    }\n</style>\n<table border=\"1\" class=\"dataframe\">\n  <thead>\n    <tr style=\"text-align: right;\">\n      <th></th>\n      <th>Reason_1</th>\n      <th>Reason_2</th>\n      <th>Reason_3</th>\n      <th>Reason_4</th>\n      <th>Transportation Expense</th>\n      <th>Distance to Work</th>\n      <th>Age</th>\n      <th>Daily Work Load Average</th>\n      <th>Body Mass Index</th>\n      <th>Education</th>\n      <th>Children</th>\n      <th>Pets</th>\n      <th>day_sin</th>\n      <th>day_cos</th>\n      <th>month_sin</th>\n      <th>month_cos</th>\n      <th>Absent vs Not absent</th>\n    </tr>\n  </thead>\n  <tbody>\n    <tr>\n      <th>0</th>\n      <td>0</td>\n      <td>0</td>\n      <td>0</td>\n      <td>1</td>\n      <td>289</td>\n      <td>36</td>\n      <td>33</td>\n      <td>239.554</td>\n      <td>30</td>\n      <td>0</td>\n      <td>2</td>\n      <td>1</td>\n      <td>0.781831</td>\n      <td>0.623490</td>\n      <td>-0.5</td>\n      <td>-0.866025</td>\n      <td>1</td>\n    </tr>\n    <tr>\n      <th>1</th>\n      <td>0</td>\n      <td>0</td>\n      <td>0</td>\n      <td>0</td>\n      <td>118</td>\n      <td>13</td>\n      <td>50</td>\n      <td>239.554</td>\n      <td>31</td>\n      <td>0</td>\n      <td>1</td>\n      <td>0</td>\n      <td>0.781831</td>\n      <td>0.623490</td>\n      <td>-0.5</td>\n      <td>-0.866025</td>\n      <td>0</td>\n    </tr>\n    <tr>\n      <th>2</th>\n      <td>0</td>\n      <td>0</td>\n      <td>0</td>\n      <td>1</td>\n      <td>179</td>\n      <td>51</td>\n      <td>38</td>\n      <td>239.554</td>\n      <td>31</td>\n      <td>0</td>\n      <td>0</td>\n      <td>0</td>\n      <td>0.974928</td>\n      <td>-0.222521</td>\n      <td>-0.5</td>\n      <td>-0.866025</td>\n      <td>0</td>\n    </tr>\n    <tr>\n      <th>3</th>\n      <td>1</td>\n      <td>0</td>\n      <td>0</td>\n      <td>0</td>\n      <td>279</td>\n      <td>5</td>\n      <td>39</td>\n      <td>239.554</td>\n      <td>24</td>\n      <td>0</td>\n      <td>2</td>\n      <td>0</td>\n      <td>0.433884</td>\n      <td>-0.900969</td>\n      <td>-0.5</td>\n      <td>-0.866025</td>\n      <td>1</td>\n    </tr>\n    <tr>\n      <th>4</th>\n      <td>0</td>\n      <td>0</td>\n      <td>0</td>\n      <td>1</td>\n      <td>289</td>\n      <td>36</td>\n      <td>33</td>\n      <td>239.554</td>\n      <td>30</td>\n      <td>0</td>\n      <td>2</td>\n      <td>1</td>\n      <td>0.433884</td>\n      <td>-0.900969</td>\n      <td>-0.5</td>\n      <td>-0.866025</td>\n      <td>0</td>\n    </tr>\n    <tr>\n      <th>...</th>\n      <td>...</td>\n      <td>...</td>\n      <td>...</td>\n      <td>...</td>\n      <td>...</td>\n      <td>...</td>\n      <td>...</td>\n      <td>...</td>\n      <td>...</td>\n      <td>...</td>\n      <td>...</td>\n      <td>...</td>\n      <td>...</td>\n      <td>...</td>\n      <td>...</td>\n      <td>...</td>\n      <td>...</td>\n    </tr>\n    <tr>\n      <th>687</th>\n      <td>1</td>\n      <td>0</td>\n      <td>0</td>\n      <td>0</td>\n      <td>179</td>\n      <td>22</td>\n      <td>40</td>\n      <td>237.656</td>\n      <td>22</td>\n      <td>1</td>\n      <td>2</td>\n      <td>0</td>\n      <td>0.974928</td>\n      <td>-0.222521</td>\n      <td>0.5</td>\n      <td>-0.866025</td>\n      <td>1</td>\n    </tr>\n    <tr>\n      <th>688</th>\n      <td>1</td>\n      <td>0</td>\n      <td>0</td>\n      <td>0</td>\n      <td>225</td>\n      <td>26</td>\n      <td>28</td>\n      <td>237.656</td>\n      <td>24</td>\n      <td>0</td>\n      <td>1</td>\n      <td>2</td>\n      <td>0.974928</td>\n      <td>-0.222521</td>\n      <td>0.5</td>\n      <td>-0.866025</td>\n      <td>0</td>\n    </tr>\n    <tr>\n      <th>689</th>\n      <td>1</td>\n      <td>0</td>\n      <td>0</td>\n      <td>0</td>\n      <td>330</td>\n      <td>16</td>\n      <td>28</td>\n      <td>237.656</td>\n      <td>25</td>\n      <td>1</td>\n      <td>0</td>\n      <td>0</td>\n      <td>0.433884</td>\n      <td>-0.900969</td>\n      <td>0.5</td>\n      <td>-0.866025</td>\n      <td>1</td>\n    </tr>\n    <tr>\n      <th>690</th>\n      <td>0</td>\n      <td>0</td>\n      <td>0</td>\n      <td>1</td>\n      <td>235</td>\n      <td>16</td>\n      <td>32</td>\n      <td>237.656</td>\n      <td>25</td>\n      <td>1</td>\n      <td>0</td>\n      <td>0</td>\n      <td>0.433884</td>\n      <td>-0.900969</td>\n      <td>0.5</td>\n      <td>-0.866025</td>\n      <td>0</td>\n    </tr>\n    <tr>\n      <th>691</th>\n      <td>0</td>\n      <td>0</td>\n      <td>0</td>\n      <td>1</td>\n      <td>291</td>\n      <td>31</td>\n      <td>40</td>\n      <td>237.656</td>\n      <td>25</td>\n      <td>0</td>\n      <td>1</td>\n      <td>1</td>\n      <td>0.433884</td>\n      <td>-0.900969</td>\n      <td>0.5</td>\n      <td>-0.866025</td>\n      <td>0</td>\n    </tr>\n  </tbody>\n</table>\n<p>692 rows × 17 columns</p>\n</div>"
     },
     "execution_count": 187,
     "metadata": {},
     "output_type": "execute_result"
    }
   ],
   "source": [
    "columns_name_re=['Reason_1', 'Reason_2', 'Reason_3', 'Reason_4',\n",
    "'Transportation Expense', 'Distance to Work', 'Age',\n",
    "'Daily Work Load Average', 'Body Mass Index', 'Education', 'Children',\n",
    "'Pets', 'day_sin', 'day_cos', 'month_sin',\n",
    "'month_cos', 'Absent vs Not absent']\n",
    "df_ml = df_ml[columns_name_re]\n",
    "df_ml"
   ],
   "metadata": {
    "collapsed": false,
    "ExecuteTime": {
     "end_time": "2024-09-12T10:28:32.095249Z",
     "start_time": "2024-09-12T10:28:32.083611Z"
    }
   },
   "id": "7351e7f4360fe499",
   "execution_count": 187
  },
  {
   "cell_type": "markdown",
   "source": [
    "## Splitting dataset into Training set and Test set"
   ],
   "metadata": {
    "collapsed": false
   },
   "id": "c5404d6915c59f0e"
  },
  {
   "cell_type": "code",
   "outputs": [],
   "source": [
    "x=df_ml.iloc[:,:-1]\n",
    "y=df_ml.iloc[:,-1]"
   ],
   "metadata": {
    "collapsed": false,
    "ExecuteTime": {
     "end_time": "2024-09-12T10:28:32.255759Z",
     "start_time": "2024-09-12T10:28:32.252830Z"
    }
   },
   "id": "ab8bcfa2921081ad",
   "execution_count": 188
  },
  {
   "cell_type": "code",
   "outputs": [
    {
     "data": {
      "text/plain": "     Reason_1  Reason_2  Reason_3  Reason_4  Transportation Expense  \\\n0           0         0         0         1                     289   \n1           0         0         0         0                     118   \n2           0         0         0         1                     179   \n3           1         0         0         0                     279   \n4           0         0         0         1                     289   \n..        ...       ...       ...       ...                     ...   \n687         1         0         0         0                     179   \n688         1         0         0         0                     225   \n689         1         0         0         0                     330   \n690         0         0         0         1                     235   \n691         0         0         0         1                     291   \n\n     Distance to Work  Age  Daily Work Load Average  Body Mass Index  \\\n0                  36   33                  239.554               30   \n1                  13   50                  239.554               31   \n2                  51   38                  239.554               31   \n3                   5   39                  239.554               24   \n4                  36   33                  239.554               30   \n..                ...  ...                      ...              ...   \n687                22   40                  237.656               22   \n688                26   28                  237.656               24   \n689                16   28                  237.656               25   \n690                16   32                  237.656               25   \n691                31   40                  237.656               25   \n\n     Education  Children  Pets   day_sin   day_cos  month_sin  month_cos  \n0            0         2     1  0.781831  0.623490       -0.5  -0.866025  \n1            0         1     0  0.781831  0.623490       -0.5  -0.866025  \n2            0         0     0  0.974928 -0.222521       -0.5  -0.866025  \n3            0         2     0  0.433884 -0.900969       -0.5  -0.866025  \n4            0         2     1  0.433884 -0.900969       -0.5  -0.866025  \n..         ...       ...   ...       ...       ...        ...        ...  \n687          1         2     0  0.974928 -0.222521        0.5  -0.866025  \n688          0         1     2  0.974928 -0.222521        0.5  -0.866025  \n689          1         0     0  0.433884 -0.900969        0.5  -0.866025  \n690          1         0     0  0.433884 -0.900969        0.5  -0.866025  \n691          0         1     1  0.433884 -0.900969        0.5  -0.866025  \n\n[692 rows x 16 columns]",
      "text/html": "<div>\n<style scoped>\n    .dataframe tbody tr th:only-of-type {\n        vertical-align: middle;\n    }\n\n    .dataframe tbody tr th {\n        vertical-align: top;\n    }\n\n    .dataframe thead th {\n        text-align: right;\n    }\n</style>\n<table border=\"1\" class=\"dataframe\">\n  <thead>\n    <tr style=\"text-align: right;\">\n      <th></th>\n      <th>Reason_1</th>\n      <th>Reason_2</th>\n      <th>Reason_3</th>\n      <th>Reason_4</th>\n      <th>Transportation Expense</th>\n      <th>Distance to Work</th>\n      <th>Age</th>\n      <th>Daily Work Load Average</th>\n      <th>Body Mass Index</th>\n      <th>Education</th>\n      <th>Children</th>\n      <th>Pets</th>\n      <th>day_sin</th>\n      <th>day_cos</th>\n      <th>month_sin</th>\n      <th>month_cos</th>\n    </tr>\n  </thead>\n  <tbody>\n    <tr>\n      <th>0</th>\n      <td>0</td>\n      <td>0</td>\n      <td>0</td>\n      <td>1</td>\n      <td>289</td>\n      <td>36</td>\n      <td>33</td>\n      <td>239.554</td>\n      <td>30</td>\n      <td>0</td>\n      <td>2</td>\n      <td>1</td>\n      <td>0.781831</td>\n      <td>0.623490</td>\n      <td>-0.5</td>\n      <td>-0.866025</td>\n    </tr>\n    <tr>\n      <th>1</th>\n      <td>0</td>\n      <td>0</td>\n      <td>0</td>\n      <td>0</td>\n      <td>118</td>\n      <td>13</td>\n      <td>50</td>\n      <td>239.554</td>\n      <td>31</td>\n      <td>0</td>\n      <td>1</td>\n      <td>0</td>\n      <td>0.781831</td>\n      <td>0.623490</td>\n      <td>-0.5</td>\n      <td>-0.866025</td>\n    </tr>\n    <tr>\n      <th>2</th>\n      <td>0</td>\n      <td>0</td>\n      <td>0</td>\n      <td>1</td>\n      <td>179</td>\n      <td>51</td>\n      <td>38</td>\n      <td>239.554</td>\n      <td>31</td>\n      <td>0</td>\n      <td>0</td>\n      <td>0</td>\n      <td>0.974928</td>\n      <td>-0.222521</td>\n      <td>-0.5</td>\n      <td>-0.866025</td>\n    </tr>\n    <tr>\n      <th>3</th>\n      <td>1</td>\n      <td>0</td>\n      <td>0</td>\n      <td>0</td>\n      <td>279</td>\n      <td>5</td>\n      <td>39</td>\n      <td>239.554</td>\n      <td>24</td>\n      <td>0</td>\n      <td>2</td>\n      <td>0</td>\n      <td>0.433884</td>\n      <td>-0.900969</td>\n      <td>-0.5</td>\n      <td>-0.866025</td>\n    </tr>\n    <tr>\n      <th>4</th>\n      <td>0</td>\n      <td>0</td>\n      <td>0</td>\n      <td>1</td>\n      <td>289</td>\n      <td>36</td>\n      <td>33</td>\n      <td>239.554</td>\n      <td>30</td>\n      <td>0</td>\n      <td>2</td>\n      <td>1</td>\n      <td>0.433884</td>\n      <td>-0.900969</td>\n      <td>-0.5</td>\n      <td>-0.866025</td>\n    </tr>\n    <tr>\n      <th>...</th>\n      <td>...</td>\n      <td>...</td>\n      <td>...</td>\n      <td>...</td>\n      <td>...</td>\n      <td>...</td>\n      <td>...</td>\n      <td>...</td>\n      <td>...</td>\n      <td>...</td>\n      <td>...</td>\n      <td>...</td>\n      <td>...</td>\n      <td>...</td>\n      <td>...</td>\n      <td>...</td>\n    </tr>\n    <tr>\n      <th>687</th>\n      <td>1</td>\n      <td>0</td>\n      <td>0</td>\n      <td>0</td>\n      <td>179</td>\n      <td>22</td>\n      <td>40</td>\n      <td>237.656</td>\n      <td>22</td>\n      <td>1</td>\n      <td>2</td>\n      <td>0</td>\n      <td>0.974928</td>\n      <td>-0.222521</td>\n      <td>0.5</td>\n      <td>-0.866025</td>\n    </tr>\n    <tr>\n      <th>688</th>\n      <td>1</td>\n      <td>0</td>\n      <td>0</td>\n      <td>0</td>\n      <td>225</td>\n      <td>26</td>\n      <td>28</td>\n      <td>237.656</td>\n      <td>24</td>\n      <td>0</td>\n      <td>1</td>\n      <td>2</td>\n      <td>0.974928</td>\n      <td>-0.222521</td>\n      <td>0.5</td>\n      <td>-0.866025</td>\n    </tr>\n    <tr>\n      <th>689</th>\n      <td>1</td>\n      <td>0</td>\n      <td>0</td>\n      <td>0</td>\n      <td>330</td>\n      <td>16</td>\n      <td>28</td>\n      <td>237.656</td>\n      <td>25</td>\n      <td>1</td>\n      <td>0</td>\n      <td>0</td>\n      <td>0.433884</td>\n      <td>-0.900969</td>\n      <td>0.5</td>\n      <td>-0.866025</td>\n    </tr>\n    <tr>\n      <th>690</th>\n      <td>0</td>\n      <td>0</td>\n      <td>0</td>\n      <td>1</td>\n      <td>235</td>\n      <td>16</td>\n      <td>32</td>\n      <td>237.656</td>\n      <td>25</td>\n      <td>1</td>\n      <td>0</td>\n      <td>0</td>\n      <td>0.433884</td>\n      <td>-0.900969</td>\n      <td>0.5</td>\n      <td>-0.866025</td>\n    </tr>\n    <tr>\n      <th>691</th>\n      <td>0</td>\n      <td>0</td>\n      <td>0</td>\n      <td>1</td>\n      <td>291</td>\n      <td>31</td>\n      <td>40</td>\n      <td>237.656</td>\n      <td>25</td>\n      <td>0</td>\n      <td>1</td>\n      <td>1</td>\n      <td>0.433884</td>\n      <td>-0.900969</td>\n      <td>0.5</td>\n      <td>-0.866025</td>\n    </tr>\n  </tbody>\n</table>\n<p>692 rows × 16 columns</p>\n</div>"
     },
     "execution_count": 189,
     "metadata": {},
     "output_type": "execute_result"
    }
   ],
   "source": [
    "x"
   ],
   "metadata": {
    "collapsed": false,
    "ExecuteTime": {
     "end_time": "2024-09-12T10:28:32.332502Z",
     "start_time": "2024-09-12T10:28:32.322582Z"
    }
   },
   "id": "16a019affdefffa8",
   "execution_count": 189
  },
  {
   "cell_type": "code",
   "outputs": [
    {
     "data": {
      "text/plain": "0      1\n1      0\n2      0\n3      1\n4      0\n      ..\n687    1\n688    0\n689    1\n690    0\n691    0\nName: Absent vs Not absent, Length: 692, dtype: int32"
     },
     "execution_count": 190,
     "metadata": {},
     "output_type": "execute_result"
    }
   ],
   "source": [
    "y"
   ],
   "metadata": {
    "collapsed": false,
    "ExecuteTime": {
     "end_time": "2024-09-12T10:28:32.459056Z",
     "start_time": "2024-09-12T10:28:32.455204Z"
    }
   },
   "id": "3632df7b36d50b68",
   "execution_count": 190
  },
  {
   "cell_type": "code",
   "outputs": [],
   "source": [
    "x_train,x_test,y_train,y_test=train_test_split(x,y,test_size=0.2,shuffle=True)"
   ],
   "metadata": {
    "collapsed": false,
    "ExecuteTime": {
     "end_time": "2024-09-12T10:28:32.556815Z",
     "start_time": "2024-09-12T10:28:32.552361Z"
    }
   },
   "id": "6df881b6a181e602",
   "execution_count": 191
  },
  {
   "cell_type": "code",
   "outputs": [
    {
     "data": {
      "text/plain": "(553, 16)"
     },
     "execution_count": 192,
     "metadata": {},
     "output_type": "execute_result"
    }
   ],
   "source": [
    "x_train.shape"
   ],
   "metadata": {
    "collapsed": false,
    "ExecuteTime": {
     "end_time": "2024-09-12T10:28:32.700477Z",
     "start_time": "2024-09-12T10:28:32.696445Z"
    }
   },
   "id": "9ed104ce8c083f90",
   "execution_count": 192
  },
  {
   "cell_type": "code",
   "outputs": [
    {
     "data": {
      "text/plain": "(139, 16)"
     },
     "execution_count": 193,
     "metadata": {},
     "output_type": "execute_result"
    }
   ],
   "source": [
    "x_test.shape"
   ],
   "metadata": {
    "collapsed": false,
    "ExecuteTime": {
     "end_time": "2024-09-12T10:28:32.738403Z",
     "start_time": "2024-09-12T10:28:32.734389Z"
    }
   },
   "id": "99f0296295011f35",
   "execution_count": 193
  },
  {
   "cell_type": "code",
   "outputs": [
    {
     "data": {
      "text/plain": "(553,)"
     },
     "execution_count": 194,
     "metadata": {},
     "output_type": "execute_result"
    }
   ],
   "source": [
    "y_train.shape"
   ],
   "metadata": {
    "collapsed": false,
    "ExecuteTime": {
     "end_time": "2024-09-12T10:28:32.872793Z",
     "start_time": "2024-09-12T10:28:32.869609Z"
    }
   },
   "id": "95a1e9b3c179411a",
   "execution_count": 194
  },
  {
   "cell_type": "code",
   "outputs": [
    {
     "data": {
      "text/plain": "(139,)"
     },
     "execution_count": 195,
     "metadata": {},
     "output_type": "execute_result"
    }
   ],
   "source": [
    "y_test.shape"
   ],
   "metadata": {
    "collapsed": false,
    "ExecuteTime": {
     "end_time": "2024-09-12T10:28:32.938033Z",
     "start_time": "2024-09-12T10:28:32.934630Z"
    }
   },
   "id": "62832be61f6dd876",
   "execution_count": 195
  },
  {
   "cell_type": "markdown",
   "source": [
    "## Applying StandardScaler\n",
    "\n",
    "I will apply **StandardScaler** only to **numerical columns** to normalize their values. Scaling will **not** be applied to **categorical** or **dummy variables** (binary), as they are either discrete categories or already in a consistent range.\n"
   ],
   "metadata": {
    "collapsed": false
   },
   "id": "3c1fcc1df43e6c28"
  },
  {
   "cell_type": "code",
   "outputs": [
    {
     "data": {
      "text/plain": "Index(['Reason_1', 'Reason_2', 'Reason_3', 'Reason_4',\n       'Transportation Expense', 'Distance to Work', 'Age',\n       'Daily Work Load Average', 'Body Mass Index', 'Education', 'Children',\n       'Pets', 'day_sin', 'day_cos', 'month_sin', 'month_cos',\n       'Absent vs Not absent'],\n      dtype='object')"
     },
     "execution_count": 196,
     "metadata": {},
     "output_type": "execute_result"
    }
   ],
   "source": [
    "df_ml.columns"
   ],
   "metadata": {
    "collapsed": false,
    "ExecuteTime": {
     "end_time": "2024-09-12T10:28:33.023289Z",
     "start_time": "2024-09-12T10:28:33.020006Z"
    }
   },
   "id": "6efcbc2e26095064",
   "execution_count": 196
  },
  {
   "cell_type": "code",
   "outputs": [
    {
     "data": {
      "text/plain": "     Reason_1  Reason_2  Reason_3  Reason_4  Transportation Expense  \\\n377         0         0         0         1               -0.649488   \n668         0         0         0         1                0.204945   \n648         0         0         1         0                2.127419   \n56          0         0         1         0                0.052367   \n58          0         0         0         0                2.249481   \n\n     Distance to Work       Age  Daily Work Load Average  Body Mass Index  \\\n377          1.409207  0.246321                -0.480601         1.003053   \n668         -0.957200 -0.698526                -0.835221        -0.410166   \n648          1.476819 -1.328425                -0.619074         0.060907   \n56          -0.281083 -1.328425                -0.739567        -0.645702   \n58          -0.889588 -0.856001                -0.739567        -0.410166   \n\n     Education  Children      Pets   day_sin   day_cos  month_sin  month_cos  \n377          0 -0.911210 -0.572675 -0.638077  1.344109   1.114577   0.684304  \n668          1 -0.911210 -0.572675  1.173648 -0.245600   0.618181  -1.345793  \n648          0 -0.017772  2.860271  0.814814  0.854513   1.114577  -0.801830  \n56           0 -0.017772  1.143798  1.173648 -0.245600  -1.416086  -0.058763  \n58           0  1.769105 -0.572675  1.173648 -0.245600  -1.416086  -0.058763  ",
      "text/html": "<div>\n<style scoped>\n    .dataframe tbody tr th:only-of-type {\n        vertical-align: middle;\n    }\n\n    .dataframe tbody tr th {\n        vertical-align: top;\n    }\n\n    .dataframe thead th {\n        text-align: right;\n    }\n</style>\n<table border=\"1\" class=\"dataframe\">\n  <thead>\n    <tr style=\"text-align: right;\">\n      <th></th>\n      <th>Reason_1</th>\n      <th>Reason_2</th>\n      <th>Reason_3</th>\n      <th>Reason_4</th>\n      <th>Transportation Expense</th>\n      <th>Distance to Work</th>\n      <th>Age</th>\n      <th>Daily Work Load Average</th>\n      <th>Body Mass Index</th>\n      <th>Education</th>\n      <th>Children</th>\n      <th>Pets</th>\n      <th>day_sin</th>\n      <th>day_cos</th>\n      <th>month_sin</th>\n      <th>month_cos</th>\n    </tr>\n  </thead>\n  <tbody>\n    <tr>\n      <th>377</th>\n      <td>0</td>\n      <td>0</td>\n      <td>0</td>\n      <td>1</td>\n      <td>-0.649488</td>\n      <td>1.409207</td>\n      <td>0.246321</td>\n      <td>-0.480601</td>\n      <td>1.003053</td>\n      <td>0</td>\n      <td>-0.911210</td>\n      <td>-0.572675</td>\n      <td>-0.638077</td>\n      <td>1.344109</td>\n      <td>1.114577</td>\n      <td>0.684304</td>\n    </tr>\n    <tr>\n      <th>668</th>\n      <td>0</td>\n      <td>0</td>\n      <td>0</td>\n      <td>1</td>\n      <td>0.204945</td>\n      <td>-0.957200</td>\n      <td>-0.698526</td>\n      <td>-0.835221</td>\n      <td>-0.410166</td>\n      <td>1</td>\n      <td>-0.911210</td>\n      <td>-0.572675</td>\n      <td>1.173648</td>\n      <td>-0.245600</td>\n      <td>0.618181</td>\n      <td>-1.345793</td>\n    </tr>\n    <tr>\n      <th>648</th>\n      <td>0</td>\n      <td>0</td>\n      <td>1</td>\n      <td>0</td>\n      <td>2.127419</td>\n      <td>1.476819</td>\n      <td>-1.328425</td>\n      <td>-0.619074</td>\n      <td>0.060907</td>\n      <td>0</td>\n      <td>-0.017772</td>\n      <td>2.860271</td>\n      <td>0.814814</td>\n      <td>0.854513</td>\n      <td>1.114577</td>\n      <td>-0.801830</td>\n    </tr>\n    <tr>\n      <th>56</th>\n      <td>0</td>\n      <td>0</td>\n      <td>1</td>\n      <td>0</td>\n      <td>0.052367</td>\n      <td>-0.281083</td>\n      <td>-1.328425</td>\n      <td>-0.739567</td>\n      <td>-0.645702</td>\n      <td>0</td>\n      <td>-0.017772</td>\n      <td>1.143798</td>\n      <td>1.173648</td>\n      <td>-0.245600</td>\n      <td>-1.416086</td>\n      <td>-0.058763</td>\n    </tr>\n    <tr>\n      <th>58</th>\n      <td>0</td>\n      <td>0</td>\n      <td>0</td>\n      <td>0</td>\n      <td>2.249481</td>\n      <td>-0.889588</td>\n      <td>-0.856001</td>\n      <td>-0.739567</td>\n      <td>-0.410166</td>\n      <td>0</td>\n      <td>1.769105</td>\n      <td>-0.572675</td>\n      <td>1.173648</td>\n      <td>-0.245600</td>\n      <td>-1.416086</td>\n      <td>-0.058763</td>\n    </tr>\n  </tbody>\n</table>\n</div>"
     },
     "execution_count": 197,
     "metadata": {},
     "output_type": "execute_result"
    }
   ],
   "source": [
    "columns_selecting_sc = ['Transportation Expense', 'Distance to Work', 'Age',\n",
    "                        'Daily Work Load Average', 'Body Mass Index', 'Children',\n",
    "                        'Pets', 'day_sin', 'day_cos', 'month_sin',\n",
    "                        'month_cos']\n",
    "sc = StandardScaler()\n",
    "x_train[columns_selecting_sc] = sc.fit_transform(x_train[columns_selecting_sc])\n",
    "x_train.head()"
   ],
   "metadata": {
    "collapsed": false,
    "ExecuteTime": {
     "end_time": "2024-09-12T10:28:33.091975Z",
     "start_time": "2024-09-12T10:28:33.078144Z"
    }
   },
   "id": "ad030d050e863a9",
   "execution_count": 197
  },
  {
   "cell_type": "markdown",
   "source": [
    "## Training the Logistic Regression model on the Training set"
   ],
   "metadata": {
    "collapsed": false
   },
   "id": "f2e0bbaacdcf12c4"
  },
  {
   "cell_type": "code",
   "outputs": [
    {
     "data": {
      "text/plain": "LogisticRegression()",
      "text/html": "<style>#sk-container-id-2 {\n  /* Definition of color scheme common for light and dark mode */\n  --sklearn-color-text: black;\n  --sklearn-color-line: gray;\n  /* Definition of color scheme for unfitted estimators */\n  --sklearn-color-unfitted-level-0: #fff5e6;\n  --sklearn-color-unfitted-level-1: #f6e4d2;\n  --sklearn-color-unfitted-level-2: #ffe0b3;\n  --sklearn-color-unfitted-level-3: chocolate;\n  /* Definition of color scheme for fitted estimators */\n  --sklearn-color-fitted-level-0: #f0f8ff;\n  --sklearn-color-fitted-level-1: #d4ebff;\n  --sklearn-color-fitted-level-2: #b3dbfd;\n  --sklearn-color-fitted-level-3: cornflowerblue;\n\n  /* Specific color for light theme */\n  --sklearn-color-text-on-default-background: var(--sg-text-color, var(--theme-code-foreground, var(--jp-content-font-color1, black)));\n  --sklearn-color-background: var(--sg-background-color, var(--theme-background, var(--jp-layout-color0, white)));\n  --sklearn-color-border-box: var(--sg-text-color, var(--theme-code-foreground, var(--jp-content-font-color1, black)));\n  --sklearn-color-icon: #696969;\n\n  @media (prefers-color-scheme: dark) {\n    /* Redefinition of color scheme for dark theme */\n    --sklearn-color-text-on-default-background: var(--sg-text-color, var(--theme-code-foreground, var(--jp-content-font-color1, white)));\n    --sklearn-color-background: var(--sg-background-color, var(--theme-background, var(--jp-layout-color0, #111)));\n    --sklearn-color-border-box: var(--sg-text-color, var(--theme-code-foreground, var(--jp-content-font-color1, white)));\n    --sklearn-color-icon: #878787;\n  }\n}\n\n#sk-container-id-2 {\n  color: var(--sklearn-color-text);\n}\n\n#sk-container-id-2 pre {\n  padding: 0;\n}\n\n#sk-container-id-2 input.sk-hidden--visually {\n  border: 0;\n  clip: rect(1px 1px 1px 1px);\n  clip: rect(1px, 1px, 1px, 1px);\n  height: 1px;\n  margin: -1px;\n  overflow: hidden;\n  padding: 0;\n  position: absolute;\n  width: 1px;\n}\n\n#sk-container-id-2 div.sk-dashed-wrapped {\n  border: 1px dashed var(--sklearn-color-line);\n  margin: 0 0.4em 0.5em 0.4em;\n  box-sizing: border-box;\n  padding-bottom: 0.4em;\n  background-color: var(--sklearn-color-background);\n}\n\n#sk-container-id-2 div.sk-container {\n  /* jupyter's `normalize.less` sets `[hidden] { display: none; }`\n     but bootstrap.min.css set `[hidden] { display: none !important; }`\n     so we also need the `!important` here to be able to override the\n     default hidden behavior on the sphinx rendered scikit-learn.org.\n     See: https://github.com/scikit-learn/scikit-learn/issues/21755 */\n  display: inline-block !important;\n  position: relative;\n}\n\n#sk-container-id-2 div.sk-text-repr-fallback {\n  display: none;\n}\n\ndiv.sk-parallel-item,\ndiv.sk-serial,\ndiv.sk-item {\n  /* draw centered vertical line to link estimators */\n  background-image: linear-gradient(var(--sklearn-color-text-on-default-background), var(--sklearn-color-text-on-default-background));\n  background-size: 2px 100%;\n  background-repeat: no-repeat;\n  background-position: center center;\n}\n\n/* Parallel-specific style estimator block */\n\n#sk-container-id-2 div.sk-parallel-item::after {\n  content: \"\";\n  width: 100%;\n  border-bottom: 2px solid var(--sklearn-color-text-on-default-background);\n  flex-grow: 1;\n}\n\n#sk-container-id-2 div.sk-parallel {\n  display: flex;\n  align-items: stretch;\n  justify-content: center;\n  background-color: var(--sklearn-color-background);\n  position: relative;\n}\n\n#sk-container-id-2 div.sk-parallel-item {\n  display: flex;\n  flex-direction: column;\n}\n\n#sk-container-id-2 div.sk-parallel-item:first-child::after {\n  align-self: flex-end;\n  width: 50%;\n}\n\n#sk-container-id-2 div.sk-parallel-item:last-child::after {\n  align-self: flex-start;\n  width: 50%;\n}\n\n#sk-container-id-2 div.sk-parallel-item:only-child::after {\n  width: 0;\n}\n\n/* Serial-specific style estimator block */\n\n#sk-container-id-2 div.sk-serial {\n  display: flex;\n  flex-direction: column;\n  align-items: center;\n  background-color: var(--sklearn-color-background);\n  padding-right: 1em;\n  padding-left: 1em;\n}\n\n\n/* Toggleable style: style used for estimator/Pipeline/ColumnTransformer box that is\nclickable and can be expanded/collapsed.\n- Pipeline and ColumnTransformer use this feature and define the default style\n- Estimators will overwrite some part of the style using the `sk-estimator` class\n*/\n\n/* Pipeline and ColumnTransformer style (default) */\n\n#sk-container-id-2 div.sk-toggleable {\n  /* Default theme specific background. It is overwritten whether we have a\n  specific estimator or a Pipeline/ColumnTransformer */\n  background-color: var(--sklearn-color-background);\n}\n\n/* Toggleable label */\n#sk-container-id-2 label.sk-toggleable__label {\n  cursor: pointer;\n  display: block;\n  width: 100%;\n  margin-bottom: 0;\n  padding: 0.5em;\n  box-sizing: border-box;\n  text-align: center;\n}\n\n#sk-container-id-2 label.sk-toggleable__label-arrow:before {\n  /* Arrow on the left of the label */\n  content: \"▸\";\n  float: left;\n  margin-right: 0.25em;\n  color: var(--sklearn-color-icon);\n}\n\n#sk-container-id-2 label.sk-toggleable__label-arrow:hover:before {\n  color: var(--sklearn-color-text);\n}\n\n/* Toggleable content - dropdown */\n\n#sk-container-id-2 div.sk-toggleable__content {\n  max-height: 0;\n  max-width: 0;\n  overflow: hidden;\n  text-align: left;\n  /* unfitted */\n  background-color: var(--sklearn-color-unfitted-level-0);\n}\n\n#sk-container-id-2 div.sk-toggleable__content.fitted {\n  /* fitted */\n  background-color: var(--sklearn-color-fitted-level-0);\n}\n\n#sk-container-id-2 div.sk-toggleable__content pre {\n  margin: 0.2em;\n  border-radius: 0.25em;\n  color: var(--sklearn-color-text);\n  /* unfitted */\n  background-color: var(--sklearn-color-unfitted-level-0);\n}\n\n#sk-container-id-2 div.sk-toggleable__content.fitted pre {\n  /* unfitted */\n  background-color: var(--sklearn-color-fitted-level-0);\n}\n\n#sk-container-id-2 input.sk-toggleable__control:checked~div.sk-toggleable__content {\n  /* Expand drop-down */\n  max-height: 200px;\n  max-width: 100%;\n  overflow: auto;\n}\n\n#sk-container-id-2 input.sk-toggleable__control:checked~label.sk-toggleable__label-arrow:before {\n  content: \"▾\";\n}\n\n/* Pipeline/ColumnTransformer-specific style */\n\n#sk-container-id-2 div.sk-label input.sk-toggleable__control:checked~label.sk-toggleable__label {\n  color: var(--sklearn-color-text);\n  background-color: var(--sklearn-color-unfitted-level-2);\n}\n\n#sk-container-id-2 div.sk-label.fitted input.sk-toggleable__control:checked~label.sk-toggleable__label {\n  background-color: var(--sklearn-color-fitted-level-2);\n}\n\n/* Estimator-specific style */\n\n/* Colorize estimator box */\n#sk-container-id-2 div.sk-estimator input.sk-toggleable__control:checked~label.sk-toggleable__label {\n  /* unfitted */\n  background-color: var(--sklearn-color-unfitted-level-2);\n}\n\n#sk-container-id-2 div.sk-estimator.fitted input.sk-toggleable__control:checked~label.sk-toggleable__label {\n  /* fitted */\n  background-color: var(--sklearn-color-fitted-level-2);\n}\n\n#sk-container-id-2 div.sk-label label.sk-toggleable__label,\n#sk-container-id-2 div.sk-label label {\n  /* The background is the default theme color */\n  color: var(--sklearn-color-text-on-default-background);\n}\n\n/* On hover, darken the color of the background */\n#sk-container-id-2 div.sk-label:hover label.sk-toggleable__label {\n  color: var(--sklearn-color-text);\n  background-color: var(--sklearn-color-unfitted-level-2);\n}\n\n/* Label box, darken color on hover, fitted */\n#sk-container-id-2 div.sk-label.fitted:hover label.sk-toggleable__label.fitted {\n  color: var(--sklearn-color-text);\n  background-color: var(--sklearn-color-fitted-level-2);\n}\n\n/* Estimator label */\n\n#sk-container-id-2 div.sk-label label {\n  font-family: monospace;\n  font-weight: bold;\n  display: inline-block;\n  line-height: 1.2em;\n}\n\n#sk-container-id-2 div.sk-label-container {\n  text-align: center;\n}\n\n/* Estimator-specific */\n#sk-container-id-2 div.sk-estimator {\n  font-family: monospace;\n  border: 1px dotted var(--sklearn-color-border-box);\n  border-radius: 0.25em;\n  box-sizing: border-box;\n  margin-bottom: 0.5em;\n  /* unfitted */\n  background-color: var(--sklearn-color-unfitted-level-0);\n}\n\n#sk-container-id-2 div.sk-estimator.fitted {\n  /* fitted */\n  background-color: var(--sklearn-color-fitted-level-0);\n}\n\n/* on hover */\n#sk-container-id-2 div.sk-estimator:hover {\n  /* unfitted */\n  background-color: var(--sklearn-color-unfitted-level-2);\n}\n\n#sk-container-id-2 div.sk-estimator.fitted:hover {\n  /* fitted */\n  background-color: var(--sklearn-color-fitted-level-2);\n}\n\n/* Specification for estimator info (e.g. \"i\" and \"?\") */\n\n/* Common style for \"i\" and \"?\" */\n\n.sk-estimator-doc-link,\na:link.sk-estimator-doc-link,\na:visited.sk-estimator-doc-link {\n  float: right;\n  font-size: smaller;\n  line-height: 1em;\n  font-family: monospace;\n  background-color: var(--sklearn-color-background);\n  border-radius: 1em;\n  height: 1em;\n  width: 1em;\n  text-decoration: none !important;\n  margin-left: 1ex;\n  /* unfitted */\n  border: var(--sklearn-color-unfitted-level-1) 1pt solid;\n  color: var(--sklearn-color-unfitted-level-1);\n}\n\n.sk-estimator-doc-link.fitted,\na:link.sk-estimator-doc-link.fitted,\na:visited.sk-estimator-doc-link.fitted {\n  /* fitted */\n  border: var(--sklearn-color-fitted-level-1) 1pt solid;\n  color: var(--sklearn-color-fitted-level-1);\n}\n\n/* On hover */\ndiv.sk-estimator:hover .sk-estimator-doc-link:hover,\n.sk-estimator-doc-link:hover,\ndiv.sk-label-container:hover .sk-estimator-doc-link:hover,\n.sk-estimator-doc-link:hover {\n  /* unfitted */\n  background-color: var(--sklearn-color-unfitted-level-3);\n  color: var(--sklearn-color-background);\n  text-decoration: none;\n}\n\ndiv.sk-estimator.fitted:hover .sk-estimator-doc-link.fitted:hover,\n.sk-estimator-doc-link.fitted:hover,\ndiv.sk-label-container:hover .sk-estimator-doc-link.fitted:hover,\n.sk-estimator-doc-link.fitted:hover {\n  /* fitted */\n  background-color: var(--sklearn-color-fitted-level-3);\n  color: var(--sklearn-color-background);\n  text-decoration: none;\n}\n\n/* Span, style for the box shown on hovering the info icon */\n.sk-estimator-doc-link span {\n  display: none;\n  z-index: 9999;\n  position: relative;\n  font-weight: normal;\n  right: .2ex;\n  padding: .5ex;\n  margin: .5ex;\n  width: min-content;\n  min-width: 20ex;\n  max-width: 50ex;\n  color: var(--sklearn-color-text);\n  box-shadow: 2pt 2pt 4pt #999;\n  /* unfitted */\n  background: var(--sklearn-color-unfitted-level-0);\n  border: .5pt solid var(--sklearn-color-unfitted-level-3);\n}\n\n.sk-estimator-doc-link.fitted span {\n  /* fitted */\n  background: var(--sklearn-color-fitted-level-0);\n  border: var(--sklearn-color-fitted-level-3);\n}\n\n.sk-estimator-doc-link:hover span {\n  display: block;\n}\n\n/* \"?\"-specific style due to the `<a>` HTML tag */\n\n#sk-container-id-2 a.estimator_doc_link {\n  float: right;\n  font-size: 1rem;\n  line-height: 1em;\n  font-family: monospace;\n  background-color: var(--sklearn-color-background);\n  border-radius: 1rem;\n  height: 1rem;\n  width: 1rem;\n  text-decoration: none;\n  /* unfitted */\n  color: var(--sklearn-color-unfitted-level-1);\n  border: var(--sklearn-color-unfitted-level-1) 1pt solid;\n}\n\n#sk-container-id-2 a.estimator_doc_link.fitted {\n  /* fitted */\n  border: var(--sklearn-color-fitted-level-1) 1pt solid;\n  color: var(--sklearn-color-fitted-level-1);\n}\n\n/* On hover */\n#sk-container-id-2 a.estimator_doc_link:hover {\n  /* unfitted */\n  background-color: var(--sklearn-color-unfitted-level-3);\n  color: var(--sklearn-color-background);\n  text-decoration: none;\n}\n\n#sk-container-id-2 a.estimator_doc_link.fitted:hover {\n  /* fitted */\n  background-color: var(--sklearn-color-fitted-level-3);\n}\n</style><div id=\"sk-container-id-2\" class=\"sk-top-container\"><div class=\"sk-text-repr-fallback\"><pre>LogisticRegression()</pre><b>In a Jupyter environment, please rerun this cell to show the HTML representation or trust the notebook. <br />On GitHub, the HTML representation is unable to render, please try loading this page with nbviewer.org.</b></div><div class=\"sk-container\" hidden><div class=\"sk-item\"><div class=\"sk-estimator fitted sk-toggleable\"><input class=\"sk-toggleable__control sk-hidden--visually\" id=\"sk-estimator-id-2\" type=\"checkbox\" checked><label for=\"sk-estimator-id-2\" class=\"sk-toggleable__label fitted sk-toggleable__label-arrow fitted\">&nbsp;&nbsp;LogisticRegression<a class=\"sk-estimator-doc-link fitted\" rel=\"noreferrer\" target=\"_blank\" href=\"https://scikit-learn.org/1.5/modules/generated/sklearn.linear_model.LogisticRegression.html\">?<span>Documentation for LogisticRegression</span></a><span class=\"sk-estimator-doc-link fitted\">i<span>Fitted</span></span></label><div class=\"sk-toggleable__content fitted\"><pre>LogisticRegression()</pre></div> </div></div></div></div>"
     },
     "execution_count": 198,
     "metadata": {},
     "output_type": "execute_result"
    }
   ],
   "source": [
    "classifier=LogisticRegression()\n",
    "classifier.fit(x_train,y_train)"
   ],
   "metadata": {
    "collapsed": false,
    "ExecuteTime": {
     "end_time": "2024-09-12T10:28:33.178676Z",
     "start_time": "2024-09-12T10:28:33.169769Z"
    }
   },
   "id": "331e6991dcfc90b5",
   "execution_count": 198
  },
  {
   "cell_type": "markdown",
   "source": [],
   "metadata": {
    "collapsed": false
   },
   "id": "220592264325e271"
  },
  {
   "cell_type": "markdown",
   "source": [
    "## Seeing the Intercept and Coefficient of the model"
   ],
   "metadata": {
    "collapsed": false
   },
   "id": "3f2c5ea4dba5795"
  },
  {
   "cell_type": "code",
   "outputs": [
    {
     "data": {
      "text/plain": "array([-1.69464474])"
     },
     "execution_count": 199,
     "metadata": {},
     "output_type": "execute_result"
    }
   ],
   "source": [
    "classifier.intercept_"
   ],
   "metadata": {
    "collapsed": false,
    "ExecuteTime": {
     "end_time": "2024-09-12T10:28:33.218170Z",
     "start_time": "2024-09-12T10:28:33.214583Z"
    }
   },
   "id": "ddc23096e6e9e652",
   "execution_count": 199
  },
  {
   "cell_type": "code",
   "outputs": [
    {
     "data": {
      "text/plain": "array([[ 2.83492356],\n       [ 0.60029297],\n       [ 2.95688082],\n       [ 1.02654613],\n       [ 0.52003958],\n       [-0.07198883],\n       [-0.34639388],\n       [ 0.04037417],\n       [ 0.31012734],\n       [-0.14908792],\n       [ 0.41078995],\n       [-0.25624673],\n       [-0.16698627],\n       [ 0.30874108],\n       [-0.15471456],\n       [-0.27830567]])"
     },
     "execution_count": 200,
     "metadata": {},
     "output_type": "execute_result"
    }
   ],
   "source": [
    "classifier.coef_.T"
   ],
   "metadata": {
    "collapsed": false,
    "ExecuteTime": {
     "end_time": "2024-09-12T10:28:33.328191Z",
     "start_time": "2024-09-12T10:28:33.324931Z"
    }
   },
   "id": "de835dce32fd7f78",
   "execution_count": 200
  },
  {
   "cell_type": "markdown",
   "source": [
    "### making dataframe to showing it better"
   ],
   "metadata": {
    "collapsed": false
   },
   "id": "790d67ff59900c49"
  },
  {
   "cell_type": "code",
   "outputs": [],
   "source": [
    "feature_names=df_ml.columns"
   ],
   "metadata": {
    "collapsed": false,
    "ExecuteTime": {
     "end_time": "2024-09-12T10:28:33.393637Z",
     "start_time": "2024-09-12T10:28:33.391025Z"
    }
   },
   "id": "8eebe2ebd99f6af",
   "execution_count": 201
  },
  {
   "cell_type": "code",
   "outputs": [],
   "source": [
    "feature_names=['Reason_1', 'Reason_2', 'Reason_3', 'Reason_4',\n",
    "       'Transportation Expense', 'Distance to Work', 'Age',\n",
    "       'Daily Work Load Average', 'Body Mass Index', 'Education', 'Children',\n",
    "       'Pets', 'day_sin', 'day_cos', 'month_sin', 'month_cos']"
   ],
   "metadata": {
    "collapsed": false,
    "ExecuteTime": {
     "end_time": "2024-09-12T10:28:33.560420Z",
     "start_time": "2024-09-12T10:28:33.557259Z"
    }
   },
   "id": "7901e5540563443a",
   "execution_count": 202
  },
  {
   "cell_type": "code",
   "outputs": [
    {
     "data": {
      "text/plain": "              Feature Names  Coefficient\n0                  Reason_1     2.834924\n1                  Reason_2     0.600293\n2                  Reason_3     2.956881\n3                  Reason_4     1.026546\n4    Transportation Expense     0.520040\n5          Distance to Work    -0.071989\n6                       Age    -0.346394\n7   Daily Work Load Average     0.040374\n8           Body Mass Index     0.310127\n9                 Education    -0.149088\n10                 Children     0.410790\n11                     Pets    -0.256247\n12                  day_sin    -0.166986\n13                  day_cos     0.308741\n14                month_sin    -0.154715\n15                month_cos    -0.278306",
      "text/html": "<div>\n<style scoped>\n    .dataframe tbody tr th:only-of-type {\n        vertical-align: middle;\n    }\n\n    .dataframe tbody tr th {\n        vertical-align: top;\n    }\n\n    .dataframe thead th {\n        text-align: right;\n    }\n</style>\n<table border=\"1\" class=\"dataframe\">\n  <thead>\n    <tr style=\"text-align: right;\">\n      <th></th>\n      <th>Feature Names</th>\n      <th>Coefficient</th>\n    </tr>\n  </thead>\n  <tbody>\n    <tr>\n      <th>0</th>\n      <td>Reason_1</td>\n      <td>2.834924</td>\n    </tr>\n    <tr>\n      <th>1</th>\n      <td>Reason_2</td>\n      <td>0.600293</td>\n    </tr>\n    <tr>\n      <th>2</th>\n      <td>Reason_3</td>\n      <td>2.956881</td>\n    </tr>\n    <tr>\n      <th>3</th>\n      <td>Reason_4</td>\n      <td>1.026546</td>\n    </tr>\n    <tr>\n      <th>4</th>\n      <td>Transportation Expense</td>\n      <td>0.520040</td>\n    </tr>\n    <tr>\n      <th>5</th>\n      <td>Distance to Work</td>\n      <td>-0.071989</td>\n    </tr>\n    <tr>\n      <th>6</th>\n      <td>Age</td>\n      <td>-0.346394</td>\n    </tr>\n    <tr>\n      <th>7</th>\n      <td>Daily Work Load Average</td>\n      <td>0.040374</td>\n    </tr>\n    <tr>\n      <th>8</th>\n      <td>Body Mass Index</td>\n      <td>0.310127</td>\n    </tr>\n    <tr>\n      <th>9</th>\n      <td>Education</td>\n      <td>-0.149088</td>\n    </tr>\n    <tr>\n      <th>10</th>\n      <td>Children</td>\n      <td>0.410790</td>\n    </tr>\n    <tr>\n      <th>11</th>\n      <td>Pets</td>\n      <td>-0.256247</td>\n    </tr>\n    <tr>\n      <th>12</th>\n      <td>day_sin</td>\n      <td>-0.166986</td>\n    </tr>\n    <tr>\n      <th>13</th>\n      <td>day_cos</td>\n      <td>0.308741</td>\n    </tr>\n    <tr>\n      <th>14</th>\n      <td>month_sin</td>\n      <td>-0.154715</td>\n    </tr>\n    <tr>\n      <th>15</th>\n      <td>month_cos</td>\n      <td>-0.278306</td>\n    </tr>\n  </tbody>\n</table>\n</div>"
     },
     "execution_count": 203,
     "metadata": {},
     "output_type": "execute_result"
    }
   ],
   "source": [
    "coef_table=pd.DataFrame(feature_names,columns=['Feature Names'])\n",
    "coef_table['Coefficient']=classifier.coef_.T\n",
    "coef_table"
   ],
   "metadata": {
    "collapsed": false,
    "ExecuteTime": {
     "end_time": "2024-09-12T10:28:33.618380Z",
     "start_time": "2024-09-12T10:28:33.612312Z"
    }
   },
   "id": "26a5453fd52fb750",
   "execution_count": 203
  },
  {
   "cell_type": "markdown",
   "source": [],
   "metadata": {
    "collapsed": false
   },
   "id": "5a73b4d3609dd1e3"
  },
  {
   "cell_type": "markdown",
   "source": [
    "## Predicting the Test set results\n"
   ],
   "metadata": {
    "collapsed": false
   },
   "id": "b0a277f76ba991af"
  },
  {
   "cell_type": "code",
   "outputs": [
    {
     "data": {
      "text/plain": "     Reason_1  Reason_2  Reason_3  Reason_4  Transportation Expense  \\\n377         0         0         0         1               -0.649488   \n668         0         0         0         1                0.204945   \n648         0         0         1         0                2.127419   \n56          0         0         1         0                0.052367   \n58          0         0         0         0                2.249481   \n..        ...       ...       ...       ...                     ...   \n353         0         0         1         0                1.028862   \n355         0         0         1         0               -1.580210   \n658         0         0         0         1               -0.649488   \n73          0         0         0         1                0.052367   \n455         0         0         0         1                0.052367   \n\n     Distance to Work       Age  Daily Work Load Average  Body Mass Index  \\\n377          1.409207  0.246321                -0.480601         1.003053   \n668         -0.957200 -0.698526                -0.835221        -0.410166   \n648          1.476819 -1.328425                -0.619074         0.060907   \n56          -0.281083 -1.328425                -0.739567        -0.645702   \n58          -0.889588 -0.856001                -0.739567        -0.410166   \n..                ...       ...                      ...              ...   \n353          0.395033 -0.541052                -0.860937         0.767517   \n355         -1.362869  0.088846                 1.478618         0.296444   \n658         -0.281083 -1.013476                -0.619074        -1.823384   \n73          -0.281083 -1.328425                -0.439360        -0.645702   \n455         -0.281083 -1.328425                -1.019667        -0.645702   \n\n     Education  Children      Pets   day_sin   day_cos  month_sin  month_cos  \n377          0 -0.911210 -0.572675 -0.638077  1.344109   1.114577   0.684304  \n668          1 -0.911210 -0.572675  1.173648 -0.245600   0.618181  -1.345793  \n648          0 -0.017772  2.860271  0.814814  0.854513   1.114577  -0.801830  \n56           0 -0.017772  1.143798  1.173648 -0.245600  -1.416086  -0.058763  \n58           0  1.769105 -0.572675  1.173648 -0.245600  -1.416086  -0.058763  \n..         ...       ...       ...       ...       ...        ...        ...  \n353          0  0.875666  0.285561 -0.638077  1.344109  -0.059908   1.427371  \n355          0 -0.911210 -0.572675 -0.638077  1.344109   0.618181   1.228267  \n658          1 -0.911210 -0.572675 -1.444370 -1.127822   1.114577  -0.801830  \n73           0 -0.017772  1.143798  1.173648 -0.245600  -1.234393   0.684304  \n455          0 -0.017772  1.143798  0.168217 -1.127822  -0.737997  -1.345793  \n\n[553 rows x 16 columns]",
      "text/html": "<div>\n<style scoped>\n    .dataframe tbody tr th:only-of-type {\n        vertical-align: middle;\n    }\n\n    .dataframe tbody tr th {\n        vertical-align: top;\n    }\n\n    .dataframe thead th {\n        text-align: right;\n    }\n</style>\n<table border=\"1\" class=\"dataframe\">\n  <thead>\n    <tr style=\"text-align: right;\">\n      <th></th>\n      <th>Reason_1</th>\n      <th>Reason_2</th>\n      <th>Reason_3</th>\n      <th>Reason_4</th>\n      <th>Transportation Expense</th>\n      <th>Distance to Work</th>\n      <th>Age</th>\n      <th>Daily Work Load Average</th>\n      <th>Body Mass Index</th>\n      <th>Education</th>\n      <th>Children</th>\n      <th>Pets</th>\n      <th>day_sin</th>\n      <th>day_cos</th>\n      <th>month_sin</th>\n      <th>month_cos</th>\n    </tr>\n  </thead>\n  <tbody>\n    <tr>\n      <th>377</th>\n      <td>0</td>\n      <td>0</td>\n      <td>0</td>\n      <td>1</td>\n      <td>-0.649488</td>\n      <td>1.409207</td>\n      <td>0.246321</td>\n      <td>-0.480601</td>\n      <td>1.003053</td>\n      <td>0</td>\n      <td>-0.911210</td>\n      <td>-0.572675</td>\n      <td>-0.638077</td>\n      <td>1.344109</td>\n      <td>1.114577</td>\n      <td>0.684304</td>\n    </tr>\n    <tr>\n      <th>668</th>\n      <td>0</td>\n      <td>0</td>\n      <td>0</td>\n      <td>1</td>\n      <td>0.204945</td>\n      <td>-0.957200</td>\n      <td>-0.698526</td>\n      <td>-0.835221</td>\n      <td>-0.410166</td>\n      <td>1</td>\n      <td>-0.911210</td>\n      <td>-0.572675</td>\n      <td>1.173648</td>\n      <td>-0.245600</td>\n      <td>0.618181</td>\n      <td>-1.345793</td>\n    </tr>\n    <tr>\n      <th>648</th>\n      <td>0</td>\n      <td>0</td>\n      <td>1</td>\n      <td>0</td>\n      <td>2.127419</td>\n      <td>1.476819</td>\n      <td>-1.328425</td>\n      <td>-0.619074</td>\n      <td>0.060907</td>\n      <td>0</td>\n      <td>-0.017772</td>\n      <td>2.860271</td>\n      <td>0.814814</td>\n      <td>0.854513</td>\n      <td>1.114577</td>\n      <td>-0.801830</td>\n    </tr>\n    <tr>\n      <th>56</th>\n      <td>0</td>\n      <td>0</td>\n      <td>1</td>\n      <td>0</td>\n      <td>0.052367</td>\n      <td>-0.281083</td>\n      <td>-1.328425</td>\n      <td>-0.739567</td>\n      <td>-0.645702</td>\n      <td>0</td>\n      <td>-0.017772</td>\n      <td>1.143798</td>\n      <td>1.173648</td>\n      <td>-0.245600</td>\n      <td>-1.416086</td>\n      <td>-0.058763</td>\n    </tr>\n    <tr>\n      <th>58</th>\n      <td>0</td>\n      <td>0</td>\n      <td>0</td>\n      <td>0</td>\n      <td>2.249481</td>\n      <td>-0.889588</td>\n      <td>-0.856001</td>\n      <td>-0.739567</td>\n      <td>-0.410166</td>\n      <td>0</td>\n      <td>1.769105</td>\n      <td>-0.572675</td>\n      <td>1.173648</td>\n      <td>-0.245600</td>\n      <td>-1.416086</td>\n      <td>-0.058763</td>\n    </tr>\n    <tr>\n      <th>...</th>\n      <td>...</td>\n      <td>...</td>\n      <td>...</td>\n      <td>...</td>\n      <td>...</td>\n      <td>...</td>\n      <td>...</td>\n      <td>...</td>\n      <td>...</td>\n      <td>...</td>\n      <td>...</td>\n      <td>...</td>\n      <td>...</td>\n      <td>...</td>\n      <td>...</td>\n      <td>...</td>\n    </tr>\n    <tr>\n      <th>353</th>\n      <td>0</td>\n      <td>0</td>\n      <td>1</td>\n      <td>0</td>\n      <td>1.028862</td>\n      <td>0.395033</td>\n      <td>-0.541052</td>\n      <td>-0.860937</td>\n      <td>0.767517</td>\n      <td>0</td>\n      <td>0.875666</td>\n      <td>0.285561</td>\n      <td>-0.638077</td>\n      <td>1.344109</td>\n      <td>-0.059908</td>\n      <td>1.427371</td>\n    </tr>\n    <tr>\n      <th>355</th>\n      <td>0</td>\n      <td>0</td>\n      <td>1</td>\n      <td>0</td>\n      <td>-1.580210</td>\n      <td>-1.362869</td>\n      <td>0.088846</td>\n      <td>1.478618</td>\n      <td>0.296444</td>\n      <td>0</td>\n      <td>-0.911210</td>\n      <td>-0.572675</td>\n      <td>-0.638077</td>\n      <td>1.344109</td>\n      <td>0.618181</td>\n      <td>1.228267</td>\n    </tr>\n    <tr>\n      <th>658</th>\n      <td>0</td>\n      <td>0</td>\n      <td>0</td>\n      <td>1</td>\n      <td>-0.649488</td>\n      <td>-0.281083</td>\n      <td>-1.013476</td>\n      <td>-0.619074</td>\n      <td>-1.823384</td>\n      <td>1</td>\n      <td>-0.911210</td>\n      <td>-0.572675</td>\n      <td>-1.444370</td>\n      <td>-1.127822</td>\n      <td>1.114577</td>\n      <td>-0.801830</td>\n    </tr>\n    <tr>\n      <th>73</th>\n      <td>0</td>\n      <td>0</td>\n      <td>0</td>\n      <td>1</td>\n      <td>0.052367</td>\n      <td>-0.281083</td>\n      <td>-1.328425</td>\n      <td>-0.439360</td>\n      <td>-0.645702</td>\n      <td>0</td>\n      <td>-0.017772</td>\n      <td>1.143798</td>\n      <td>1.173648</td>\n      <td>-0.245600</td>\n      <td>-1.234393</td>\n      <td>0.684304</td>\n    </tr>\n    <tr>\n      <th>455</th>\n      <td>0</td>\n      <td>0</td>\n      <td>0</td>\n      <td>1</td>\n      <td>0.052367</td>\n      <td>-0.281083</td>\n      <td>-1.328425</td>\n      <td>-1.019667</td>\n      <td>-0.645702</td>\n      <td>0</td>\n      <td>-0.017772</td>\n      <td>1.143798</td>\n      <td>0.168217</td>\n      <td>-1.127822</td>\n      <td>-0.737997</td>\n      <td>-1.345793</td>\n    </tr>\n  </tbody>\n</table>\n<p>553 rows × 16 columns</p>\n</div>"
     },
     "execution_count": 204,
     "metadata": {},
     "output_type": "execute_result"
    }
   ],
   "source": [
    "x_train"
   ],
   "metadata": {
    "collapsed": false,
    "ExecuteTime": {
     "end_time": "2024-09-12T10:28:33.680372Z",
     "start_time": "2024-09-12T10:28:33.669274Z"
    }
   },
   "id": "ca2804920a12f34c",
   "execution_count": 204
  },
  {
   "cell_type": "code",
   "outputs": [
    {
     "data": {
      "text/plain": "     Reason_1  Reason_2  Reason_3  Reason_4  Transportation Expense  \\\n427         1         0         0         0                     179   \n337         0         0         0         1                     179   \n568         1         0         0         0                     289   \n579         1         0         0         0                     248   \n411         0         0         0         1                     330   \n..        ...       ...       ...       ...                     ...   \n293         1         0         0         0                     118   \n164         1         0         0         0                     155   \n306         1         0         0         0                     361   \n207         0         0         0         1                     155   \n171         0         0         0         1                     225   \n\n     Distance to Work  Age  Daily Work Load Average  Body Mass Index  \\\n427                22   40                  246.074               22   \n337                51   38                  236.629               31   \n568                48   49                  313.532               36   \n579                25   47                  264.249               32   \n411                16   28                  239.409               25   \n..                ...  ...                      ...              ...   \n293                10   37                  265.017               28   \n164                12   34                  343.253               25   \n306                52   28                  265.017               27   \n207                12   34                  378.884               25   \n171                26   28                  343.253               24   \n\n     Education  Children  Pets   day_sin   day_cos     month_sin     month_cos  \n427          1         2     0  0.000000  1.000000  5.000000e-01 -8.660254e-01  \n337          0         0     0  0.000000  1.000000 -2.449294e-16  1.000000e+00  \n568          0         0     2  0.433884 -0.900969  5.000000e-01  8.660254e-01  \n579          0         2     1  0.974928 -0.222521  8.660254e-01  5.000000e-01  \n411          1         0     0  0.974928 -0.222521  8.660254e-01 -5.000000e-01  \n..         ...       ...   ...       ...       ...           ...           ...  \n293          0         0     0  0.974928 -0.222521 -8.660254e-01  5.000000e-01  \n164          0         2     0  0.781831  0.623490  1.000000e+00  6.123234e-17  \n306          0         1     4  0.974928 -0.222521 -8.660254e-01  5.000000e-01  \n207          0         2     0  0.000000  1.000000  5.000000e-01 -8.660254e-01  \n171          0         1     2  0.974928 -0.222521  1.000000e+00  6.123234e-17  \n\n[139 rows x 16 columns]",
      "text/html": "<div>\n<style scoped>\n    .dataframe tbody tr th:only-of-type {\n        vertical-align: middle;\n    }\n\n    .dataframe tbody tr th {\n        vertical-align: top;\n    }\n\n    .dataframe thead th {\n        text-align: right;\n    }\n</style>\n<table border=\"1\" class=\"dataframe\">\n  <thead>\n    <tr style=\"text-align: right;\">\n      <th></th>\n      <th>Reason_1</th>\n      <th>Reason_2</th>\n      <th>Reason_3</th>\n      <th>Reason_4</th>\n      <th>Transportation Expense</th>\n      <th>Distance to Work</th>\n      <th>Age</th>\n      <th>Daily Work Load Average</th>\n      <th>Body Mass Index</th>\n      <th>Education</th>\n      <th>Children</th>\n      <th>Pets</th>\n      <th>day_sin</th>\n      <th>day_cos</th>\n      <th>month_sin</th>\n      <th>month_cos</th>\n    </tr>\n  </thead>\n  <tbody>\n    <tr>\n      <th>427</th>\n      <td>1</td>\n      <td>0</td>\n      <td>0</td>\n      <td>0</td>\n      <td>179</td>\n      <td>22</td>\n      <td>40</td>\n      <td>246.074</td>\n      <td>22</td>\n      <td>1</td>\n      <td>2</td>\n      <td>0</td>\n      <td>0.000000</td>\n      <td>1.000000</td>\n      <td>5.000000e-01</td>\n      <td>-8.660254e-01</td>\n    </tr>\n    <tr>\n      <th>337</th>\n      <td>0</td>\n      <td>0</td>\n      <td>0</td>\n      <td>1</td>\n      <td>179</td>\n      <td>51</td>\n      <td>38</td>\n      <td>236.629</td>\n      <td>31</td>\n      <td>0</td>\n      <td>0</td>\n      <td>0</td>\n      <td>0.000000</td>\n      <td>1.000000</td>\n      <td>-2.449294e-16</td>\n      <td>1.000000e+00</td>\n    </tr>\n    <tr>\n      <th>568</th>\n      <td>1</td>\n      <td>0</td>\n      <td>0</td>\n      <td>0</td>\n      <td>289</td>\n      <td>48</td>\n      <td>49</td>\n      <td>313.532</td>\n      <td>36</td>\n      <td>0</td>\n      <td>0</td>\n      <td>2</td>\n      <td>0.433884</td>\n      <td>-0.900969</td>\n      <td>5.000000e-01</td>\n      <td>8.660254e-01</td>\n    </tr>\n    <tr>\n      <th>579</th>\n      <td>1</td>\n      <td>0</td>\n      <td>0</td>\n      <td>0</td>\n      <td>248</td>\n      <td>25</td>\n      <td>47</td>\n      <td>264.249</td>\n      <td>32</td>\n      <td>0</td>\n      <td>2</td>\n      <td>1</td>\n      <td>0.974928</td>\n      <td>-0.222521</td>\n      <td>8.660254e-01</td>\n      <td>5.000000e-01</td>\n    </tr>\n    <tr>\n      <th>411</th>\n      <td>0</td>\n      <td>0</td>\n      <td>0</td>\n      <td>1</td>\n      <td>330</td>\n      <td>16</td>\n      <td>28</td>\n      <td>239.409</td>\n      <td>25</td>\n      <td>1</td>\n      <td>0</td>\n      <td>0</td>\n      <td>0.974928</td>\n      <td>-0.222521</td>\n      <td>8.660254e-01</td>\n      <td>-5.000000e-01</td>\n    </tr>\n    <tr>\n      <th>...</th>\n      <td>...</td>\n      <td>...</td>\n      <td>...</td>\n      <td>...</td>\n      <td>...</td>\n      <td>...</td>\n      <td>...</td>\n      <td>...</td>\n      <td>...</td>\n      <td>...</td>\n      <td>...</td>\n      <td>...</td>\n      <td>...</td>\n      <td>...</td>\n      <td>...</td>\n      <td>...</td>\n    </tr>\n    <tr>\n      <th>293</th>\n      <td>1</td>\n      <td>0</td>\n      <td>0</td>\n      <td>0</td>\n      <td>118</td>\n      <td>10</td>\n      <td>37</td>\n      <td>265.017</td>\n      <td>28</td>\n      <td>0</td>\n      <td>0</td>\n      <td>0</td>\n      <td>0.974928</td>\n      <td>-0.222521</td>\n      <td>-8.660254e-01</td>\n      <td>5.000000e-01</td>\n    </tr>\n    <tr>\n      <th>164</th>\n      <td>1</td>\n      <td>0</td>\n      <td>0</td>\n      <td>0</td>\n      <td>155</td>\n      <td>12</td>\n      <td>34</td>\n      <td>343.253</td>\n      <td>25</td>\n      <td>0</td>\n      <td>2</td>\n      <td>0</td>\n      <td>0.781831</td>\n      <td>0.623490</td>\n      <td>1.000000e+00</td>\n      <td>6.123234e-17</td>\n    </tr>\n    <tr>\n      <th>306</th>\n      <td>1</td>\n      <td>0</td>\n      <td>0</td>\n      <td>0</td>\n      <td>361</td>\n      <td>52</td>\n      <td>28</td>\n      <td>265.017</td>\n      <td>27</td>\n      <td>0</td>\n      <td>1</td>\n      <td>4</td>\n      <td>0.974928</td>\n      <td>-0.222521</td>\n      <td>-8.660254e-01</td>\n      <td>5.000000e-01</td>\n    </tr>\n    <tr>\n      <th>207</th>\n      <td>0</td>\n      <td>0</td>\n      <td>0</td>\n      <td>1</td>\n      <td>155</td>\n      <td>12</td>\n      <td>34</td>\n      <td>378.884</td>\n      <td>25</td>\n      <td>0</td>\n      <td>2</td>\n      <td>0</td>\n      <td>0.000000</td>\n      <td>1.000000</td>\n      <td>5.000000e-01</td>\n      <td>-8.660254e-01</td>\n    </tr>\n    <tr>\n      <th>171</th>\n      <td>0</td>\n      <td>0</td>\n      <td>0</td>\n      <td>1</td>\n      <td>225</td>\n      <td>26</td>\n      <td>28</td>\n      <td>343.253</td>\n      <td>24</td>\n      <td>0</td>\n      <td>1</td>\n      <td>2</td>\n      <td>0.974928</td>\n      <td>-0.222521</td>\n      <td>1.000000e+00</td>\n      <td>6.123234e-17</td>\n    </tr>\n  </tbody>\n</table>\n<p>139 rows × 16 columns</p>\n</div>"
     },
     "execution_count": 205,
     "metadata": {},
     "output_type": "execute_result"
    }
   ],
   "source": [
    "x_test"
   ],
   "metadata": {
    "collapsed": false,
    "ExecuteTime": {
     "end_time": "2024-09-12T10:28:33.717473Z",
     "start_time": "2024-09-12T10:28:33.707331Z"
    }
   },
   "id": "834112998215ffba",
   "execution_count": 205
  },
  {
   "cell_type": "code",
   "outputs": [
    {
     "name": "stdout",
     "output_type": "stream",
     "text": [
      "[[0 1]\n",
      " [0 0]\n",
      " [1 1]\n",
      " [1 1]\n",
      " [1 0]\n",
      " [0 0]\n",
      " [0 0]\n",
      " [0 0]\n",
      " [1 0]\n",
      " [0 0]\n",
      " [1 1]\n",
      " [0 0]\n",
      " [0 0]\n",
      " [1 1]\n",
      " [0 0]\n",
      " [1 1]\n",
      " [0 0]\n",
      " [0 1]\n",
      " [1 1]\n",
      " [1 1]\n",
      " [0 0]\n",
      " [0 0]\n",
      " [1 1]\n",
      " [1 1]\n",
      " [1 1]\n",
      " [1 1]\n",
      " [1 1]\n",
      " [0 0]\n",
      " [0 0]\n",
      " [1 1]\n",
      " [1 1]\n",
      " [0 0]\n",
      " [1 1]\n",
      " [0 1]\n",
      " [0 0]\n",
      " [0 0]\n",
      " [0 0]\n",
      " [0 0]\n",
      " [1 1]\n",
      " [0 1]\n",
      " [0 0]\n",
      " [1 1]\n",
      " [1 1]\n",
      " [0 0]\n",
      " [0 1]\n",
      " [0 1]\n",
      " [1 1]\n",
      " [1 1]\n",
      " [1 1]\n",
      " [0 1]\n",
      " [1 0]\n",
      " [1 1]\n",
      " [1 1]\n",
      " [0 0]\n",
      " [1 1]\n",
      " [1 0]\n",
      " [0 0]\n",
      " [1 1]\n",
      " [1 1]\n",
      " [0 0]\n",
      " [0 0]\n",
      " [1 0]\n",
      " [0 1]\n",
      " [1 1]\n",
      " [0 0]\n",
      " [0 0]\n",
      " [0 0]\n",
      " [0 0]\n",
      " [0 0]\n",
      " [1 1]\n",
      " [0 0]\n",
      " [0 0]\n",
      " [1 0]\n",
      " [0 0]\n",
      " [1 1]\n",
      " [0 0]\n",
      " [1 1]\n",
      " [0 0]\n",
      " [0 0]\n",
      " [1 1]\n",
      " [1 0]\n",
      " [0 0]\n",
      " [1 1]\n",
      " [1 0]\n",
      " [1 1]\n",
      " [0 0]\n",
      " [0 1]\n",
      " [1 1]\n",
      " [0 0]\n",
      " [1 0]\n",
      " [1 1]\n",
      " [0 0]\n",
      " [0 0]\n",
      " [0 0]\n",
      " [0 0]\n",
      " [0 0]\n",
      " [1 1]\n",
      " [1 0]\n",
      " [0 1]\n",
      " [0 0]\n",
      " [0 1]\n",
      " [1 1]\n",
      " [1 0]\n",
      " [0 0]\n",
      " [1 1]\n",
      " [1 0]\n",
      " [1 1]\n",
      " [0 0]\n",
      " [0 1]\n",
      " [0 0]\n",
      " [1 1]\n",
      " [0 0]\n",
      " [0 0]\n",
      " [0 0]\n",
      " [0 0]\n",
      " [1 0]\n",
      " [0 0]\n",
      " [0 0]\n",
      " [0 1]\n",
      " [1 1]\n",
      " [0 0]\n",
      " [0 0]\n",
      " [1 1]\n",
      " [0 0]\n",
      " [0 0]\n",
      " [1 0]\n",
      " [0 0]\n",
      " [1 1]\n",
      " [0 0]\n",
      " [1 1]\n",
      " [0 0]\n",
      " [0 0]\n",
      " [0 0]\n",
      " [0 0]\n",
      " [0 0]\n",
      " [1 1]\n",
      " [1 1]\n",
      " [0 1]\n",
      " [0 0]]\n"
     ]
    }
   ],
   "source": [
    "x_test[columns_selecting_sc]=sc.transform(x_test[columns_selecting_sc])\n",
    "y_pred=classifier.predict(x_test)\n",
    "print(np.concatenate((pd.DataFrame(y_test),pd.DataFrame(y_pred)),axis=1))"
   ],
   "metadata": {
    "collapsed": false,
    "ExecuteTime": {
     "end_time": "2024-09-12T10:28:33.790961Z",
     "start_time": "2024-09-12T10:28:33.784326Z"
    }
   },
   "id": "ee8c530b22bcea47",
   "execution_count": 206
  },
  {
   "cell_type": "markdown",
   "source": [],
   "metadata": {
    "collapsed": false
   },
   "id": "ba880c5fb6a6e79f"
  },
  {
   "cell_type": "markdown",
   "source": [
    "## Making the Confusion Matrix"
   ],
   "metadata": {
    "collapsed": false
   },
   "id": "3df3d53f88dad553"
  },
  {
   "cell_type": "code",
   "outputs": [
    {
     "name": "stdout",
     "output_type": "stream",
     "text": [
      "[[65 14]\n",
      " [14 46]]\n"
     ]
    }
   ],
   "source": [
    "from sklearn.metrics import confusion_matrix\n",
    "cm=confusion_matrix(y_test,y_pred)\n",
    "print(cm)"
   ],
   "metadata": {
    "collapsed": false,
    "ExecuteTime": {
     "end_time": "2024-09-12T10:28:33.872755Z",
     "start_time": "2024-09-12T10:28:33.868957Z"
    }
   },
   "id": "99699a548b075bc3",
   "execution_count": 207
  },
  {
   "cell_type": "code",
   "outputs": [
    {
     "data": {
      "text/plain": "<Figure size 640x480 with 2 Axes>",
      "image/png": "[encoded data removed]"
     },
     "metadata": {},
     "output_type": "display_data"
    }
   ],
   "source": [
    "# visualizing confusion matrix\n",
    "sns.heatmap(cm,annot=True, cmap=\"Blues\")\n",
    "plt.xticks([0.5, 1.5], ['Positive', 'Negative'])  # Modify x-axis tick labels\n",
    "plt.yticks([0.5, 1.5], ['Positive', 'Negative'])  # Modify y-axis tick labels\n",
    "plt.show()"
   ],
   "metadata": {
    "collapsed": false,
    "ExecuteTime": {
     "end_time": "2024-09-12T10:28:34.161215Z",
     "start_time": "2024-09-12T10:28:34.062278Z"
    }
   },
   "id": "c1e3500eb01c17f0",
   "execution_count": 208
  },
  {
   "cell_type": "markdown",
   "source": [],
   "metadata": {
    "collapsed": false
   },
   "id": "c37a35db956522e0"
  },
  {
   "cell_type": "markdown",
   "source": [
    "\n",
    "## Accuracy Score"
   ],
   "metadata": {
    "collapsed": false
   },
   "id": "c3d81421a98127dc"
  },
  {
   "cell_type": "code",
   "outputs": [
    {
     "data": {
      "text/plain": "0.7985611510791367"
     },
     "execution_count": 209,
     "metadata": {},
     "output_type": "execute_result"
    }
   ],
   "source": [
    "from sklearn.metrics import accuracy_score\n",
    "accuracy_score(y_test,y_pred)"
   ],
   "metadata": {
    "collapsed": false,
    "ExecuteTime": {
     "end_time": "2024-09-12T10:28:34.165596Z",
     "start_time": "2024-09-12T10:28:34.161215Z"
    }
   },
   "id": "ce73bfb7ff14314e",
   "execution_count": 209
  },
  {
   "cell_type": "markdown",
   "source": [],
   "metadata": {
    "collapsed": false
   },
   "id": "18346500ef79f35d"
  },
  {
   "cell_type": "markdown",
   "source": [
    "## Classification Report"
   ],
   "metadata": {
    "collapsed": false
   },
   "id": "d287c53c3ca1bdab"
  },
  {
   "cell_type": "code",
   "outputs": [
    {
     "name": "stdout",
     "output_type": "stream",
     "text": [
      "              precision    recall  f1-score   support\n",
      "\n",
      "           0       0.82      0.82      0.82        79\n",
      "           1       0.77      0.77      0.77        60\n",
      "\n",
      "    accuracy                           0.80       139\n",
      "   macro avg       0.79      0.79      0.79       139\n",
      "weighted avg       0.80      0.80      0.80       139\n"
     ]
    }
   ],
   "source": [
    "from sklearn.metrics import classification_report\n",
    "print(classification_report(y_test, y_pred))"
   ],
   "metadata": {
    "collapsed": false,
    "ExecuteTime": {
     "end_time": "2024-09-12T10:28:34.300440Z",
     "start_time": "2024-09-12T10:28:34.292287Z"
    }
   },
   "id": "1cfd2c60cb594a09",
   "execution_count": 210
  },
  {
   "cell_type": "markdown",
   "source": [],
   "metadata": {
    "collapsed": false
   },
   "id": "aff544b0cbcc9c55"
  },
  {
   "cell_type": "markdown",
   "source": [
    "## Saving the Model"
   ],
   "metadata": {
    "collapsed": false
   },
   "id": "5ff42f83770c5bd8"
  },
  {
   "cell_type": "code",
   "outputs": [],
   "source": [
    "import pickle\n",
    "with open(\"model\", \"wb\") as file:\n",
    "    pickle.dump(classifier,file)"
   ],
   "metadata": {
    "collapsed": false,
    "ExecuteTime": {
     "end_time": "2024-09-12T10:28:34.331526Z",
     "start_time": "2024-09-12T10:28:34.328385Z"
    }
   },
   "id": "36360bb89c9c516",
   "execution_count": 211
  },
  {
   "cell_type": "markdown",
   "source": [
    "## Save The Scale"
   ],
   "metadata": {
    "collapsed": false
   },
   "id": "1b5192b7dd87fae4"
  },
  {
   "cell_type": "code",
   "outputs": [],
   "source": [
    "with open(\"model_2\", \"wb\") as file_2:\n",
    "    pickle.dump(sc,file_2)"
   ],
   "metadata": {
    "collapsed": false,
    "ExecuteTime": {
     "end_time": "2024-09-12T10:28:34.476197Z",
     "start_time": "2024-09-12T10:28:34.473179Z"
    }
   },
   "id": "6c2b0694f71642e8",
   "execution_count": 212
  }
 ],
 "metadata": {
  "kernelspec": {
   "display_name": "Python 3",
   "language": "python",
   "name": "python3"
  },
  "language_info": {
   "codemirror_mode": {
    "name": "ipython",
    "version": 2
   },
   "file_extension": ".py",
   "mimetype": "text/x-python",
   "name": "python",
   "nbconvert_exporter": "python",
   "pygments_lexer": "ipython2",
   "version": "2.7.6"
  }
 },
 "nbformat": 4,
 "nbformat_minor": 5
}
